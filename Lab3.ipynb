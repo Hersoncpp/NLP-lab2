{
 "cells": [
  {
   "cell_type": "code",
   "execution_count": 274,
   "metadata": {},
   "outputs": [
    {
     "name": "stdout",
     "output_type": "stream",
     "text": [
      "Requirement already satisfied: tensorflow in /Users/kevinwang/opt/anaconda3/lib/python3.9/site-packages (2.12.0)\n",
      "Requirement already satisfied: numpy<1.24,>=1.22 in /Users/kevinwang/opt/anaconda3/lib/python3.9/site-packages (from tensorflow) (1.23.5)\n",
      "Requirement already satisfied: opt-einsum>=2.3.2 in /Users/kevinwang/opt/anaconda3/lib/python3.9/site-packages (from tensorflow) (3.3.0)\n",
      "Requirement already satisfied: keras<2.13,>=2.12.0 in /Users/kevinwang/opt/anaconda3/lib/python3.9/site-packages (from tensorflow) (2.12.0)\n",
      "Requirement already satisfied: absl-py>=1.0.0 in /Users/kevinwang/opt/anaconda3/lib/python3.9/site-packages (from tensorflow) (1.4.0)\n",
      "Requirement already satisfied: protobuf!=4.21.0,!=4.21.1,!=4.21.2,!=4.21.3,!=4.21.4,!=4.21.5,<5.0.0dev,>=3.20.3 in /Users/kevinwang/opt/anaconda3/lib/python3.9/site-packages (from tensorflow) (4.22.1)\n",
      "Requirement already satisfied: h5py>=2.9.0 in /Users/kevinwang/opt/anaconda3/lib/python3.9/site-packages (from tensorflow) (3.7.0)\n",
      "Requirement already satisfied: setuptools in /Users/kevinwang/opt/anaconda3/lib/python3.9/site-packages (from tensorflow) (63.4.1)\n",
      "Requirement already satisfied: six>=1.12.0 in /Users/kevinwang/opt/anaconda3/lib/python3.9/site-packages (from tensorflow) (1.16.0)\n",
      "Requirement already satisfied: flatbuffers>=2.0 in /Users/kevinwang/opt/anaconda3/lib/python3.9/site-packages (from tensorflow) (23.3.3)\n",
      "Requirement already satisfied: gast<=0.4.0,>=0.2.1 in /Users/kevinwang/opt/anaconda3/lib/python3.9/site-packages (from tensorflow) (0.4.0)\n",
      "Requirement already satisfied: grpcio<2.0,>=1.24.3 in /Users/kevinwang/opt/anaconda3/lib/python3.9/site-packages (from tensorflow) (1.53.0)\n",
      "Requirement already satisfied: tensorboard<2.13,>=2.12 in /Users/kevinwang/opt/anaconda3/lib/python3.9/site-packages (from tensorflow) (2.12.1)\n",
      "Requirement already satisfied: packaging in /Users/kevinwang/opt/anaconda3/lib/python3.9/site-packages (from tensorflow) (21.3)\n",
      "Requirement already satisfied: google-pasta>=0.1.1 in /Users/kevinwang/opt/anaconda3/lib/python3.9/site-packages (from tensorflow) (0.2.0)\n",
      "Requirement already satisfied: tensorflow-estimator<2.13,>=2.12.0 in /Users/kevinwang/opt/anaconda3/lib/python3.9/site-packages (from tensorflow) (2.12.0)\n",
      "Requirement already satisfied: tensorflow-io-gcs-filesystem>=0.23.1 in /Users/kevinwang/opt/anaconda3/lib/python3.9/site-packages (from tensorflow) (0.32.0)\n",
      "Requirement already satisfied: wrapt<1.15,>=1.11.0 in /Users/kevinwang/opt/anaconda3/lib/python3.9/site-packages (from tensorflow) (1.14.1)\n",
      "Requirement already satisfied: astunparse>=1.6.0 in /Users/kevinwang/opt/anaconda3/lib/python3.9/site-packages (from tensorflow) (1.6.3)\n",
      "Requirement already satisfied: jax>=0.3.15 in /Users/kevinwang/opt/anaconda3/lib/python3.9/site-packages (from tensorflow) (0.4.8)\n",
      "Requirement already satisfied: libclang>=13.0.0 in /Users/kevinwang/opt/anaconda3/lib/python3.9/site-packages (from tensorflow) (16.0.0)\n",
      "Requirement already satisfied: typing-extensions>=3.6.6 in /Users/kevinwang/opt/anaconda3/lib/python3.9/site-packages (from tensorflow) (4.3.0)\n",
      "Requirement already satisfied: termcolor>=1.1.0 in /Users/kevinwang/opt/anaconda3/lib/python3.9/site-packages (from tensorflow) (2.2.0)\n",
      "Requirement already satisfied: wheel<1.0,>=0.23.0 in /Users/kevinwang/opt/anaconda3/lib/python3.9/site-packages (from astunparse>=1.6.0->tensorflow) (0.37.1)\n",
      "Requirement already satisfied: ml-dtypes>=0.0.3 in /Users/kevinwang/opt/anaconda3/lib/python3.9/site-packages (from jax>=0.3.15->tensorflow) (0.0.4)\n",
      "Requirement already satisfied: scipy>=1.7 in /Users/kevinwang/opt/anaconda3/lib/python3.9/site-packages (from jax>=0.3.15->tensorflow) (1.9.1)\n",
      "Requirement already satisfied: google-auth-oauthlib<1.1,>=0.5 in /Users/kevinwang/opt/anaconda3/lib/python3.9/site-packages (from tensorboard<2.13,>=2.12->tensorflow) (1.0.0)\n",
      "Requirement already satisfied: markdown>=2.6.8 in /Users/kevinwang/opt/anaconda3/lib/python3.9/site-packages (from tensorboard<2.13,>=2.12->tensorflow) (3.3.4)\n",
      "Requirement already satisfied: google-auth<3,>=1.6.3 in /Users/kevinwang/opt/anaconda3/lib/python3.9/site-packages (from tensorboard<2.13,>=2.12->tensorflow) (2.17.2)\n",
      "Requirement already satisfied: werkzeug>=1.0.1 in /Users/kevinwang/opt/anaconda3/lib/python3.9/site-packages (from tensorboard<2.13,>=2.12->tensorflow) (2.0.3)\n",
      "Requirement already satisfied: tensorboard-plugin-wit>=1.6.0 in /Users/kevinwang/opt/anaconda3/lib/python3.9/site-packages (from tensorboard<2.13,>=2.12->tensorflow) (1.8.1)\n",
      "Requirement already satisfied: requests<3,>=2.21.0 in /Users/kevinwang/opt/anaconda3/lib/python3.9/site-packages (from tensorboard<2.13,>=2.12->tensorflow) (2.28.1)\n",
      "Requirement already satisfied: tensorboard-data-server<0.8.0,>=0.7.0 in /Users/kevinwang/opt/anaconda3/lib/python3.9/site-packages (from tensorboard<2.13,>=2.12->tensorflow) (0.7.0)\n",
      "Requirement already satisfied: pyparsing!=3.0.5,>=2.0.2 in /Users/kevinwang/opt/anaconda3/lib/python3.9/site-packages (from packaging->tensorflow) (3.0.9)\n",
      "Requirement already satisfied: cachetools<6.0,>=2.0.0 in /Users/kevinwang/opt/anaconda3/lib/python3.9/site-packages (from google-auth<3,>=1.6.3->tensorboard<2.13,>=2.12->tensorflow) (5.3.0)\n",
      "Requirement already satisfied: rsa<5,>=3.1.4 in /Users/kevinwang/opt/anaconda3/lib/python3.9/site-packages (from google-auth<3,>=1.6.3->tensorboard<2.13,>=2.12->tensorflow) (4.9)\n",
      "Requirement already satisfied: pyasn1-modules>=0.2.1 in /Users/kevinwang/opt/anaconda3/lib/python3.9/site-packages (from google-auth<3,>=1.6.3->tensorboard<2.13,>=2.12->tensorflow) (0.2.8)\n",
      "Requirement already satisfied: requests-oauthlib>=0.7.0 in /Users/kevinwang/opt/anaconda3/lib/python3.9/site-packages (from google-auth-oauthlib<1.1,>=0.5->tensorboard<2.13,>=2.12->tensorflow) (1.3.1)\n",
      "Requirement already satisfied: urllib3<1.27,>=1.21.1 in /Users/kevinwang/opt/anaconda3/lib/python3.9/site-packages (from requests<3,>=2.21.0->tensorboard<2.13,>=2.12->tensorflow) (1.26.11)\n",
      "Requirement already satisfied: idna<4,>=2.5 in /Users/kevinwang/opt/anaconda3/lib/python3.9/site-packages (from requests<3,>=2.21.0->tensorboard<2.13,>=2.12->tensorflow) (3.3)\n",
      "Requirement already satisfied: charset-normalizer<3,>=2 in /Users/kevinwang/opt/anaconda3/lib/python3.9/site-packages (from requests<3,>=2.21.0->tensorboard<2.13,>=2.12->tensorflow) (2.0.4)\n",
      "Requirement already satisfied: certifi>=2017.4.17 in /Users/kevinwang/opt/anaconda3/lib/python3.9/site-packages (from requests<3,>=2.21.0->tensorboard<2.13,>=2.12->tensorflow) (2022.9.24)\n",
      "Requirement already satisfied: pyasn1<0.5.0,>=0.4.6 in /Users/kevinwang/opt/anaconda3/lib/python3.9/site-packages (from pyasn1-modules>=0.2.1->google-auth<3,>=1.6.3->tensorboard<2.13,>=2.12->tensorflow) (0.4.8)\n",
      "Requirement already satisfied: oauthlib>=3.0.0 in /Users/kevinwang/opt/anaconda3/lib/python3.9/site-packages (from requests-oauthlib>=0.7.0->google-auth-oauthlib<1.1,>=0.5->tensorboard<2.13,>=2.12->tensorflow) (3.2.2)\n",
      "Note: you may need to restart the kernel to use updated packages.\n"
     ]
    }
   ],
   "source": [
    "pip install tensorflow"
   ]
  },
  {
   "cell_type": "code",
   "execution_count": 275,
   "metadata": {},
   "outputs": [],
   "source": [
    "# Import necessary libraries\n",
    "import tensorflow as tf\n",
    "import numpy as np\n",
    "import pandas as pd\n",
    "from sklearn.model_selection import train_test_split\n",
    "import os\n",
    "import matplotlib.pyplot as plt\n",
    "from collections import Counter\n",
    "\n",
    "from sklearn.preprocessing import LabelEncoder\n",
    "from sklearn.metrics import classification_report"
   ]
  },
  {
   "attachments": {},
   "cell_type": "markdown",
   "metadata": {},
   "source": [
    "## Loading and preprocessing the dataset"
   ]
  },
  {
   "attachments": {},
   "cell_type": "markdown",
   "metadata": {},
   "source": [
    "* Read the data from sarcasm.dat with comma as the separator\n",
    "* Filter the dataframe, by taking rows that have a score greater than 10.\n",
    "* Filter the dataframe further by only taking only the `label` and `comment` columns.\n",
    "* Split the dataset into train and test split, with a test split of 0.2\n"
   ]
  },
  {
   "cell_type": "code",
   "execution_count": 276,
   "metadata": {},
   "outputs": [],
   "source": [
    "# Read the data from train-balanced-sarcasm.csv.zip with comma as the separator\n",
    "df = pd.read_csv('https://drive.google.com/uc?id=1D3Ma2HcEkkt85d5OtXxL5f8MHmrwvuQi&export=download', sep=',')"
   ]
  },
  {
   "cell_type": "code",
   "execution_count": 277,
   "metadata": {},
   "outputs": [
    {
     "data": {
      "text/html": [
       "<div>\n",
       "<style scoped>\n",
       "    .dataframe tbody tr th:only-of-type {\n",
       "        vertical-align: middle;\n",
       "    }\n",
       "\n",
       "    .dataframe tbody tr th {\n",
       "        vertical-align: top;\n",
       "    }\n",
       "\n",
       "    .dataframe thead th {\n",
       "        text-align: right;\n",
       "    }\n",
       "</style>\n",
       "<table border=\"1\" class=\"dataframe\">\n",
       "  <thead>\n",
       "    <tr style=\"text-align: right;\">\n",
       "      <th></th>\n",
       "      <th>label</th>\n",
       "      <th>comment</th>\n",
       "      <th>score</th>\n",
       "    </tr>\n",
       "  </thead>\n",
       "  <tbody>\n",
       "    <tr>\n",
       "      <th>0</th>\n",
       "      <td>1</td>\n",
       "      <td>This can't possibly go wrong.</td>\n",
       "      <td>29</td>\n",
       "    </tr>\n",
       "    <tr>\n",
       "      <th>1</th>\n",
       "      <td>1</td>\n",
       "      <td>I agree with the government...It would be MUCH...</td>\n",
       "      <td>2</td>\n",
       "    </tr>\n",
       "    <tr>\n",
       "      <th>2</th>\n",
       "      <td>0</td>\n",
       "      <td>There is just not enough people around that un...</td>\n",
       "      <td>1</td>\n",
       "    </tr>\n",
       "  </tbody>\n",
       "</table>\n",
       "</div>"
      ],
      "text/plain": [
       "   label                                            comment  score\n",
       "0      1                      This can't possibly go wrong.     29\n",
       "1      1  I agree with the government...It would be MUCH...      2\n",
       "2      0  There is just not enough people around that un...      1"
      ]
     },
     "execution_count": 277,
     "metadata": {},
     "output_type": "execute_result"
    }
   ],
   "source": [
    "# Take a quick look at the dataframe\n",
    "df.head(3)"
   ]
  },
  {
   "cell_type": "code",
   "execution_count": 278,
   "metadata": {},
   "outputs": [],
   "source": [
    "# Keep only those rows of the dataframes with score>10\n",
    "\n",
    "\n",
    "# Your code here\n",
    "b = df['score'] > 10\n",
    "df = df[b]"
   ]
  },
  {
   "cell_type": "code",
   "execution_count": 279,
   "metadata": {},
   "outputs": [
    {
     "name": "stdout",
     "output_type": "stream",
     "text": [
      "    label                                            comment\n",
      "0       1                      This can't possibly go wrong.\n",
      "18      1  Thank god we've got the European Union to coor...\n",
      "25      1  That's very impressive work young men, but eve...\n"
     ]
    }
   ],
   "source": [
    "# Make a copy of the dataframe with columns label and comment using .copy() method\n",
    "\n",
    "# Your code here\n",
    "df_cp = df[['label', 'comment']].copy()\n",
    "print(df_cp.head(3))"
   ]
  },
  {
   "cell_type": "code",
   "execution_count": 280,
   "metadata": {},
   "outputs": [],
   "source": [
    "# Split the data into train and test sets with a test size of 0.2\n",
    "\n",
    "# Your code here\n",
    "data_train, data_test = train_test_split(df_cp, test_size=0.2)"
   ]
  },
  {
   "attachments": {},
   "cell_type": "markdown",
   "metadata": {},
   "source": [
    "## Character level tokenization and filtering of smaller/longer sentences\n"
   ]
  },
  {
   "attachments": {},
   "cell_type": "markdown",
   "metadata": {},
   "source": [
    "* Tokenize the data by fitting the train data with a vocabulary size of 100, using character-level tokenization instead of whitespace tokenization.\n",
    "* Preprocess the data, so that the label column is of type int and the comments are represented as vectors got by tokenization.\n",
    "* Filter tokenized comments that have less than 10 and more than 100 tokens for both the train and test sets."
   ]
  },
  {
   "cell_type": "code",
   "execution_count": 281,
   "metadata": {},
   "outputs": [
    {
     "name": "stdout",
     "output_type": "stream",
     "text": [
      "354619                                 I run mine at 42 Psy\n",
      "239770        Ghost is making light of my spiritual beliefs\n",
      "434961    These werent inengine cutscenes they were enti...\n",
      "139694                                   This is deplorable\n",
      "429770    Oh that completely changes things he was only ...\n",
      "                                ...                        \n",
      "339149                                         LIKELY MASON\n",
      "89781     Well I suspect the Republicans are experts on ...\n",
      "322893      The empty desk has been doing a good job though\n",
      "173868          But hes a guy youd want to have a beer with\n",
      "324365      But thats what makes it the best game ever made\n",
      "Name: comment, Length: 45423, dtype: object\n"
     ]
    }
   ],
   "source": [
    "data_train.comment = data_train.comment.str.replace(\"[^a-zA-Z0-9 ]\",'', regex=True)\n",
    "data_test.comment = data_test.comment.str.replace(\"[^a-zA-Z0-9 ]\",'', regex=True)\n",
    "print(data_train.comment)"
   ]
  },
  {
   "cell_type": "code",
   "execution_count": 282,
   "metadata": {},
   "outputs": [],
   "source": [
    "# Define a tokenizer with vocabulary size of 100 that filters all special characters except whitespace and\n",
    "# converts the characters to lowercase\n",
    "\n",
    "# Your code here\n",
    "tokenizer = tf.keras.preprocessing.text.Tokenizer(num_words=100, filters=' !\"#$%&()*+,-./:;<=>?@[\\\\]^_`{|}~\\t\\n', lower=True, char_level=True)\n",
    "# Fit the tokenizer on the comments column of the train set\n",
    "\n",
    "# Your code here\n",
    "tokenizer.fit_on_texts(data_train.comment)"
   ]
  },
  {
   "cell_type": "code",
   "execution_count": 283,
   "metadata": {},
   "outputs": [
    {
     "name": "stdout",
     "output_type": "stream",
     "text": [
      "354619                                 I run mine at 42 Psy\n",
      "239770        Ghost is making light of my spiritual beliefs\n",
      "434961    These werent inengine cutscenes they were enti...\n",
      "139694                                   This is deplorable\n",
      "429770    Oh that completely changes things he was only ...\n",
      "                                ...                        \n",
      "339149                                         LIKELY MASON\n",
      "89781     Well I suspect the Republicans are experts on ...\n",
      "322893      The empty desk has been doing a good job though\n",
      "173868          But hes a guy youd want to have a beer with\n",
      "324365      But thats what makes it the best game ever made\n",
      "Name: comment, Length: 45423, dtype: object\n"
     ]
    }
   ],
   "source": [
    "print(data_train.comment)"
   ]
  },
  {
   "cell_type": "code",
   "execution_count": 284,
   "metadata": {},
   "outputs": [
    {
     "data": {
      "text/plain": [
       "{' ': 1,\n",
       " 'e': 2,\n",
       " 't': 3,\n",
       " 'a': 4,\n",
       " 'o': 5,\n",
       " 'i': 6,\n",
       " 's': 7,\n",
       " 'n': 8,\n",
       " 'r': 9,\n",
       " 'h': 10,\n",
       " 'l': 11,\n",
       " 'd': 12,\n",
       " 'u': 13,\n",
       " 'c': 14,\n",
       " 'y': 15,\n",
       " 'm': 16,\n",
       " 'g': 17,\n",
       " 'w': 18,\n",
       " 'p': 19,\n",
       " 'b': 20,\n",
       " 'f': 21,\n",
       " 'k': 22,\n",
       " 'v': 23,\n",
       " 'j': 24,\n",
       " 'x': 25,\n",
       " '0': 26,\n",
       " 'z': 27,\n",
       " '1': 28,\n",
       " '2': 29,\n",
       " 'q': 30,\n",
       " '3': 31,\n",
       " '5': 32,\n",
       " '4': 33,\n",
       " '9': 34,\n",
       " '6': 35,\n",
       " '8': 36,\n",
       " '7': 37}"
      ]
     },
     "execution_count": 284,
     "metadata": {},
     "output_type": "execute_result"
    }
   ],
   "source": [
    "# Print the tokens and their integer representation from the vocabulary of the tokenizer\n",
    "tokenizer.word_index"
   ]
  },
  {
   "cell_type": "code",
   "execution_count": 285,
   "metadata": {},
   "outputs": [],
   "source": [
    "# Convert the label column of the train and test\n",
    "label_train = data_train.label.values\n",
    "label_test = data_test.label.values"
   ]
  },
  {
   "cell_type": "code",
   "execution_count": 286,
   "metadata": {},
   "outputs": [
    {
     "data": {
      "text/plain": [
       "array([0, 1, 0, 0, 1, 1, 0, 0, 1, 1, 0, 1, 0, 1, 1, 0, 1, 1, 0, 1])"
      ]
     },
     "execution_count": 286,
     "metadata": {},
     "output_type": "execute_result"
    }
   ],
   "source": [
    "label_train[:20]"
   ]
  },
  {
   "cell_type": "code",
   "execution_count": 287,
   "metadata": {},
   "outputs": [],
   "source": [
    "# Convert the comments column to sequences\n",
    "\n",
    "# Your code here\n",
    "data_train = tokenizer.texts_to_sequences(data_train.comment)\n",
    "data_test = tokenizer.texts_to_sequences(data_test.comment)\n"
   ]
  },
  {
   "cell_type": "code",
   "execution_count": 288,
   "metadata": {},
   "outputs": [
    {
     "name": "stdout",
     "output_type": "stream",
     "text": [
      "[6, 1, 9, 13, 8, 1, 16, 6, 8, 2, 1, 4, 3, 1, 33, 29, 1, 19, 7, 15]\n"
     ]
    },
    {
     "data": {
      "text/plain": [
       "45423"
      ]
     },
     "execution_count": 288,
     "metadata": {},
     "output_type": "execute_result"
    }
   ],
   "source": [
    "# Print the first element of the train set and the number of elements in train\n",
    "print(data_train[0])\n",
    "len(data_train)"
   ]
  },
  {
   "cell_type": "code",
   "execution_count": 289,
   "metadata": {},
   "outputs": [
    {
     "name": "stdout",
     "output_type": "stream",
     "text": [
      "[7, 5, 16, 2, 1, 3, 6, 16, 1, 20, 13, 9, 3, 5, 8, 1, 7, 10, 6, 3, 1, 9, 6, 17, 10, 3, 1, 3, 10, 2, 9, 2]\n"
     ]
    },
    {
     "data": {
      "text/plain": [
       "11356"
      ]
     },
     "execution_count": 289,
     "metadata": {},
     "output_type": "execute_result"
    }
   ],
   "source": [
    "# Print the first element of the test set and the number of elements in test set\n",
    "print(data_test[0])\n",
    "len(data_test)"
   ]
  },
  {
   "cell_type": "code",
   "execution_count": 290,
   "metadata": {},
   "outputs": [],
   "source": [
    "# Compute the length of each sentence of the train and test set\n",
    "N_train = np.array([len(i) for i in data_train])\n",
    "\n",
    "# Your code here\n",
    "N_test = np.array([len(i) for i in data_test])"
   ]
  },
  {
   "cell_type": "code",
   "execution_count": 291,
   "metadata": {},
   "outputs": [
    {
     "name": "stderr",
     "output_type": "stream",
     "text": [
      "/var/folders/dp/m3tcrtn96xs17l0rtk490mg00000gn/T/ipykernel_5027/1933428289.py:8: VisibleDeprecationWarning: Creating an ndarray from ragged nested sequences (which is a list-or-tuple of lists-or-tuples-or ndarrays with different lengths or shapes) is deprecated. If you meant to do this, you must specify 'dtype=object' when creating the ndarray.\n",
      "  data_train = np.array(data_train)[b]\n",
      "/var/folders/dp/m3tcrtn96xs17l0rtk490mg00000gn/T/ipykernel_5027/1933428289.py:14: VisibleDeprecationWarning: Creating an ndarray from ragged nested sequences (which is a list-or-tuple of lists-or-tuples-or ndarrays with different lengths or shapes) is deprecated. If you meant to do this, you must specify 'dtype=object' when creating the ndarray.\n",
      "  data_test = np.array(data_test)[b]\n"
     ]
    }
   ],
   "source": [
    "# Create a boolean mask to filter out sentences which are less than 10 tokens/ more than 100 tokens.\n",
    "\n",
    "# Your code here\n",
    "b1 = N_train > 10\n",
    "b2 = N_train < 100\n",
    "b = np.logical_and(b1, b2)\n",
    "N_train = N_train[b]\n",
    "data_train = np.array(data_train)[b]\n",
    "label_train = label_train[b]\n",
    "b1 = N_test > 10\n",
    "b2 = N_test < 100\n",
    "b = np.logical_and(b1, b2)\n",
    "N_test = N_test[b]\n",
    "data_test = np.array(data_test)[b]\n",
    "label_test = label_test[b]"
   ]
  },
  {
   "cell_type": "code",
   "execution_count": 292,
   "metadata": {},
   "outputs": [
    {
     "data": {
      "text/plain": [
       "37555"
      ]
     },
     "execution_count": 292,
     "metadata": {},
     "output_type": "execute_result"
    }
   ],
   "source": [
    "# Print the number of elements in train set\n",
    "len(data_train)"
   ]
  },
  {
   "cell_type": "code",
   "execution_count": 293,
   "metadata": {},
   "outputs": [
    {
     "data": {
      "text/plain": [
       "9496"
      ]
     },
     "execution_count": 293,
     "metadata": {},
     "output_type": "execute_result"
    }
   ],
   "source": [
    "# Print the number of elements in train set\n",
    "\n",
    "len(data_test)"
   ]
  },
  {
   "attachments": {},
   "cell_type": "markdown",
   "metadata": {},
   "source": [
    "## Tensorflow Dataset for training and validation datasets\n"
   ]
  },
  {
   "attachments": {},
   "cell_type": "markdown",
   "metadata": {},
   "source": [
    "\n",
    "* Build a Tensorflow dataset from the train and test data.\n",
    "  * First, convert train and test data into ragged tensors.\n",
    "  * Next, create a tensorflow dataset using the ragged tensors. Use `tf.data.Dataset.from_tensor_slices()` to slice the tensors along the first dimension and create individual data points in the dataset.\n",
    "  * Further, we will shuffle and batch our dataset with a batch size of 512.\n",
    "  * Next, we will have to pad the data. Use the `map()` function to pad every sentence in a batch to the same length.\n",
    "  * Finally, use prefetching. The prefetch operation will decouple the preparation of the batch with the execution itself. Removing the waiting time of the network for more data.\n",
    "  \n",
    "Since, we are working with lots of sentences, padding the entire dataset to a common sequence length is wasteful.By following the above steps and building a TensorFlow dataset, we can do operations such as padding, shuffling and others on the go which helps reduce computation time.\n",
    "\n",
    "* Take a single batch from the train dataset, and verify the pipeline works correctly by printing the shape of the input tensor. Try to print the shapes with a few different batches.\n",
    "\n"
   ]
  },
  {
   "cell_type": "code",
   "execution_count": 294,
   "metadata": {},
   "outputs": [],
   "source": [
    "# Use tensorflow ragged constants to get the ragged version of the train data\n",
    "\n",
    "# Your code here\n",
    "ragged_train = tf.ragged.constant(data_train)\n",
    "ragged_test = tf.ragged.constant(data_test)\n"
   ]
  },
  {
   "cell_type": "code",
   "execution_count": 295,
   "metadata": {},
   "outputs": [],
   "source": [
    "label_train = tf.ragged.constant(label_train)\n",
    "label_test = tf.ragged.constant(label_test)"
   ]
  },
  {
   "cell_type": "code",
   "execution_count": 296,
   "metadata": {},
   "outputs": [
    {
     "data": {
      "text/plain": [
       "<tf.RaggedTensor [[6, 1, 9, 13, 8, 1, 16, 6, 8, 2, 1, 4, 3, 1, 33, 29, 1, 19, 7, 15],\n",
       " [17, 10, 5, 7, 3, 1, 6, 7, 1, 16, 4, 22, 6, 8, 17, 1, 11, 6, 17, 10, 3, 1,\n",
       "  5, 21, 1, 16, 15, 1, 7, 19, 6, 9, 6, 3, 13, 4, 11, 1, 20, 2, 11, 6, 2, 21,\n",
       "  7]                                                                        ,\n",
       " [3, 10, 2, 7, 2, 1, 18, 2, 9, 2, 8, 3, 1, 6, 8, 2, 8, 17, 6, 8, 2, 1, 14,\n",
       "  13, 3, 7, 14, 2, 8, 2, 7, 1, 3, 10, 2, 15, 1, 18, 2, 9, 2, 1, 2, 8, 3, 6,\n",
       "  9, 2, 11, 15, 1, 19, 9, 2, 9, 2, 8, 12, 2, 9, 2, 12, 1, 20, 15, 1, 4, 25,\n",
       "  6, 7, 1, 4, 8, 6, 16, 4, 3, 6, 5, 8]                                     ,\n",
       " ...,\n",
       " [3, 10, 2, 1, 2, 16, 19, 3, 15, 1, 12, 2, 7, 22, 1, 10, 4, 7, 1, 20, 2, 2,\n",
       "  8, 1, 12, 5, 6, 8, 17, 1, 4, 1, 17, 5, 5, 12, 1, 24, 5, 20, 1, 3, 10, 5,\n",
       "  13, 17, 10]                                                              ,\n",
       " [20, 13, 3, 1, 10, 2, 7, 1, 4, 1, 17, 13, 15, 1, 15, 5, 13, 12, 1, 18, 4,\n",
       "  8, 3, 1, 3, 5, 1, 10, 4, 23, 2, 1, 4, 1, 20, 2, 2, 9, 1, 18, 6, 3, 10]  ,\n",
       " [20, 13, 3, 1, 3, 10, 4, 3, 7, 1, 18, 10, 4, 3, 1, 16, 4, 22, 2, 7, 1, 6,\n",
       "  3, 1, 3, 10, 2, 1, 20, 2, 7, 3, 1, 17, 4, 16, 2, 1, 2, 23, 2, 9, 1, 16, 4,\n",
       "  12, 2]                                                                    ]>"
      ]
     },
     "execution_count": 296,
     "metadata": {},
     "output_type": "execute_result"
    }
   ],
   "source": [
    "ragged_train"
   ]
  },
  {
   "cell_type": "code",
   "execution_count": 297,
   "metadata": {},
   "outputs": [
    {
     "data": {
      "text/plain": [
       "<DynamicRaggedShape lengths=[37555, (20, 45, 80, 18, 75, 60, 84, 50, 75, 54, 69, 19, 52, 33, 46, 32, 19, 75, 43, 72, 14, 40, 58, 47, 86, 26, 34, 31, 38, 33, 46, 18, 27, 50, 56, 90, 90, 31, 20, 66, 57, 14, 58, 22, 72, 42, 32, 68, 47, 30, 48, 21, 45, 64, 31, 57, 55, 17, 70, 99, 39, 45, 44, 59, 38, 20, 67, 28, 15, 46, 57, 54, 53, 31, 95, 77, 82, 49, 41, 49, 73, 44, 25, 60, 81, 60, 24, 40, 76, 71, 56, 61, 64, 43, 18, 57, 40, 70, 80, 24, 60, 97, 95, 72, 32, 49, 60, 44, 79, 77, 13, 36, 64, 14, 76, 16, 49, 23, 70, 36, 46, 18, 96, 49, 52, 26, 95, 77, 15, 73, 29, 21, 96, 21, 46, 83, 57, 54, 60, 16, 30, 64, 19, 42, 67, 75, 30, 29, 41, 19, 22, 46, 39, 97, 59, 65, 41, 72, 81, 49, 32, 20, 70, 16, 44, 37, 78, 19, 42, 19, 70, 33, 84, 16, 24, 31, 51, 15, 60, 16, 37, 73, 24, 37, 29, 19, 13, 47, 15, 13, 55, 74, 38, 27, 42, 45, 63, 97, 11, 33, 40, 46, 64, 28, 38, 32, 66, 19, 31, 53, 53, 28, 40, 55, 83, 14, 17, 42, 67, 39, 38, 28, 26, 26, 69, 70, 57, 29, 56, 32, 24, 42, 26, 46, 45, 50, 62, 26, 35, 70, 46, 67, 63, 93, 73, 69, 37, 17, 16, 79, 15, 22, 53, 28, 42, 23, 31, 40, 27, 46, 31, 70, 51, 22, 86, 30, 12, 49, 37, 37, 73, 76, 83, 88, 26, 50, 52, 23, 31, 40, 52, 51, 34, 33, 92, 26, 17, 80, 87, 46, 17, 31, 43, 22, 61, 40, 38, 81, 11, 64, 31, 35, 41, 25, 71, 35, 61, 87, 31, 37, 79, 38, 31, 35, 35, 18, 61, 80, 15, 22, 52, 28, 62, 15, 38, 64, 29, 63, 45, 42, 41, 82, 21, 40, 43, 62, 37, 72, 37, 82, 22, 72, 55, 13, 47, 18, 81, 63, 21, 89, 67, 28, 13, 49, 71, 83, 67, 36, 13, 63, 94, 42, 72, 59, 68, 14, 78, 25, 27, 31, 12, 68, 25, 51, 47, 66, 34, 82, 82, 32, 24, 27, 25, 28, 62, 47, 29, 34, 44, 21, 25, 77, 43, 26, 54, 71, 52, 68, 61, 50, 84, 40, 67, 21, 93, 70, 93, 11, 27, 44, 57, 56, 37, 73, 96, 22, 79, 17, 13, 94, 19, 83, 21, 63, 21, 41, 53, 69, 27, 44, 74, 33, 12, 16, 43, 30, 58, 51, 36, 97, 21, 50, 55, 68, 86, 81, 75, 66, 65, 13, 62, 62, 38, 39, 41, 66, 77, 88, 31, 26, 91, 45, 68, 12, 49, 58, 19, 69, 22, 65, 37, 72, 69, 16, 73, 67, 65, 23, 14, 45, 28, 67, 18, 64, 91, 37, 51, 16, 16, 44, 94, 65, 65, 49, 41, 75, 62, 30, 39, 47, 60, 72, 25, 61, 62, 88, 31, 13, 26, 31, 68, 59, 88, 18, 28, 85, 87, 47, 13, 11, 23, 39, 93, 91, 79, 32, 48, 60, 28, 46, 82, 15, 84, 50, 76, 41, 14, 73, 61, 51, 67, 73, 47, 67, 46, 13, 26, 68, 68, 40, 98, 62, 23, 28, 81, 51, 21, 18, 57, 59, 78, 61, 12, 90, 30, 17, 98, 21, 35, 40, 78, 66, 13, 47, 32, 88, 68, 32, 28, 18, 85, 97, 56, 44, 48, 99, 17, 60, 45, 25, 53, 81, 24, 48, 17, 28, 21, 11, 67, 86, 39, 65, 17, 27, 59, 30, 69, 78, 64, 53, 82, 60, 51, 22, 67, 79, 70, 30, 25, 54, 51, 73, 37, 21, 58, 12, 67, 19, 82, 42, 53, 63, 42, 50, 37, 21, 27, 77, 84, 53, 68, 28, 53, 40, 59, 34, 68, 63, 46, 64, 44, 44, 58, 91, 42, 76, 75, 42, 16, 78, 50, 43, 85, 43, 24, 34, 33, 22, 21, 79, 99, 45, 47, 35, 56, 45, 53, 70, 84, 59, 39, 14, 21, 22, 57, 51, 40, 31, 17, 22, 73, 14, 90, 51, 89, 84, 54, 28, 83, 16, 36, 46, 61, 19, 26, 15, 32, 95, 12, 39, 57, 51, 13, 47, 22, 34, 19, 25, 15, 44, 33, 37, 37, 38, 52, 27, 57, 41, 57, 30, 40, 17, 14, 21, 39, 41, 76, 38, 28, 20, 39, 20, 77, 60, 38, 42, 30, 51, 27, 29, 30, 82, 84, 41, 89, 96, 76, 35, 78, 77, 41, 15, 97, 58, 39, 45, 86, 59, 39, 38, 48, 53, 17, 36, 39, 63, 34, 68, 76, 43, 15, 30, 48, 46, 89, 97, 55, 19, 27, 57, 53, 23, 29, 35, 22, 61, 45, 69, 54, 54, 74, 75, 13, 37, 27, 46, 25, 39, 55, 54, 57, 18, 89, 52, 31, 70, 49, 84, 58, 84, 54, 73, 41, 70, 14, 73, 80, 51, 72, 98, 59, 78, 30, 97, 58, 63, 66, 35, 39, 44, 18, 79, 53, 21, 28, 16, 62, 72, 33, 67, 56, 22, 35, 59, 71, 98, 72, 39, 15, 19, 18, 78, 52, 44, 57, 21, 75, 49, 32, 91, 35, 13, 82, 36, 74, 68, 58, 30, 75, 26, 70, 43, 39, 85, 57, 91, 79, 19, 15, 22, 41, 75, 32, 45, 57, 55, 88, 53, 97, 32, 53, 51, 81, 77, 35, 39, 22, 38, 30, 75, 79, 33, 55, 11, 89, 21, 61, 59, 86, 36, 73, 85, 44, 38, 17, 60, 87, 48, 42, 18, 73, 56, 45, 96, 91, 28, 20, 56, 51, 25, 42, 81, 37, 63, 29, 58, 51, 59, 22, 96, 33, 43, 42, 45, 67, 30, 77, 38, 99, 46, 63, 68, 46, 14, 61, 29, 29, 22, 74, 29, 53, 36, 38, 79, 13, 18, 23, 79, 72, 47, 34, 30, 30, 44, 31, 18, 98, 37, 80, 17, 48, 40, 23, 98, 73, 95, 31, 61, 30, 11, 27, 43, 40, 48, 15, 14, 25, 64, 33, 15, 32, 56, 86, 79, 48, 70, 89, 86, 29, 54, 42, 44, 21, 25, 58, 22, 68, 11, 41, 39, 81, 54, 64, 59, 72, 11, 30, 58, 38, 56, 60, 18, 73, 58, 50, 43, 58, 84, 65, 67, 88, 97, 42, 64, 23, 20, 41, 96, 65, 26, 68, 45, 37, 17, 38, 59, 37, 41, 21, 61, 41, 36, 71, 93, 31, 84, 38, 60, 50, 16, 46, 18, 34, 45, 73, 85, 36, 57, 57, 55, 69, 16, 51, 32, 74, 36, 39, 54, 82, 49, 90, 66, 44, 91, 40, 22, 60, 36, 27, 68, 23, 38, 28, 65, 31, 37, 47, 12, 20, 65, 90, 77, 64, 47, 66, 51, 47, 14, 44, 15, 56, 22, 31, 29, 59, 15, 76, 67, 49, 56, 66, 41, 35, 50, 76, 70, 68, 59, 21, 32, 43, 12, 19, 59, 23, 95, 67, 56, 88, 49, 22, 59, 17, 75, 56, 25, 26, 65, 67, 71, 34, 83, 82, 39, 30, 28, 55, 92, 15, 69, 88, 20, 49, 49, 13, 83, 15, 86, 73, 15, 72, 89, 31, 58, 42, 41, 66, 53, 30, 85, 24, 47, 35, 48, 43, 79, 78, 40, 38, 17, 49, 73, 71, 54, 29, 68, 49, 49, 81, 17, 64, 85, 29, 39, 41, 74, 56, 73, 95, 95, 40, 73, 84, 75, 83, 57, 33, 77, 48, 59, 95, 20, 22, 37, 14, 74, 53, 84, 33, 61, 43, 16, 67, 65, 36, 88, 57, 26, 53, 78, 12, 19, 39, 78, 26, 28, 26, 21, 66, 60, 54, 15, 16, 26, 15, 68, 22, 19, 56, 56, 85, 34, 38, 30, 40, 54, 52, 44, 92, 91, 79, 30, 70, 40, 64, 86, 21, 30, 40, 52, 57, 17, 74, 74, 52, 37, 56, 32, 13, 24, 71, 48, 31, 67, 78, 62, 61, 52, 35, 79, 36, 47, 45, 62, 89, 44, 97, 22, 29, 50, 53, 16, 49, 64, 47, 64, 33, 69, 62, 39, 28, 64, 26, 35, 32, 85, 34, 67, 32, 23, 34, 41, 35, 24, 82, 71, 54, 14, 25, 50, 16, 14, 58, 94, 64, 15, 46, 45, 91, 25, 50, 99, 30, 54, 36, 28, 45, 41, 22, 40, 38, 78, 24, 28, 62, 28, 26, 37, 85, 44, 39, 28, 18, 34, 16, 17, 61, 34, 59, 16, 43, 37, 42, 26, 20, 46, 66, 53, 95, 51, 32, 89, 33, 68, 35, 79, 35, 45, 77, 42, 79, 47, 83, 57, 79, 73, 40, 53, 29, 92, 33, 53, 30, 81, 28, 26, 49, 71, 40, 57, 94, 32, 60, 22, 20, 55, 48, 55, 36, 64, 92, 44, 15, 38, 92, 31, 77, 24, 42, 88, 26, 26, 60, 17, 55, 29, 79, 44, 57, 29, 67, 59, 32, 22, 38, 12, 70, 43, 25, 43, 64, 16, 84, 54, 27, 50, 79, 59, 75, 80, 97, 35, 45, 86, 38, 51, 61, 18, 48, 64, 89, 35, 71, 17, 49, 25, 55, 38, 51, 21, 56, 20, 79, 33, 62, 50, 73, 95, 86, 38, 42, 55, 11, 19, 47, 68, 19, 52, 25, 35, 14, 29, 52, 21, 62, 88, 31, 51, 29, 60, 54, 33, 23, 13, 33, 21, 86, 61, 90, 14, 27, 86, 33, 56, 39, 96, 40, 40, 23, 15, 96, 36, 48, 34, 20, 63, 70, 46, 38, 38, 11, 62, 39, 44, 63, 42, 38, 51, 32, 65, 14, 58, 37, 68, 65, 29, 52, 85, 31, 30, 49, 79, 78, 54, 41, 31, 18, 65, 21, 89, 28, 46, 41, 87, 16, 54, 28, 66, 13, 31, 47, 53, 70, 31, 16, 96, 73, 42, 59, 69, 74, 97, 67, 44, 58, 35, 38, 63, 71, 16, 95, 35, 43, 79, 24, 75, 91, 78, 66, 47, 52, 77, 45, 37, 75, 52, 96, 17, 16, 59, 61, 70, 68, 13, 90, 38, 89, 79, 95, 60, 15, 34, 29, 37, 74, 98, 26, 45, 35, 59, 25, 88, 72, 22, 13, 46, 86, 85, 36, 71, 52, 24, 12, 54, 60, 58, 42, 54, 40, 59, 75, 42, 44, 91, 72, 34, 41, 28, 36, 87, 73, 13, 19, 11, 25, 81, 52, 29, 87, 34, 84, 27, 62, 24, 32, 47, 54, 27, 92, 54, 59, 67, 40, 88, 81, 24, 53, 16, 50, 53, 76, 19, 70, 20, 14, 53, 51, 27, 43, 76, 33, 64, 19, 47, 14, 45, 38, 86, 24, 45, 37, 26, 54, 14, 86, 81, 32, 29, 48, 48, 18, 79, 95, 39, 16, 60, 79, 29, 23, 41, 83, 41, 46, 26, 17, 36, 78, 17, 47, 35, 72, 58, 18, 51, 33, 39, 54, 43, 30, 26, 95, 99, 54, 56, 30, 33, 25, 35, 16, 33, 33, 50, 62, 78, 43, 46, 75, 13, 51, 49, 83, 63, 53, 36, 32, 32, 61, 82, 89, 18, 73, 60, 31, 51, 39, 48, 64, 89, 52, 41, 38, 53, 53, 15, 20, 66, 36, 72, 27, 69, 30, 68, 19, 70, 32, 80, 17, 39, 41, 47, 39, 25, 29, 80, 61, 49, 44, 44, 53, 44, 79, 43, 40, 40, 70, 29, 25, 44, 28, 96, 16, 19, 53, 21, 33, 27, 37, 22, 45, 19, 48, 79, 95, 66, 48, 60, 31, 78, 71, 55, 36, 35, 58, 37, 50, 37, 50, 80, 85, 57, 30, 95, 38, 55, 28, 45, 33, 34, 36, 26, 69, 33, 64, 95, 30, 28, 35, 89, 30, 22, 37, 81, 28, 47, 39, 64, 34, 31, 99, 12, 71, 25, 47, 79, 22, 90, 28, 58, 46, 40, 76, 59, 42, 67, 45, 66, 27, 63, 35, 66, 62, 40, 47, 13, 26, 20, 29, 27, 47, 48, 26, 36, 58, 29, 50, 55, 26, 61, 81, 63, 32, 40, 61, 74, 29, 39, 73, 29, 76, 65, 37, 39, 54, 34, 74, 13, 65, 65, 47, 59, 25, 53, 33, 46, 59, 17, 70, 98, 32, 50, 28, 85, 28, 45, 48, 67, 38, 64, 15, 50, 40, 81, 41, 54, 33, 86, 84, 39, 28, 33, 41, 16, 43, 73, 18, 58, 60, 25, 18, 64, 46, 44, 72, 60, 57, 12, 67, 55, 19, 77, 58, 69, 15, 99, 33, 39, 49, 59, 24, 29, 52, 18, 35, 24, 65, 77, 56, 24, 28, 58, 66, 43, 26, 52, 57, 85, 69, 40, 36, 38, 46, 28, 19, 30, 29, 36, 39, 70, 54, 29, 54, 85, 65, 78, 85, 17, 76, 46, 41, 21, 20, 39, 20, 41, 44, 44, 73, 40, 85, 36, 80, 49, 28, 68, 18, 70, 36, 35, 86, 33, 73, 67, 58, 53, 28, 38, 59, 37, 24, 21, 72, 75, 56, 26, 44, 77, 34, 26, 39, 39, 65, 27, 34, 41, 33, 75, 19, 65, 53, 33, 19, 51, 68, 82, 50, 42, 59, 56, 98, 84, 56, 41, 79, 59, 57, 25, 40, 41, 64, 80, 40, 45, 20, 11, 70, 11, 18, 57, 28, 33, 55, 32, 15, 18, 42, 52, 56, 60, 53, 33, 21, 36, 45, 38, 18, 45, 52, 37, 20, 64, 52, 50, 82, 46, 54, 67, 64, 77, 36, 20, 93, 96, 11, 33, 33, 34, 62, 19, 80, 13, 58, 37, 95, 62, 65, 45, 60, 29, 44, 30, 44, 47, 52, 39, 25, 42, 39, 29, 94, 85, 25, 58, 66, 15, 54, 35, 79, 87, 91, 11, 53, 48, 66, 66, 17, 64, 39, 92, 20, 67, 45, 13, 32, 29, 13, 88, 88, 86, 45, 77, 20, 17, 64, 52, 62, 43, 89, 41, 55, 60, 52, 34, 56, 67, 53, 37, 65, 41, 27, 99, 95, 25, 57, 60, 51, 21, 66, 78, 26, 37, 48, 24, 40, 44, 93, 98, 34, 42, 93, 50, 78, 24, 36, 55, 31, 68, 46, 44, 39, 67, 12, 33, 46, 25, 29, 92, 26, 25, 75, 80, 49, 22, 18, 51, 77, 70, 79, 44, 73, 57, 50, 68, 34, 40, 36, 36, 17, 39, 89, 43, 70, 31, 59, 15, 60, 12, 17, 60, 71, 31, 64, 19, 75, 78, 65, 38, 34, 46, 14, 92, 76, 40, 59, 62, 21, 47, 74, 13, 55, 39, 65, 43, 43, 18, 25, 44, 71, 33, 33, 44, 51, 46, 39, 29, 31, 85, 80, 45, 29, 53, 48, 70, 43, 78, 50, 16, 64, 65, 21, 81, 55, 54, 65, 73, 34, 40, 60, 38, 51, 19, 70, 41, 95, 96, 39, 72, 40, 68, 50, 75, 32, 30, 26, 32, 41, 54, 92, 39, 70, 62, 62, 52, 70, 64, 80, 21, 38, 76, 52, 67, 26, 66, 60, 33, 24, 16, 18, 59, 58, 25, 18, 86, 47, 60, 24, 34, 52, 44, 16, 68, 46, 56, 22, 14, 25, 47, 56, 54, 56, 17, 45, 50, 24, 77, 30, 20, 14, 24, 43, 24, 23, 69, 78, 54, 48, 29, 38, 63, 62, 14, 67, 38, 17, 52, 25, 88, 37, 13, 33, 74, 65, 82, 22, 52, 28, 39, 23, 57, 21, 93, 50, 90, 41, 55, 62, 61, 78, 46, 36, 94, 45, 55, 56, 40, 40, 11, 28, 39, 52, 76, 76, 84, 31, 23, 31, 24, 59, 49, 97, 37, 51, 22, 78, 62, 38, 43, 64, 55, 20, 17, 45, 33, 76, 79, 52, 80, 45, 23, 11, 34, 40, 55, 17, 65, 25, 55, 53, 34, 42, 48, 27, 29, 61, 46, 42, 39, 28, 54, 21, 50, 77, 15, 36, 45, 59, 99, 43, 85, 49, 81, 33, 26, 50, 31, 31, 56, 60, 20, 65, 48, 70, 29, 22, 38, 69, 43, 60, 49, 46, 17, 36, 64, 93, 93, 55, 79, 48, 34, 25, 82, 15, 45, 17, 17, 18, 36, 41, 54, 62, 73, 33, 23, 61, 80, 41, 61, 85, 68, 50, 14, 69, 49, 46, 16, 25, 48, 15, 50, 26, 95, 53, 51, 62, 71, 78, 72, 63, 11, 95, 66, 91, 17, 24, 53, 46, 47, 31, 16, 15, 25, 81, 80, 63, 75, 31, 28, 57, 17, 42, 23, 58, 25, 36, 43, 67, 65, 86, 52, 23, 53, 14, 32, 33, 33, 28, 73, 71, 56, 33, 51, 23, 72, 63, 50, 34, 25, 87, 96, 11, 25, 39, 49, 17, 49, 97, 39, 64, 37, 40, 14, 28, 31, 66, 42, 84, 50, 39, 32, 68, 74, 26, 39, 78, 30, 45, 82, 17, 77, 12, 20, 35, 59, 46, 49, 76, 39, 40, 16, 65, 69, 79, 22, 58, 27, 14, 71, 63, 80, 55, 66, 43, 65, 35, 34, 63, 50, 76, 57, 94, 29, 40, 93, 27, 18, 49, 91, 43, 76, 16, 54, 27, 52, 51, 39, 46, 76, 26, 37, 60, 81, 97, 52, 47, 46, 72, 63, 22, 28, 41, 13, 12, 38, 50, 41, 28, 17, 64, 57, 55, 42, 29, 68, 79, 68, 30, 47, 26, 17, 39, 40, 74, 33, 20, 83, 83, 37, 32, 56, 47, 79, 54, 20, 66, 42, 49, 39, 29, 16, 42, 41, 73, 52, 86, 40, 25, 33, 31, 46, 26, 87, 34, 90, 60, 25, 57, 32, 53, 27, 55, 27, 64, 24, 11, 48, 43, 31, 29, 55, 85, 27, 40, 26, 44, 19, 48, 50, 40, 83, 52, 41, 86, 48, 65, 12, 40, 33, 42, 30, 49, 62, 93, 83, 90, 16, 18, 29, 21, 15, 43, 74, 25, 42, 31, 53, 40, 92, 55, 55, 24, 32, 48, 77, 55, 42, 56, 75, 48, 19, 68, 41, 65, 68, 37, 21, 72, 92, 25, 50, 33, 80, 19, 43, 38, 73, 16, 11, 26, 20, 73, 38, 27, 35, 50, 23, 55, 47, 31, 71, 94, 15, 44, 18, 55, 30, 33, 57, 13, 40, 45, 54, 80, 30, 50, 78, 24, 95, 48, 62, 76, 52, 57, 12, 81, 95, 47, 92, 30, 74, 99, 40, 51, 28, 39, 70, 17, 91, 14, 38, 54, 73, 29, 68, 38, 40, 62, 34, 39, 17, 79, 29, 13, 24, 21, 13, 64, 27, 58, 31, 31, 46, 59, 15, 12, 14, 47, 23, 39, 44, 21, 82, 60, 27, 46, 46, 33, 43, 93, 81, 30, 46, 11, 26, 82, 15, 29, 49, 28, 37, 68, 99, 36, 41, 18, 20, 97, 44, 20, 20, 66, 62, 81, 46, 66, 14, 95, 13, 86, 41, 24, 12, 80, 25, 51, 18, 66, 20, 52, 58, 41, 63, 23, 21, 80, 64, 69, 41, 83, 71, 39, 60, 77, 42, 61, 83, 76, 27, 79, 78, 67, 45, 45, 60, 70, 69, 27, 73, 29, 39, 60, 38, 65, 50, 58, 48, 90, 24, 37, 81, 47, 87, 77, 27, 36, 40, 27, 79, 81, 36, 60, 59, 73, 82, 84, 70, 42, 53, 21, 20, 46, 68, 24, 67, 79, 50, 90, 39, 28, 53, 76, 40, 89, 31, 46, 31, 71, 61, 45, 76, 24, 27, 67, 29, 73, 34, 83, 62, 90, 45, 47, 80, 25, 28, 23, 45, 35, 77, 37, 43, 54, 24, 44, 30, 62, 22, 53, 55, 58, 26, 24, 13, 31, 84, 24, 84, 91, 50, 59, 23, 42, 41, 61, 68, 59, 53, 90, 73, 52, 28, 22, 66, 44, 58, 44, 56, 29, 29, 85, 39, 26, 54, 11, 17, 27, 11, 19, 49, 13, 34, 16, 18, 71, 81, 44, 46, 61, 24, 58, 61, 31, 61, 56, 29, 84, 64, 22, 72, 43, 52, 94, 16, 48, 79, 33, 22, 41, 18, 25, 11, 89, 22, 34, 75, 75, 35, 48, 89, 23, 71, 92, 85, 38, 85, 30, 75, 86, 54, 29, 33, 68, 65, 83, 23, 59, 66, 74, 55, 22, 45, 15, 55, 83, 94, 72, 67, 27, 42, 60, 76, 14, 38, 21, 17, 34, 80, 23, 36, 71, 89, 48, 40, 41, 29, 20, 16, 52, 28, 28, 63, 50, 15, 96, 53, 79, 36, 22, 89, 38, 48, 32, 93, 95, 42, 31, 66, 42, 36, 41, 49, 27, 20, 47, 70, 57, 64, 84, 61, 82, 50, 38, 21, 50, 56, 99, 31, 53, 67, 61, 41, 27, 96, 61, 49, 61, 84, 71, 32, 16, 43, 87, 91, 72, 37, 68, 21, 33, 72, 47, 52, 76, 63, 25, 50, 86, 53, 71, 20, 11, 53, 31, 53, 65, 65, 66, 14, 18, 13, 20, 38, 21, 47, 43, 67, 19, 56, 47, 34, 52, 67, 43, 51, 32, 76, 46, 66, 38, 65, 42, 56, 78, 49, 90, 44, 61, 59, 31, 36, 14, 47, 79, 51, 32, 33, 56, 99, 30, 50, 89, 89, 58, 37, 54, 74, 96, 34, 71, 12, 99, 68, 47, 61, 55, 54, 27, 31, 57, 31, 67, 25, 26, 31, 94, 70, 57, 78, 28, 62, 31, 23, 42, 46, 54, 37, 89, 90, 70, 61, 60, 58, 36, 84, 34, 60, 67, 54, 28, 27, 37, 52, 94, 90, 34, 50, 44, 40, 68, 44, 85, 38, 31, 47, 29, 37, 48, 12, 65, 29, 39, 31, 40, 40, 30, 73, 30, 56, 26, 83, 34, 31, 63, 69, 40, 50, 31, 42, 83, 23, 71, 38, 34, 48, 48, 32, 39, 21, 21, 22, 55, 53, 79, 30, 19, 28, 18, 70, 37, 48, 59, 24, 67, 33, 83, 27, 94, 24, 91, 71, 26, 16, 73, 57, 40, 47, 37, 21, 12, 43, 54, 12, 91, 22, 22, 20, 27, 13, 66, 16, 53, 24, 75, 66, 36, 36, 77, 32, 57, 62, 44, 16, 46, 26, 23, 53, 18, 20, 16, 37, 53, 84, 39, 81, 32, 53, 43, 97, 99, 93, 56, 30, 75, 20, 33, 74, 36, 49, 22, 63, 32, 18, 53, 40, 79, 32, 95, 28, 98, 91, 22, 79, 42, 57, 43, 55, 59, 78, 55, 79, 11, 86, 31, 61, 54, 60, 40, 12, 50, 51, 18, 41, 61, 76, 50, 47, 18, 32, 39, 20, 85, 31, 16, 75, 13, 35, 52, 35, 90, 49, 35, 30, 30, 16, 24, 60, 23, 23, 80, 16, 84, 33, 19, 68, 35, 14, 31, 45, 37, 23, 96, 53, 47, 15, 69, 53, 34, 27, 26, 27, 25, 21, 28, 85, 50, 73, 78, 54, 66, 56, 75, 26, 89, 77, 42, 54, 73, 51, 34, 15, 56, 47, 65, 60, 52, 22, 21, 23, 72, 41, 36, 43, 56, 70, 30, 79, 53, 29, 40, 13, 41, 25, 67, 11, 29, 49, 62, 94, 48, 63, 45, 18, 29, 52, 35, 76, 30, 55, 95, 23, 98, 31, 15, 75, 58, 77, 18, 41, 21, 26, 47, 15, 29, 28, 19, 30, 47, 52, 21, 56, 35, 31, 39, 73, 14, 86, 31, 29, 26, 45, 27, 36, 60, 98, 69, 25, 58, 43, 19, 37, 88, 79, 41, 25, 51, 72, 79, 37, 39, 63, 44, 17, 84, 34, 55, 55, 96, 70, 27, 89, 92, 51, 33, 14, 16, 24, 27, 13, 35, 28, 36, 27, 51, 35, 67, 22, 29, 21, 74, 30, 57, 65, 21, 23, 43, 53, 68, 13, 72, 58, 62, 16, 27, 34, 62, 35, 32, 62, 60, 39, 17, 43, 56, 56, 56, 39, 64, 33, 66, 26, 13, 38, 35, 40, 25, 56, 26, 45, 84, 18, 50, 22, 12, 41, 51, 45, 16, 80, 42, 21, 28, 27, 34, 42, 59, 38, 13, 57, 70, 49, 40, 45, 16, 49, 16, 27, 87, 28, 48, 40, 36, 52, 67, 89, 21, 19, 50, 22, 59, 41, 39, 39, 16, 59, 54, 38, 37, 86, 59, 29, 56, 23, 31, 30, 31, 27, 38, 15, 50, 16, 67, 61, 80, 50, 67, 94, 52, 23, 97, 35, 67, 65, 51, 92, 38, 81, 81, 68, 82, 24, 99, 80, 30, 19, 11, 50, 25, 81, 49, 27, 26, 92, 21, 17, 33, 44, 29, 52, 64, 86, 31, 98, 85, 27, 29, 51, 50, 31, 20, 51, 58, 64, 54, 20, 63, 42, 60, 34, 51, 16, 58, 48, 24, 32, 46, 38, 23, 14, 35, 64, 58, 82, 52, 72, 63, 29, 67, 91, 78, 39, 97, 22, 88, 62, 78, 51, 28, 95, 39, 58, 43, 29, 71, 43, 73, 48, 20, 35, 42, 11, 84, 77, 35, 17, 47, 45, 45, 26, 49, 56, 49, 69, 65, 40, 87, 46, 84, 35, 67, 30, 25, 31, 16, 73, 84, 72, 34, 53, 80, 48, 11, 39, 11, 56, 45, 59, 58, 57, 35, 59, 35, 72, 18, 31, 38, 83, 49, 14, 86, 44, 29, 16, 52, 68, 16, 11, 98, 20, 20, 36, 57, 22, 35, 12, 56, 14, 45, 65, 67, 30, 62, 46, 68, 71, 77, 57, 35, 22, 37, 45, 16, 84, 60, 88, 60, 40, 94, 13, 59, 31, 48, 26, 37, 50, 74, 34, 20, 65, 35, 54, 64, 45, 44, 49, 29, 40, 84, 61, 63, 28, 51, 70, 39, 70, 93, 69, 54, 31, 99, 91, 32, 35, 33, 93, 26, 55, 40, 77, 71, 37, 36, 60, 13, 22, 81, 65, 96, 49, 71, 18, 52, 18, 22, 23, 36, 91, 47, 73, 24, 45, 53, 52, 34, 26, 62, 37, 43, 96, 27, 59, 36, 19, 45, 32, 65, 32, 65, 53, 26, 55, 22, 51, 45, 34, 49, 54, 81, 67, 18, 26, 54, 42, 30, 56, 32, 59, 62, 87, 24, 34, 16, 70, 45, 77, 51, 70, 56, 33, 44, 47, 72, 72, 27, 72, 97, 39, 20, 81, 85, 33, 81, 50, 56, 21, 72, 17, 35, 68, 50, 40, 42, 52, 59, 57, 26, 41, 33, 41, 79, 30, 19, 20, 63, 54, 31, 49, 62, 57, 88, 30, 45, 32, 80, 33, 39, 82, 36, 22, 90, 57, 43, 16, 14, 66, 76, 19, 94, 80, 60, 51, 79, 68, 51, 23, 23, 37, 44, 60, 37, 65, 77, 71, 34, 19, 46, 46, 46, 56, 45, 76, 41, 14, 34, 38, 91, 67, 19, 19, 80, 69, 27, 76, 77, 78, 39, 23, 28, 92, 61, 61, 87, 45, 31, 53, 75, 74, 23, 64, 21, 25, 88, 45, 85, 60, 50, 73, 52, 31, 18, 19, 49, 57, 82, 33, 27, 65, 49, 38, 26, 37, 53, 25, 58, 25, 40, 42, 54, 27, 30, 84, 20, 54, 21, 48, 65, 52, 54, 20, 20, 15, 78, 74, 77, 32, 92, 50, 53, 77, 13, 17, 90, 60, 41, 31, 87, 74, 17, 71, 32, 67, 75, 85, 35, 21, 42, 31, 76, 15, 33, 24, 53, 77, 54, 12, 28, 82, 58, 39, 31, 36, 44, 32, 14, 39, 30, 83, 83, 89, 93, 35, 22, 69, 48, 68, 72, 51, 54, 39, 70, 81, 30, 44, 65, 51, 81, 23, 72, 33, 21, 36, 12, 22, 88, 30, 17, 23, 30, 42, 58, 30, 30, 13, 17, 34, 63, 64, 25, 31, 24, 61, 78, 98, 13, 49, 26, 56, 28, 70, 25, 24, 47, 27, 79, 37, 41, 61, 64, 82, 25, 25, 72, 68, 21, 65, 25, 40, 59, 49, 25, 76, 80, 87, 71, 58, 98, 48, 11, 40, 58, 47, 47, 28, 58, 54, 74, 36, 75, 63, 26, 67, 81, 70, 22, 18, 87, 32, 77, 71, 36, 57, 16, 43, 73, 44, 56, 52, 45, 57, 75, 41, 24, 25, 62, 75, 47, 53, 25, 36, 39, 42, 71, 35, 52, 48, 61, 93, 52, 84, 25, 57, 14, 55, 12, 26, 49, 20, 39, 38, 22, 43, 39, 37, 75, 62, 55, 85, 76, 42, 63, 51, 21, 49, 21, 25, 55, 35, 48, 26, 37, 93, 32, 19, 59, 87, 51, 73, 55, 39, 39, 52, 44, 24, 82, 69, 60, 51, 24, 80, 29, 37, 24, 14, 33, 55, 30, 51, 35, 25, 19, 12, 73, 61, 25, 60, 21, 75, 92, 22, 27, 74, 76, 40, 48, 37, 22, 79, 59, 27, 46, 40, 26, 97, 49, 61, 49, 58, 15, 66, 84, 48, 67, 47, 25, 19, 33, 26, 55, 19, 11, 72, 55, 74, 27, 32, 52, 15, 60, 71, 26, 88, 17, 96, 70, 22, 52, 34, 86, 62, 15, 30, 16, 33, 55, 25, 85, 37, 44, 86, 66, 32, 26, 46, 50, 36, 58, 98, 52, 40, 36, 46, 38, 47, 66, 52, 17, 30, 18, 37, 45, 74, 43, 51, 49, 30, 61, 76, 60, 66, 52, 67, 40, 93, 93, 37, 58, 67, 57, 42, 69, 14, 27, 69, 77, 64, 81, 40, 25, 98, 54, 30, 68, 46, 80, 34, 87, 45, 28, 41, 17, 24, 39, 67, 39, 38, 17, 12, 37, 22, 32, 78, 73, 33, 71, 37, 47, 14, 72, 12, 75, 40, 27, 25, 35, 40, 62, 47, 32, 93, 22, 65, 85, 25, 50, 53, 92, 52, 63, 52, 91, 17, 23, 25, 65, 42, 53, 23, 46, 45, 57, 53, 27, 54, 22, 90, 23, 84, 19, 85, 32, 25, 29, 15, 77, 55, 87, 39, 43, 40, 15, 66, 43, 25, 36, 57, 64, 53, 55, 98, 35, 93, 74, 99, 41, 46, 74, 30, 36, 76, 29, 77, 49, 32, 88, 70, 24, 14, 19, 43, 31, 34, 64, 62, 22, 32, 50, 39, 33, 34, 45, 24, 15, 37, 91, 88, 13, 21, 62, 27, 18, 37, 86, 16, 42, 52, 48, 91, 24, 62, 58, 52, 22, 61, 14, 21, 87, 51, 79, 43, 44, 21, 62, 22, 48, 46, 48, 47, 87, 66, 33, 15, 25, 26, 97, 62, 96, 65, 28, 13, 75, 60, 47, 33, 67, 50, 55, 66, 63, 46, 62, 51, 48, 54, 38, 65, 32, 35, 90, 22, 37, 83, 60, 29, 36, 22, 25, 24, 42, 47, 61, 86, 59, 47, 48, 19, 47, 60, 80, 32, 40, 46, 48, 27, 43, 11, 28, 82, 34, 67, 22, 64, 47, 23, 13, 40, 26, 43, 51, 96, 44, 89, 26, 42, 53, 77, 76, 51, 26, 37, 58, 58, 43, 59, 83, 74, 49, 35, 73, 80, 54, 31, 45, 74, 22, 35, 45, 95, 81, 69, 74, 57, 66, 36, 66, 89, 19, 57, 43, 38, 51, 12, 52, 27, 88, 27, 72, 81, 27, 69, 53, 56, 23, 80, 76, 82, 25, 55, 79, 44, 23, 26, 57, 89, 54, 44, 55, 56, 33, 33, 51, 31, 35, 58, 50, 29, 82, 29, 56, 55, 59, 26, 75, 29, 11, 54, 26, 51, 30, 12, 41, 50, 58, 30, 11, 19, 60, 20, 31, 43, 91, 23, 68, 20, 34, 14, 82, 23, 46, 50, 20, 61, 20, 77, 81, 74, 55, 52, 36, 11, 56, 91, 52, 45, 35, 93, 17, 16, 28, 34, 50, 38, 42, 65, 62, 37, 44, 39, 96, 39, 53, 35, 24, 29, 41, 20, 26, 42, 89, 20, 45, 55, 31, 55, 34, 31, 32, 37, 17, 38, 36, 84, 43, 73, 26, 77, 43, 30, 32, 47, 28, 55, 27, 13, 42, 36, 42, 46, 68, 25, 15, 94, 47, 95, 87, 31, 63, 37, 17, 89, 54, 75, 80, 62, 39, 75, 53, 86, 61, 17, 17, 41, 63, 62, 57, 18, 60, 24, 26, 64, 83, 67, 41, 73, 62, 48, 41, 43, 78, 12, 46, 85, 42, 30, 80, 15, 21, 62, 96, 29, 48, 73, 72, 49, 54, 73, 73, 27, 27, 89, 45, 55, 23, 87, 17, 28, 76, 13, 22, 64, 61, 22, 54, 30, 30, 55, 62, 16, 69, 28, 52, 19, 26, 53, 85, 63, 47, 35, 77, 29, 18, 48, 56, 98, 49, 29, 16, 82, 22, 33, 62, 11, 99, 34, 41, 51, 43, 89, 57, 54, 81, 23, 50, 96, 56, 39, 45, 39, 27, 99, 43, 47, 41, 35, 38, 18, 19, 19, 63, 34, 28, 18, 18, 44, 29, 70, 16, 31, 21, 35, 42, 67, 12, 70, 62, 63, 44, 65, 46, 38, 16, 27, 94, 25, 54, 32, 30, 38, 44, 33, 60, 17, 51, 49, 64, 35, 84, 28, 44, 60, 21, 21, 54, 31, 93, 30, 43, 37, 82, 28, 52, 65, 66, 60, 73, 57, 78, 29, 55, 47, 41, 63, 43, 19, 16, 22, 50, 39, 43, 53, 53, 42, 31, 25, 37, 35, 94, 63, 60, 43, 28, 79, 40, 75, 81, 30, 64, 41, 81, 61, 38, 13, 30, 46, 38, 21, 95, 24, 54, 35, 75, 24, 77, 53, 33, 45, 51, 95, 64, 26, 56, 78, 29, 81, 31, 38, 61, 32, 19, 99, 85, 35, 46, 36, 49, 55, 64, 58, 68, 65, 35, 55, 64, 47, 53, 44, 25, 62, 48, 63, 48, 99, 24, 43, 72, 78, 60, 32, 66, 53, 19, 24, 75, 38, 34, 53, 44, 31, 44, 33, 18, 60, 74, 27, 96, 29, 82, 16, 13, 26, 57, 39, 20, 29, 62, 60, 83, 68, 72, 72, 89, 26, 15, 75, 69, 33, 38, 42, 25, 21, 41, 32, 98, 53, 20, 80, 20, 15, 16, 39, 31, 36, 18, 35, 45, 49, 74, 70, 23, 55, 26, 38, 47, 40, 24, 73, 64, 94, 46, 36, 23, 64, 27, 45, 41, 32, 43, 25, 88, 26, 21, 18, 35, 14, 31, 68, 89, 40, 94, 90, 39, 16, 15, 18, 25, 20, 51, 18, 34, 38, 33, 61, 35, 61, 29, 19, 67, 36, 31, 57, 30, 75, 22, 68, 94, 76, 87, 25, 43, 71, 25, 54, 14, 18, 19, 39, 24, 69, 66, 54, 65, 81, 88, 50, 21, 66, 32, 48, 57, 42, 65, 55, 35, 53, 71, 32, 66, 51, 13, 30, 80, 39, 14, 25, 53, 13, 34, 40, 80, 65, 52, 23, 33, 23, 75, 34, 34, 16, 26, 26, 55, 80, 59, 15, 44, 68, 62, 43, 32, 79, 23, 82, 75, 18, 18, 27, 61, 56, 59, 94, 62, 16, 37, 17, 32, 51, 61, 60, 53, 83, 92, 28, 54, 81, 92, 21, 58, 21, 25, 67, 78, 55, 72, 60, 62, 16, 35, 62, 94, 34, 60, 92, 39, 84, 39, 77, 29, 97, 21, 91, 67, 22, 50, 67, 63, 31, 87, 51, 53, 68, 15, 58, 17, 91, 86, 62, 62, 46, 40, 27, 25, 38, 14, 32, 55, 68, 18, 25, 67, 55, 62, 66, 22, 56, 42, 78, 28, 30, 55, 58, 28, 13, 71, 32, 30, 32, 39, 91, 40, 73, 73, 56, 72, 44, 19, 57, 26, 12, 14, 54, 17, 48, 27, 74, 33, 12, 26, 22, 31, 60, 94, 42, 23, 69, 88, 69, 19, 67, 16, 55, 31, 44, 39, 61, 76, 67, 50, 62, 54, 63, 23, 68, 65, 24, 20, 32, 58, 57, 19, 76, 58, 14, 21, 34, 29, 54, 39, 36, 66, 97, 64, 11, 46, 67, 39, 16, 76, 15, 59, 56, 49, 83, 82, 62, 44, 42, 51, 58, 91, 70, 89, 87, 72, 30, 12, 58, 27, 77, 62, 42, 82, 75, 67, 41, 19, 45, 41, 46, 33, 77, 64, 54, 24, 26, 62, 30, 89, 74, 59, 89, 43, 30, 24, 42, 37, 35, 28, 84, 52, 26, 29, 27, 28, 66, 94, 11, 25, 45, 19, 30, 54, 80, 51, 88, 18, 56, 96, 36, 65, 48, 26, 68, 31, 13, 17, 41, 30, 46, 56, 35, 54, 11, 18, 57, 25, 60, 26, 43, 33, 38, 36, 37, 58, 54, 67, 52, 46, 94, 28, 33, 43, 66, 30, 82, 66, 65, 31, 12, 74, 65, 15, 31, 16, 37, 73, 42, 68, 21, 97, 41, 72, 30, 48, 32, 20, 64, 75, 44, 43, 22, 84, 66, 58, 73, 71, 14, 63, 75, 21, 29, 48, 23, 63, 42, 23, 17, 69, 71, 28, 62, 49, 57, 39, 92, 37, 47, 25, 65, 25, 52, 81, 41, 15, 54, 16, 64, 63, 85, 56, 84, 79, 96, 25, 46, 75, 49, 83, 34, 77, 35, 15, 11, 61, 35, 29, 51, 23, 55, 16, 41, 55, 60, 28, 99, 86, 32, 68, 26, 52, 53, 71, 45, 48, 79, 25, 51, 74, 18, 54, 45, 23, 51, 19, 40, 76, 16, 43, 31, 94, 77, 46, 58, 59, 79, 35, 83, 34, 79, 73, 53, 53, 46, 27, 34, 30, 41, 42, 42, 97, 52, 87, 63, 73, 53, 40, 53, 48, 54, 45, 81, 90, 76, 38, 79, 74, 38, 29, 59, 28, 50, 24, 51, 39, 52, 92, 81, 54, 39, 25, 97, 96, 11, 30, 41, 63, 22, 72, 34, 52, 47, 41, 57, 47, 41, 53, 20, 60, 18, 76, 70, 47, 14, 74, 40, 35, 34, 51, 74, 21, 57, 26, 12, 40, 40, 74, 72, 77, 81, 49, 46, 44, 22, 79, 37, 52, 56, 32, 47, 35, 22, 45, 80, 62, 55, 49, 84, 32, 56, 16, 41, 31, 35, 74, 79, 19, 60, 90, 81, 26, 85, 80, 13, 35, 54, 44, 18, 54, 50, 23, 49, 42, 29, 38, 21, 19, 51, 74, 73, 16, 49, 47, 11, 51, 16, 17, 39, 12, 14, 72, 80, 41, 23, 16, 14, 36, 63, 62, 22, 34, 41, 35, 31, 63, 97, 32, 29, 38, 68, 67, 91, 33, 63, 30, 23, 30, 51, 54, 39, 60, 73, 91, 47, 70, 56, 17, 51, 20, 22, 76, 30, 45, 40, 89, 88, 17, 70, 44, 78, 25, 24, 99, 59, 62, 49, 79, 66, 49, 99, 52, 55, 30, 62, 53, 24, 78, 18, 25, 49, 40, 42, 48, 13, 84, 33, 26, 75, 52, 61, 18, 79, 94, 83, 93, 61, 55, 51, 76, 57, 48, 72, 84, 66, 31, 17, 35, 66, 22, 88, 99, 36, 52, 25, 92, 32, 47, 54, 61, 66, 22, 77, 93, 14, 62, 94, 71, 16, 46, 50, 84, 52, 15, 41, 17, 45, 35, 40, 42, 40, 67, 11, 36, 57, 21, 43, 25, 71, 39, 83, 16, 63, 67, 80, 77, 96, 43, 76, 36, 96, 68, 24, 23, 37, 70, 19, 47, 13, 73, 24, 49, 40, 97, 54, 45, 21, 30, 66, 30, 17, 50, 66, 22, 66, 49, 48, 17, 31, 49, 50, 48, 61, 54, 57, 48, 18, 15, 93, 42, 13, 73, 42, 88, 25, 30, 54, 90, 33, 87, 15, 19, 16, 84, 91, 18, 55, 18, 84, 75, 21, 44, 35, 84, 54, 22, 53, 53, 52, 66, 14, 48, 91, 13, 35, 38, 20, 67, 44, 35, 91, 36, 61, 24, 38, 91, 12, 71, 17, 58, 72, 28, 24, 61, 65, 51, 56, 38, 34, 57, 46, 37, 13, 22, 40, 20, 52, 36, 28, 62, 24, 36, 17, 67, 27, 34, 51, 37, 57, 66, 87, 33, 69, 20, 36, 17, 31, 42, 61, 21, 54, 50, 98, 44, 92, 24, 22, 37, 61, 24, 22, 18, 61, 22, 56, 18, 19, 48, 52, 72, 39, 45, 15, 80, 94, 66, 26, 27, 76, 49, 91, 22, 46, 29, 98, 50, 52, 37, 14, 61, 75, 44, 17, 66, 12, 23, 57, 18, 27, 47, 53, 45, 35, 34, 62, 29, 41, 74, 30, 24, 42, 64, 37, 41, 16, 25, 50, 30, 35, 34, 26, 55, 13, 40, 72, 28, 52, 54, 22, 87, 63, 41, 80, 29, 13, 44, 67, 23, 16, 71, 76, 40, 25, 64, 63, 59, 51, 75, 38, 44, 66, 33, 65, 41, 44, 63, 34, 63, 61, 49, 25, 17, 65, 36, 24, 27, 17, 31, 92, 72, 72, 44, 59, 45, 41, 56, 44, 31, 95, 27, 41, 50, 89, 48, 45, 74, 22, 59, 45, 19, 68, 55, 59, 39, 46, 13, 99, 22, 65, 24, 91, 37, 34, 53, 58, 26, 43, 25, 84, 46, 46, 17, 59, 69, 57, 68, 61, 45, 48, 46, 50, 61, 12, 24, 58, 12, 28, 36, 56, 81, 98, 82, 54, 43, 92, 83, 96, 58, 32, 14, 20, 63, 47, 27, 38, 54, 42, 80, 44, 72, 39, 76, 50, 13, 38, 63, 17, 36, 42, 63, 24, 40, 77, 79, 79, 80, 40, 56, 37, 19, 34, 41, 42, 21, 15, 30, 25, 80, 31, 37, 24, 34, 70, 50, 28, 52, 47, 88, 36, 53, 34, 75, 63, 34, 67, 64, 25, 17, 86, 72, 54, 27, 44, 17, 60, 73, 35, 39, 92, 52, 26, 83, 57, 16, 53, 31, 68, 60, 62, 46, 31, 45, 95, 51, 43, 21, 11, 38, 40, 30, 63, 53, 18, 37, 47, 52, 59, 14, 37, 48, 72, 60, 20, 52, 68, 74, 61, 56, 83, 40, 61, 75, 67, 73, 21, 30, 41, 41, 75, 79, 59, 66, 29, 71, 28, 63, 41, 59, 53, 42, 17, 75, 40, 28, 74, 39, 18, 50, 30, 66, 17, 30, 49, 81, 35, 42, 56, 92, 38, 22, 22, 48, 27, 64, 29, 34, 53, 97, 55, 75, 58, 36, 37, 54, 83, 77, 31, 74, 17, 64, 77, 48, 37, 59, 98, 40, 62, 21, 79, 36, 38, 47, 23, 43, 11, 68, 84, 21, 47, 20, 58, 24, 97, 27, 69, 49, 22, 91, 79, 66, 38, 67, 17, 53, 56, 24, 88, 11, 20, 58, 58, 35, 38, 27, 63, 56, 46, 87, 56, 68, 26, 97, 36, 48, 45, 44, 71, 58, 68, 89, 60, 94, 14, 30, 79, 86, 62, 27, 17, 33, 32, 42, 56, 48, 20, 67, 17, 23, 63, 36, 73, 27, 17, 18, 70, 73, 70, 74, 60, 22, 43, 71, 50, 36, 18, 51, 61, 18, 99, 89, 58, 25, 45, 35, 96, 68, 68, 14, 29, 23, 92, 73, 54, 78, 57, 50, 41, 45, 28, 49, 53, 33, 17, 20, 49, 40, 42, 17, 40, 83, 24, 41, 90, 92, 15, 57, 81, 44, 48, 43, 38, 96, 21, 32, 12, 38, 26, 44, 43, 56, 87, 55, 37, 84, 26, 83, 63, 66, 56, 66, 88, 69, 16, 85, 26, 34, 24, 75, 60, 43, 40, 38, 89, 48, 66, 14, 20, 46, 38, 57, 73, 52, 48, 75, 20, 56, 40, 38, 59, 72, 43, 69, 17, 33, 76, 36, 30, 26, 57, 32, 60, 23, 83, 43, 73, 15, 62, 33, 43, 71, 41, 65, 80, 24, 65, 39, 57, 85, 61, 23, 36, 45, 78, 43, 37, 63, 71, 54, 14, 49, 31, 30, 74, 46, 38, 47, 17, 61, 44, 50, 60, 22, 43, 44, 62, 73, 65, 48, 87, 20, 55, 35, 37, 23, 48, 43, 22, 22, 60, 43, 64, 81, 63, 61, 54, 20, 38, 80, 40, 57, 29, 67, 90, 83, 60, 32, 86, 62, 59, 19, 37, 42, 30, 72, 84, 18, 22, 78, 38, 67, 57, 68, 50, 41, 34, 53, 41, 49, 25, 30, 69, 44, 41, 21, 31, 21, 28, 23, 74, 84, 39, 47, 52, 26, 60, 48, 92, 24, 73, 54, 23, 77, 22, 84, 64, 72, 65, 67, 36, 31, 37, 65, 39, 76, 37, 73, 54, 70, 34, 54, 24, 46, 38, 62, 38, 23, 33, 13, 58, 77, 14, 42, 47, 63, 41, 36, 89, 70, 83, 30, 84, 67, 36, 82, 42, 48, 11, 70, 41, 51, 73, 70, 57, 19, 38, 40, 50, 44, 89, 30, 44, 83, 74, 31, 26, 29, 45, 65, 21, 35, 85, 32, 28, 25, 23, 67, 93, 63, 24, 44, 70, 28, 43, 18, 78, 17, 71, 32, 73, 73, 44, 35, 22, 50, 26, 58, 50, 18, 69, 36, 61, 81, 42, 26, 97, 19, 34, 54, 98, 61, 14, 83, 42, 59, 72, 82, 30, 78, 48, 17, 43, 97, 55, 60, 41, 17, 61, 28, 41, 64, 57, 29, 75, 48, 16, 31, 70, 30, 61, 51, 14, 33, 58, 11, 32, 53, 52, 17, 44, 60, 31, 32, 24, 94, 21, 17, 50, 36, 73, 16, 19, 28, 41, 24, 48, 24, 22, 27, 38, 30, 23, 30, 37, 60, 23, 93, 71, 55, 46, 73, 71, 54, 44, 29, 23, 97, 29, 17, 82, 43, 57, 18, 18, 61, 96, 57, 94, 48, 71, 62, 29, 75, 59, 23, 64, 12, 57, 34, 68, 17, 42, 41, 70, 28, 31, 17, 41, 73, 56, 30, 64, 36, 31, 78, 19, 82, 51, 98, 81, 24, 53, 39, 87, 22, 17, 42, 27, 43, 57, 46, 50, 51, 44, 26, 58, 50, 54, 61, 15, 42, 40, 61, 66, 46, 68, 34, 41, 63, 61, 17, 77, 50, 42, 61, 28, 61, 49, 33, 73, 54, 74, 14, 41, 21, 21, 91, 43, 21, 32, 29, 54, 77, 19, 31, 19, 39, 75, 35, 70, 61, 83, 49, 57, 35, 47, 30, 94, 51, 25, 41, 71, 96, 78, 30, 45, 25, 35, 29, 54, 56, 23, 36, 40, 85, 97, 66, 27, 23, 19, 12, 37, 94, 52, 32, 19, 29, 67, 47, 87, 58, 54, 72, 52, 56, 32, 33, 18, 12, 46, 44, 57, 72, 28, 39, 74, 38, 41, 56, 94, 43, 60, 14, 56, 49, 99, 25, 76, 22, 17, 29, 55, 70, 30, 82, 32, 12, 12, 55, 45, 69, 91, 92, 60, 31, 32, 29, 41, 97, 37, 62, 21, 17, 77, 55, 36, 22, 53, 89, 26, 15, 17, 49, 22, 30, 50, 86, 80, 53, 26, 58, 16, 86, 55, 43, 46, 39, 52, 78, 24, 25, 25, 73, 82, 47, 42, 40, 91, 87, 26, 14, 49, 83, 73, 82, 39, 42, 29, 99, 57, 42, 11, 41, 21, 47, 53, 17, 39, 28, 62, 64, 15, 11, 28, 12, 23, 18, 48, 21, 61, 35, 35, 51, 69, 58, 58, 87, 83, 52, 37, 37, 59, 79, 23, 37, 30, 60, 48, 90, 21, 56, 65, 57, 53, 12, 22, 31, 85, 68, 51, 49, 30, 21, 27, 58, 71, 58, 51, 64, 68, 56, 31, 38, 39, 15, 45, 32, 19, 51, 88, 15, 11, 47, 71, 11, 65, 40, 24, 49, 65, 39, 15, 55, 83, 69, 33, 19, 41, 63, 55, 68, 31, 94, 36, 41, 27, 32, 52, 15, 28, 59, 24, 42, 21, 55, 45, 48, 37, 75, 66, 19, 32, 44, 12, 49, 12, 78, 35, 46, 50, 83, 16, 51, 31, 19, 31, 44, 21, 56, 55, 81, 73, 68, 67, 49, 69, 81, 36, 79, 57, 38, 63, 71, 78, 72, 41, 25, 40, 46, 21, 41, 76, 45, 18, 57, 81, 40, 32, 33, 11, 60, 94, 97, 53, 47, 24, 91, 68, 63, 43, 38, 28, 81, 38, 76, 24, 85, 18, 40, 43, 56, 74, 79, 60, 49, 88, 19, 26, 70, 30, 24, 29, 20, 79, 38, 87, 36, 16, 52, 44, 51, 37, 22, 23, 23, 42, 14, 23, 49, 27, 27, 43, 29, 43, 19, 56, 97, 98, 53, 68, 57, 57, 25, 66, 36, 42, 17, 69, 60, 68, 78, 24, 53, 67, 29, 78, 57, 20, 48, 72, 62, 27, 66, 15, 48, 22, 49, 39, 47, 18, 17, 38, 16, 56, 29, 35, 76, 80, 73, 17, 43, 55, 44, 37, 47, 42, 45, 36, 20, 57, 71, 47, 46, 85, 66, 85, 26, 92, 92, 21, 90, 54, 14, 60, 77, 41, 15, 89, 87, 66, 60, 63, 18, 19, 14, 32, 61, 63, 30, 49, 28, 79, 88, 88, 29, 80, 95, 75, 52, 88, 56, 53, 48, 18, 35, 48, 28, 59, 34, 79, 26, 29, 26, 31, 39, 74, 27, 23, 14, 48, 82, 76, 16, 39, 16, 92, 22, 37, 25, 47, 45, 83, 27, 84, 81, 21, 41, 27, 68, 20, 33, 80, 12, 45, 28, 93, 16, 15, 71, 19, 11, 53, 50, 38, 91, 58, 16, 70, 19, 59, 69, 75, 52, 43, 53, 84, 27, 59, 29, 50, 15, 33, 22, 29, 52, 31, 52, 42, 19, 79, 41, 52, 44, 39, 97, 65, 19, 16, 34, 37, 48, 87, 47, 58, 37, 12, 29, 11, 42, 48, 54, 52, 27, 52, 25, 38, 56, 20, 31, 16, 28, 18, 42, 95, 23, 21, 18, 44, 34, 99, 73, 11, 22, 16, 14, 15, 65, 61, 21, 12, 33, 54, 53, 18, 34, 63, 19, 47, 61, 78, 16, 16, 50, 37, 59, 96, 12, 18, 90, 78, 11, 74, 38, 35, 55, 14, 22, 19, 42, 35, 12, 73, 94, 25, 54, 49, 95, 61, 51, 52, 53, 61, 41, 54, 22, 80, 59, 47, 19, 94, 42, 61, 38, 38, 68, 73, 26, 73, 29, 58, 78, 57, 76, 45, 75, 74, 41, 96, 24, 65, 96, 32, 21, 28, 97, 49, 76, 93, 85, 16, 55, 49, 63, 80, 68, 27, 16, 17, 32, 91, 45, 37, 28, 44, 66, 31, 31, 62, 78, 69, 37, 66, 81, 67, 98, 13, 32, 40, 29, 33, 49, 40, 55, 72, 49, 79, 40, 86, 61, 61, 43, 77, 34, 30, 14, 42, 55, 15, 95, 55, 29, 57, 46, 93, 49, 92, 89, 22, 37, 65, 92, 97, 97, 22, 15, 14, 48, 64, 79, 72, 92, 34, 49, 16, 63, 37, 76, 78, 29, 45, 53, 28, 15, 48, 73, 49, 53, 96, 45, 18, 65, 43, 50, 80, 67, 72, 70, 42, 64, 54, 50, 44, 66, 76, 68, 80, 61, 63, 26, 72, 58, 35, 30, 81, 60, 17, 14, 80, 68, 88, 45, 12, 43, 46, 62, 41, 37, 66, 66, 66, 80, 77, 51, 12, 73, 15, 78, 24, 15, 62, 34, 46, 71, 87, 44, 48, 36, 26, 41, 23, 22, 33, 66, 18, 96, 78, 66, 20, 67, 57, 75, 22, 37, 20, 33, 56, 26, 22, 17, 98, 52, 23, 76, 73, 33, 96, 35, 11, 37, 87, 26, 49, 12, 60, 90, 65, 15, 37, 71, 56, 40, 94, 12, 69, 23, 62, 88, 45, 57, 14, 36, 39, 44, 34, 14, 41, 77, 56, 32, 41, 42, 22, 20, 52, 67, 69, 33, 54, 32, 14, 41, 59, 30, 43, 60, 45, 87, 11, 77, 96, 88, 12, 19, 69, 14, 33, 57, 52, 56, 50, 48, 30, 36, 16, 96, 47, 11, 63, 45, 63, 61, 47, 13, 35, 42, 44, 63, 21, 25, 16, 69, 50, 46, 68, 29, 21, 27, 82, 12, 43, 37, 58, 65, 45, 37, 51, 75, 58, 41, 30, 44, 24, 80, 14, 65, 71, 67, 68, 35, 70, 30, 72, 69, 36, 88, 25, 33, 71, 12, 44, 29, 11, 40, 72, 25, 88, 38, 25, 11, 52, 42, 36, 45, 69, 85, 58, 45, 76, 30, 56, 44, 52, 34, 53, 16, 66, 32, 34, 85, 67, 26, 74, 12, 38, 37, 32, 57, 51, 51, 70, 90, 28, 26, 31, 56, 26, 89, 21, 59, 21, 29, 37, 22, 44, 78, 35, 24, 31, 32, 26, 42, 28, 35, 16, 36, 99, 38, 33, 44, 82, 98, 35, 55, 66, 57, 92, 58, 11, 38, 21, 61, 81, 81, 31, 61, 33, 75, 55, 30, 82, 65, 20, 90, 33, 36, 63, 52, 29, 31, 26, 28, 47, 53, 99, 17, 73, 21, 18, 80, 43, 32, 32, 44, 31, 46, 39, 16, 13, 40, 54, 57, 51, 52, 24, 12, 71, 41, 69, 54, 92, 71, 34, 67, 42, 79, 63, 33, 45, 20, 29, 79, 16, 53, 74, 42, 51, 25, 15, 28, 23, 35, 59, 27, 19, 25, 20, 87, 52, 98, 90, 36, 38, 47, 78, 12, 25, 80, 35, 72, 43, 42, 23, 31, 49, 40, 13, 13, 14, 39, 22, 63, 32, 31, 74, 30, 69, 84, 51, 20, 53, 73, 42, 38, 18, 50, 58, 40, 27, 70, 20, 46, 80, 68, 20, 15, 48, 48, 19, 16, 43, 36, 39, 70, 51, 54, 26, 59, 98, 35, 37, 18, 24, 15, 81, 52, 24, 45, 11, 67, 48, 25, 40, 64, 92, 27, 25, 22, 19, 34, 34, 22, 30, 40, 39, 25, 24, 66, 36, 51, 25, 69, 40, 84, 17, 38, 54, 37, 17, 45, 69, 72, 68, 27, 44, 72, 33, 44, 98, 34, 43, 37, 98, 43, 50, 46, 17, 47, 23, 62, 31, 57, 17, 18, 69, 22, 32, 68, 14, 70, 12, 14, 86, 12, 21, 27, 48, 51, 34, 82, 45, 19, 54, 94, 74, 24, 79, 40, 42, 87, 75, 74, 55, 18, 31, 47, 12, 69, 24, 15, 28, 57, 32, 43, 16, 30, 44, 26, 33, 37, 67, 43, 58, 24, 35, 28, 48, 18, 90, 87, 87, 87, 70, 51, 96, 30, 73, 24, 81, 35, 55, 22, 41, 39, 71, 83, 11, 52, 81, 41, 34, 83, 24, 76, 73, 61, 34, 40, 53, 27, 45, 52, 18, 46, 54, 16, 24, 69, 69, 77, 15, 24, 63, 34, 37, 41, 29, 45, 54, 82, 23, 54, 83, 45, 86, 97, 33, 25, 51, 49, 53, 84, 55, 40, 78, 29, 57, 67, 88, 67, 35, 36, 82, 76, 31, 49, 41, 24, 40, 12, 68, 83, 92, 11, 41, 15, 46, 88, 98, 11, 13, 28, 22, 97, 53, 86, 92, 38, 70, 30, 16, 34, 27, 24, 27, 78, 16, 29, 14, 40, 57, 81, 59, 40, 42, 76, 39, 29, 11, 22, 51, 57, 34, 49, 23, 23, 48, 76, 36, 92, 79, 87, 95, 37, 35, 61, 16, 45, 49, 73, 60, 34, 92, 45, 41, 80, 64, 67, 46, 27, 26, 21, 61, 35, 26, 11, 15, 22, 57, 13, 21, 29, 25, 22, 41, 56, 24, 38, 74, 58, 51, 21, 17, 21, 84, 23, 41, 14, 54, 35, 25, 36, 37, 66, 75, 65, 50, 56, 69, 71, 36, 43, 48, 85, 59, 70, 29, 21, 86, 95, 55, 93, 68, 84, 28, 57, 52, 21, 88, 50, 39, 34, 17, 31, 72, 18, 24, 84, 83, 42, 42, 99, 32, 62, 23, 16, 73, 52, 46, 57, 59, 46, 92, 37, 51, 28, 45, 47, 83, 68, 92, 56, 41, 55, 22, 28, 49, 43, 12, 35, 93, 44, 54, 74, 96, 27, 19, 22, 45, 25, 28, 21, 52, 39, 11, 50, 42, 89, 34, 62, 69, 76, 59, 55, 29, 43, 32, 25, 92, 62, 11, 82, 27, 82, 33, 34, 39, 33, 52, 60, 34, 87, 28, 95, 50, 58, 13, 69, 21, 59, 51, 28, 77, 84, 40, 48, 28, 38, 47, 67, 17, 28, 37, 75, 12, 50, 51, 50, 39, 30, 58, 58, 20, 77, 35, 88, 63, 66, 48, 80, 62, 97, 15, 12, 51, 24, 84, 19, 14, 34, 51, 18, 36, 12, 98, 33, 45, 42, 46, 51, 64, 36, 63, 56, 56, 74, 49, 72, 81, 33, 51, 20, 92, 58, 59, 13, 73, 41, 25, 34, 73, 14, 22, 23, 32, 62, 78, 83, 29, 77, 24, 26, 20, 67, 69, 48, 48, 23, 28, 77, 43, 17, 36, 19, 42, 31, 30, 49, 68, 32, 16, 41, 58, 42, 28, 92, 16, 27, 85, 58, 55, 70, 27, 51, 61, 65, 37, 20, 18, 77, 81, 16, 88, 70, 39, 71, 74, 26, 93, 41, 21, 38, 65, 65, 20, 90, 28, 15, 31, 71, 22, 43, 22, 69, 51, 15, 45, 87, 19, 30, 24, 41, 19, 19, 55, 19, 42, 26, 25, 27, 13, 76, 72, 71, 35, 57, 26, 44, 25, 87, 16, 16, 86, 91, 51, 48, 18, 65, 58, 19, 33, 77, 42, 49, 93, 61, 70, 50, 19, 18, 24, 63, 64, 37, 22, 59, 30, 27, 59, 12, 41, 27, 67, 59, 32, 31, 71, 28, 60, 74, 90, 21, 95, 71, 21, 50, 47, 32, 39, 58, 36, 71, 38, 15, 26, 20, 56, 24, 16, 91, 44, 56, 55, 52, 13, 40, 64, 37, 64, 42, 18, 12, 27, 43, 27, 33, 36, 71, 43, 67, 31, 57, 76, 32, 90, 30, 63, 32, 19, 56, 28, 48, 49, 15, 15, 58, 66, 15, 78, 56, 44, 80, 42, 37, 35, 76, 44, 30, 61, 98, 33, 60, 26, 19, 97, 28, 38, 32, 64, 50, 30, 87, 56, 70, 27, 86, 55, 39, 59, 80, 61, 47, 25, 86, 32, 78, 61, 32, 21, 67, 24, 75, 55, 87, 58, 17, 61, 23, 97, 84, 43, 61, 63, 68, 23, 44, 41, 48, 24, 66, 29, 54, 33, 53, 11, 42, 42, 26, 27, 74, 33, 68, 48, 24, 64, 33, 68, 30, 44, 72, 50, 28, 55, 35, 54, 20, 48, 39, 19, 72, 70, 31, 49, 19, 37, 43, 17, 43, 26, 66, 15, 40, 51, 51, 22, 98, 28, 66, 23, 62, 69, 46, 29, 61, 38, 16, 28, 22, 30, 63, 46, 50, 72, 16, 67, 39, 50, 42, 36, 16, 72, 46, 24, 35, 33, 52, 77, 82, 43, 95, 66, 42, 91, 32, 36, 70, 44, 22, 58, 36, 34, 67, 58, 25, 75, 63, 66, 14, 26, 62, 68, 12, 16, 81, 48, 77, 27, 62, 54, 33, 26, 19, 96, 20, 80, 54, 73, 45, 47, 38, 56, 19, 71, 89, 83, 56, 53, 93, 53, 32, 73, 36, 23, 48, 63, 56, 77, 51, 16, 11, 91, 91, 97, 37, 48, 41, 63, 55, 24, 43, 16, 56, 36, 88, 56, 27, 57, 12, 21, 22, 43, 34, 74, 18, 46, 25, 46, 59, 40, 27, 44, 70, 67, 62, 80, 92, 27, 76, 23, 47, 44, 50, 45, 22, 57, 21, 20, 28, 66, 45, 64, 54, 25, 11, 99, 23, 85, 40, 70, 28, 16, 59, 36, 15, 43, 59, 25, 86, 39, 19, 21, 56, 50, 19, 21, 33, 83, 94, 18, 83, 25, 31, 48, 33, 46, 46, 62, 52, 50, 45, 60, 90, 36, 13, 22, 27, 40, 99, 41, 67, 53, 36, 50, 58, 20, 36, 26, 45, 67, 43, 34, 43, 59, 63, 56, 28, 71, 95, 60, 84, 31, 72, 55, 64, 24, 34, 30, 37, 46, 93, 45, 49, 41, 68, 40, 74, 70, 35, 83, 40, 66, 30, 70, 54, 14, 55, 34, 65, 24, 12, 90, 96, 39, 30, 95, 35, 44, 59, 79, 67, 44, 60, 34, 57, 40, 18, 17, 29, 59, 35, 29, 61, 56, 68, 24, 39, 41, 52, 98, 75, 62, 36, 37, 60, 86, 11, 64, 31, 34, 15, 61, 80, 12, 62, 27, 41, 40, 50, 22, 16, 32, 15, 81, 27, 70, 67, 52, 40, 83, 27, 14, 62, 22, 43, 74, 77, 19, 38, 77, 40, 63, 74, 24, 74, 24, 56, 59, 68, 48, 61, 96, 32, 28, 21, 23, 72, 27, 18, 98, 46, 67, 85, 48, 39, 55, 16, 49, 16, 69, 27, 99, 12, 96, 62, 25, 26, 69, 28, 24, 42, 57, 22, 43, 72, 28, 39, 35, 44, 18, 88, 57, 80, 42, 61, 84, 22, 34, 46, 11, 33, 78, 38, 45, 38, 88, 18, 25, 35, 83, 50, 31, 86, 57, 15, 67, 51, 59, 11, 63, 33, 57, 63, 14, 74, 75, 76, 50, 50, 65, 60, 30, 64, 38, 57, 59, 18, 18, 38, 39, 51, 88, 16, 86, 27, 21, 97, 99, 28, 60, 45, 55, 31, 37, 66, 13, 20, 19, 14, 79, 49, 22, 56, 32, 34, 85, 30, 33, 45, 53, 98, 60, 79, 84, 43, 49, 43, 14, 62, 54, 36, 41, 17, 29, 47, 64, 15, 46, 48, 27, 35, 31, 36, 46, 58, 66, 63, 30, 60, 94, 34, 50, 62, 47, 63, 45, 59, 30, 14, 23, 38, 77, 98, 40, 51, 73, 39, 79, 58, 99, 65, 68, 40, 85, 15, 98, 68, 24, 19, 67, 62, 50, 23, 31, 13, 25, 56, 56, 39, 72, 26, 34, 33, 39, 62, 79, 26, 70, 44, 35, 25, 24, 39, 91, 54, 60, 26, 57, 70, 68, 69, 62, 90, 67, 47, 52, 24, 80, 66, 40, 63, 17, 35, 74, 38, 61, 47, 50, 72, 36, 25, 44, 28, 30, 29, 28, 27, 56, 91, 25, 49, 45, 50, 26, 77, 34, 51, 48, 21, 88, 41, 30, 41, 56, 29, 81, 26, 16, 98, 37, 43, 42, 18, 31, 79, 29, 52, 26, 59, 48, 15, 74, 16, 51, 86, 15, 47, 43, 29, 54, 39, 67, 75, 54, 20, 31, 20, 31, 51, 32, 67, 32, 59, 43, 38, 74, 82, 88, 30, 94, 36, 34, 44, 78, 95, 26, 67, 36, 47, 36, 40, 40, 18, 61, 90, 30, 18, 50, 15, 42, 19, 39, 19, 82, 78, 18, 32, 28, 70, 80, 24, 21, 38, 24, 68, 56, 82, 31, 23, 51, 85, 33, 94, 33, 29, 89, 72, 70, 55, 49, 67, 17, 44, 28, 13, 13, 30, 26, 85, 45, 50, 46, 37, 48, 62, 51, 46, 15, 88, 72, 58, 56, 73, 24, 33, 90, 79, 82, 86, 81, 41, 86, 86, 84, 60, 70, 58, 33, 72, 17, 46, 14, 44, 23, 72, 46, 39, 46, 14, 49, 22, 72, 75, 27, 49, 20, 67, 85, 93, 24, 46, 36, 33, 20, 24, 30, 21, 85, 53, 35, 30, 50, 99, 21, 68, 82, 13, 44, 75, 46, 26, 71, 30, 23, 29, 71, 39, 45, 76, 43, 81, 43, 50, 14, 49, 65, 48, 21, 48, 38, 74, 31, 22, 52, 20, 41, 61, 43, 15, 33, 37, 69, 43, 36, 55, 44, 30, 64, 48, 83, 84, 12, 12, 54, 83, 26, 40, 83, 38, 49, 47, 72, 48, 24, 23, 43, 24, 54, 41, 40, 22, 56, 70, 50, 41, 26, 77, 64, 23, 22, 37, 25, 45, 72, 65, 48, 56, 15, 36, 27, 45, 43, 39, 62, 65, 35, 29, 45, 94, 27, 18, 25, 18, 88, 71, 64, 73, 76, 27, 58, 96, 51, 35, 53, 56, 34, 47, 71, 58, 97, 67, 56, 13, 52, 59, 28, 31, 24, 89, 47, 17, 27, 49, 43, 21, 81, 31, 47, 27, 35, 91, 27, 40, 90, 55, 40, 29, 25, 25, 89, 18, 44, 33, 38, 49, 41, 23, 18, 37, 55, 18, 65, 69, 24, 31, 46, 32, 60, 47, 50, 30, 46, 16, 32, 49, 45, 54, 71, 55, 46, 72, 70, 50, 52, 16, 56, 23, 43, 18, 48, 27, 11, 81, 68, 36, 89, 37, 30, 29, 23, 16, 27, 51, 44, 83, 19, 28, 26, 86, 15, 88, 23, 92, 98, 41, 84, 74, 44, 90, 81, 40, 60, 17, 60, 45, 26, 46, 84, 62, 39, 36, 46, 68, 35, 75, 25, 34, 36, 31, 19, 52, 69, 33, 39, 49, 84, 62, 56, 41, 48, 59, 82, 31, 29, 22, 71, 94, 88, 97, 91, 28, 12, 23, 25, 21, 81, 17, 46, 17, 74, 60, 64, 12, 30, 70, 59, 47, 50, 22, 19, 93, 87, 76, 21, 22, 53, 84, 34, 22, 35, 35, 88, 38, 42, 40, 51, 41, 31, 70, 62, 53, 34, 41, 28, 16, 42, 49, 20, 54, 31, 76, 49, 66, 11, 37, 82, 89, 95, 28, 60, 88, 69, 25, 27, 81, 60, 32, 49, 49, 27, 54, 63, 33, 50, 39, 79, 82, 28, 66, 43, 32, 36, 24, 28, 61, 75, 28, 27, 31, 45, 59, 40, 42, 14, 67, 59, 44, 41, 76, 38, 39, 56, 17, 67, 34, 94, 77, 44, 81, 76, 47, 58, 65, 60, 33, 88, 21, 34, 47, 72, 96, 26, 56, 70, 29, 63, 90, 95, 33, 54, 60, 48, 49, 36, 41, 13, 21, 54, 25, 34, 20, 48, 39, 49, 57, 31, 30, 26, 86, 32, 12, 56, 62, 27, 65, 54, 63, 26, 21, 44, 45, 29, 32, 54, 28, 11, 53, 53, 19, 11, 71, 81, 96, 63, 36, 30, 39, 66, 62, 61, 58, 12, 57, 40, 12, 47, 48, 39, 55, 50, 89, 85, 27, 72, 47, 56, 45, 51, 66, 34, 18, 35, 50, 67, 30, 41, 78, 36, 16, 43, 78, 55, 24, 94, 59, 67, 94, 58, 62, 56, 26, 62, 45, 41, 79, 72, 34, 78, 19, 40, 50, 28, 48, 79, 86, 66, 87, 42, 65, 30, 39, 49, 74, 38, 23, 74, 17, 39, 39, 76, 23, 22, 40, 72, 16, 36, 58, 45, 57, 30, 27, 19, 17, 61, 47, 31, 36, 64, 45, 43, 74, 27, 23, 36, 49, 59, 31, 21, 69, 59, 66, 55, 55, 74, 23, 26, 36, 30, 58, 30, 61, 50, 33, 35, 71, 15, 35, 98, 25, 37, 66, 57, 74, 28, 15, 67, 15, 51, 21, 83, 31, 49, 48, 91, 40, 94, 59, 62, 72, 38, 44, 14, 82, 12, 35, 46, 33, 88, 78, 38, 45, 43, 67, 33, 26, 48, 33, 42, 24, 88, 98, 21, 52, 39, 74, 67, 85, 30, 78, 46, 87, 78, 17, 56, 67, 32, 50, 72, 84, 27, 79, 83, 64, 34, 35, 35, 18, 11, 85, 66, 88, 86, 89, 29, 31, 55, 51, 36, 13, 59, 11, 19, 42, 99, 53, 30, 71, 35, 67, 53, 40, 89, 45, 57, 59, 46, 91, 52, 41, 52, 91, 59, 53, 50, 31, 33, 67, 61, 17, 33, 47, 73, 26, 79, 21, 69, 37, 34, 60, 32, 61, 15, 53, 67, 24, 90, 33, 80, 22, 14, 19, 86, 64, 63, 38, 21, 50, 26, 77, 35, 51, 40, 30, 24, 31, 36, 52, 52, 64, 44, 37, 65, 72, 65, 59, 75, 40, 53, 39, 17, 14, 41, 77, 36, 99, 68, 79, 24, 50, 63, 35, 83, 44, 45, 14, 50, 28, 60, 57, 81, 40, 43, 57, 61, 58, 15, 90, 54, 20, 18, 23, 33, 24, 26, 43, 23, 58, 12, 46, 46, 65, 32, 27, 33, 52, 39, 49, 64, 50, 40, 39, 85, 39, 81, 26, 93, 70, 40, 54, 56, 46, 21, 32, 28, 41, 16, 19, 58, 56, 75, 50, 25, 31, 82, 38, 37, 57, 52, 25, 40, 51, 97, 44, 28, 67, 54, 14, 86, 93, 23, 20, 55, 37, 23, 64, 25, 63, 33, 64, 62, 44, 37, 52, 62, 50, 68, 54, 40, 28, 45, 63, 24, 97, 35, 40, 97, 38, 36, 42, 53, 58, 23, 32, 20, 18, 37, 39, 90, 20, 33, 19, 44, 38, 15, 59, 83, 44, 27, 67, 25, 56, 30, 58, 30, 60, 66, 70, 35, 81, 94, 68, 45, 22, 80, 32, 40, 69, 47, 27, 52, 40, 91, 19, 66, 50, 40, 78, 39, 42, 40, 87, 19, 61, 16, 88, 12, 16, 28, 11, 31, 45, 42, 48, 41, 45, 32, 62, 11, 21, 36, 43, 30, 32, 62, 97, 27, 39, 60, 31, 65, 36, 40, 66, 65, 38, 53, 30, 98, 35, 39, 21, 36, 52, 61, 35, 36, 19, 31, 17, 19, 55, 29, 84, 39, 25, 36, 68, 59, 59, 86, 94, 22, 68, 20, 36, 42, 59, 95, 49, 50, 28, 77, 32, 93, 23, 31, 48, 47, 81, 39, 13, 36, 42, 55, 25, 89, 14, 88, 17, 41, 17, 83, 47, 54, 13, 44, 74, 76, 77, 39, 39, 39, 42, 57, 31, 19, 60, 46, 18, 38, 40, 39, 67, 65, 67, 22, 28, 18, 50, 31, 44, 53, 35, 28, 14, 84, 31, 38, 29, 22, 58, 62, 31, 23, 72, 27, 27, 39, 47, 66, 44, 21, 60, 14, 56, 52, 79, 79, 72, 39, 85, 82, 58, 53, 69, 40, 72, 29, 23, 34, 57, 17, 35, 28, 28, 28, 56, 17, 31, 16, 32, 50, 24, 17, 21, 13, 32, 51, 35, 57, 15, 35, 33, 16, 82, 84, 69, 17, 27, 49, 49, 63, 71, 23, 85, 21, 29, 43, 55, 90, 34, 33, 24, 40, 24, 88, 26, 32, 40, 25, 42, 26, 78, 33, 67, 35, 12, 84, 29, 68, 22, 47, 79, 32, 58, 31, 76, 15, 17, 45, 33, 37, 54, 66, 43, 34, 27, 68, 92, 65, 62, 23, 21, 84, 37, 30, 15, 47, 36, 32, 96, 77, 15, 52, 51, 49, 58, 15, 16, 82, 83, 46, 53, 93, 36, 44, 29, 59, 27, 62, 68, 15, 44, 25, 47, 36, 56, 22, 67, 11, 11, 74, 57, 80, 43, 60, 59, 35, 35, 13, 54, 54, 43, 82, 35, 41, 47, 83, 18, 80, 40, 53, 26, 91, 26, 12, 17, 84, 24, 19, 20, 33, 41, 80, 22, 44, 67, 42, 22, 61, 53, 59, 92, 50, 34, 64, 39, 34, 55, 18, 34, 13, 50, 96, 65, 82, 16, 47, 80, 16, 59, 52, 53, 26, 49, 33, 73, 95, 13, 50, 13, 60, 19, 32, 23, 22, 14, 21, 26, 27, 40, 39, 43, 46, 89, 32, 16, 40, 59, 29, 21, 43, 11, 94, 99, 26, 25, 96, 51, 54, 53, 61, 39, 19, 51, 92, 38, 13, 45, 25, 28, 19, 23, 96, 66, 68, 48, 56, 17, 35, 98, 56, 73, 83, 91, 95, 48, 46, 44, 26, 23, 29, 53, 39, 43, 37, 75, 87, 22, 64, 95, 84, 83, 18, 45, 19, 24, 21, 47, 85, 28, 44, 76, 78, 51, 23, 50, 58, 61, 68, 21, 38, 42, 52, 21, 79, 87, 76, 17, 36, 49, 24, 52, 44, 43, 36, 55, 35, 25, 36, 88, 46, 73, 84, 21, 13, 23, 22, 52, 50, 96, 57, 31, 24, 96, 17, 71, 34, 49, 46, 36, 44, 13, 45, 70, 35, 75, 76, 29, 24, 40, 26, 25, 65, 53, 14, 47, 75, 30, 99, 62, 81, 43, 55, 59, 48, 29, 46, 28, 19, 92, 82, 93, 37, 11, 38, 66, 83, 88, 22, 63, 85, 68, 79, 39, 86, 42, 25, 39, 46, 71, 64, 40, 34, 95, 36, 13, 65, 31, 76, 49, 75, 31, 23, 87, 46, 61, 44, 33, 23, 37, 16, 60, 41, 27, 60, 59, 58, 34, 71, 78, 23, 19, 59, 12, 19, 12, 40, 86, 25, 19, 20, 71, 33, 39, 21, 37, 12, 38, 69, 35, 11, 66, 12, 74, 60, 17, 37, 56, 49, 87, 55, 30, 21, 33, 60, 64, 35, 66, 26, 31, 13, 30, 76, 71, 19, 43, 86, 95, 75, 49, 34, 49, 22, 56, 61, 76, 55, 26, 14, 46, 56, 57, 18, 79, 49, 23, 45, 90, 66, 86, 24, 20, 81, 67, 37, 29, 34, 13, 68, 39, 56, 26, 84, 81, 44, 40, 59, 34, 42, 16, 60, 77, 26, 52, 15, 35, 19, 93, 53, 40, 50, 35, 62, 51, 59, 61, 60, 42, 96, 90, 29, 35, 24, 32, 43, 24, 25, 77, 78, 50, 42, 80, 44, 31, 61, 31, 82, 45, 16, 33, 67, 54, 19, 30, 69, 25, 27, 90, 36, 39, 44, 46, 16, 18, 18, 58, 32, 26, 31, 58, 37, 19, 46, 62, 26, 33, 17, 19, 27, 61, 25, 93, 22, 84, 71, 77, 21, 53, 19, 25, 66, 28, 25, 33, 50, 30, 22, 66, 15, 11, 17, 12, 44, 14, 84, 75, 27, 18, 56, 32, 26, 41, 44, 56, 74, 35, 35, 41, 53, 45, 53, 44, 24, 63, 35, 31, 31, 19, 80, 52, 43, 37, 84, 12, 48, 61, 77, 51, 52, 28, 13, 89, 58, 21, 50, 63, 37, 19, 47, 49, 64, 20, 42, 21, 49, 50, 66, 82, 18, 30, 41, 42, 40, 20, 45, 30, 96, 30, 33, 57, 55, 17, 52, 27, 24, 96, 39, 50, 90, 14, 25, 52, 47, 95, 18, 37, 17, 21, 56, 86, 14, 22, 45, 40, 44, 31, 36, 61, 47, 81, 51, 25, 87, 25, 18, 44, 49, 81, 56, 16, 29, 27, 34, 62, 41, 87, 18, 76, 75, 23, 72, 50, 31, 23, 80, 42, 17, 51, 77, 76, 36, 33, 32, 66, 22, 22, 16, 78, 77, 46, 30, 43, 45, 51, 69, 66, 68, 67, 63, 32, 31, 22, 62, 49, 26, 43, 95, 88, 48, 89, 77, 52, 76, 86, 74, 81, 87, 51, 17, 25, 47, 63, 75, 39, 68, 45, 55, 64, 79, 72, 53, 14, 32, 13, 28, 14, 31, 45, 15, 81, 31, 72, 27, 24, 57, 59, 48, 55, 78, 19, 14, 77, 25, 96, 16, 13, 59, 30, 77, 49, 38, 47, 42, 99, 41, 71, 48, 34, 34, 31, 43, 71, 45, 46, 41, 65, 47, 56, 23, 23, 38, 73, 78, 63, 64, 29, 36, 63, 55, 71, 81, 64, 68, 53, 73, 64, 30, 26, 48, 11, 42, 32, 55, 22, 73, 22, 20, 14, 76, 59, 49, 23, 29, 92, 66, 40, 40, 81, 50, 63, 43, 27, 57, 52, 48, 42, 73, 45, 77, 23, 78, 45, 50, 32, 47, 30, 56, 82, 12, 25, 69, 67, 29, 36, 87, 30, 78, 20, 23, 21, 23, 97, 67, 25, 57, 68, 88, 80, 79, 21, 27, 77, 69, 21, 44, 54, 14, 71, 75, 69, 61, 25, 41, 50, 43, 16, 61, 76, 71, 22, 65, 42, 27, 70, 50, 80, 78, 13, 19, 63, 21, 27, 70, 68, 32, 49, 63, 20, 68, 29, 27, 94, 33, 84, 65, 35, 88, 32, 21, 71, 21, 78, 31, 21, 48, 46, 32, 56, 22, 99, 23, 38, 50, 37, 21, 74, 60, 56, 48, 77, 46, 18, 61, 56, 59, 84, 18, 72, 96, 21, 79, 16, 58, 24, 78, 49, 73, 36, 73, 29, 41, 29, 58, 20, 24, 65, 52, 54, 23, 88, 89, 25, 13, 80, 90, 50, 50, 41, 24, 43, 34, 55, 32, 33, 12, 73, 21, 26, 20, 59, 70, 16, 69, 57, 66, 33, 67, 54, 30, 79, 55, 59, 52, 56, 29, 95, 64, 45, 33, 33, 25, 83, 63, 80, 13, 54, 36, 35, 64, 32, 40, 62, 25, 88, 44, 39, 54, 77, 42, 22, 47, 41, 21, 75, 58, 55, 30, 82, 46, 58, 72, 13, 47, 85, 68, 64, 50, 92, 47, 31, 46, 39, 67, 15, 29, 27, 56, 92, 67, 54, 43, 63, 24, 13, 50, 15, 23, 47, 40, 37, 92, 21, 63, 65, 38, 36, 47, 72, 18, 81, 35, 84, 26, 86, 61, 57, 81, 75, 36, 46, 96, 61, 38, 34, 60, 68, 46, 49, 18, 57, 42, 81, 65, 80, 55, 11, 15, 48, 44, 29, 59, 65, 24, 34, 29, 59, 42, 43, 54, 27, 26, 16, 60, 42, 39, 28, 19, 36, 27, 79, 85, 82, 21, 34, 51, 70, 17, 75, 65, 41, 91, 15, 13, 27, 26, 90, 52, 30, 30, 51, 35, 32, 16, 51, 27, 51, 34, 44, 53, 47, 53, 79, 74, 65, 20, 11, 68, 85, 96, 12, 15, 15, 33, 43, 15, 24, 36, 87, 72, 31, 54, 53, 31, 45, 23, 37, 44, 79, 87, 51, 61, 32, 78, 47, 55, 22, 52, 30, 86, 27, 11, 13, 42, 25, 67, 33, 20, 50, 17, 56, 42, 85, 17, 41, 19, 15, 31, 80, 76, 22, 41, 44, 90, 33, 23, 85, 17, 49, 33, 49, 23, 27, 25, 59, 28, 75, 41, 60, 64, 36, 12, 57, 96, 55, 62, 13, 25, 62, 51, 32, 81, 74, 54, 21, 34, 80, 70, 66, 45, 69, 20, 73, 36, 33, 54, 39, 37, 25, 68, 75, 31, 30, 28, 38, 78, 70, 63, 47, 20, 18, 34, 73, 46, 40, 55, 26, 62, 28, 97, 37, 55, 47, 35, 16, 29, 14, 66, 83, 17, 23, 38, 29, 30, 62, 42, 31, 73, 45, 30, 43, 75, 71, 81, 56, 50, 50, 86, 26, 14, 93, 42, 97, 74, 65, 47, 55, 24, 29, 50, 35, 27, 49, 63, 80, 35, 32, 71, 39, 13, 43, 43, 63, 68, 70, 69, 18, 14, 25, 15, 34, 51, 44, 34, 30, 96, 37, 49, 86, 26, 66, 28, 32, 96, 46, 20, 16, 26, 62, 52, 95, 38, 69, 48, 66, 43, 35, 54, 52, 65, 80, 80, 50, 39, 11, 74, 28, 30, 56, 43, 33, 69, 49, 46, 26, 47, 16, 63, 60, 32, 57, 70, 35, 62, 18, 59, 37, 70, 51, 26, 43, 55, 69, 36, 70, 44, 51, 31, 87, 12, 31, 27, 88, 27, 80, 37, 55, 54, 61, 66, 41, 32, 66, 29, 38, 96, 42, 62, 76, 37, 90, 28, 41, 37, 19, 38, 52, 25, 69, 37, 42, 15, 90, 56, 83, 69, 85, 33, 17, 78, 68, 62, 15, 74, 26, 34, 55, 66, 16, 79, 58, 24, 81, 31, 39, 50, 75, 76, 63, 46, 29, 49, 21, 95, 93, 33, 55, 57, 40, 81, 44, 61, 11, 83, 59, 25, 22, 37, 80, 42, 58, 40, 25, 86, 46, 75, 50, 20, 35, 41, 59, 62, 50, 92, 69, 43, 36, 96, 48, 20, 79, 93, 31, 53, 30, 67, 31, 27, 49, 49, 18, 45, 82, 19, 23, 32, 62, 69, 43, 45, 52, 36, 91, 34, 86, 51, 11, 51, 50, 81, 62, 73, 99, 18, 41, 25, 58, 46, 60, 56, 47, 16, 29, 24, 55, 29, 86, 69, 27, 88, 72, 35, 65, 32, 48, 19, 95, 51, 65, 55, 21, 13, 37, 36, 40, 66, 32, 49, 75, 85, 14, 31, 57, 67, 23, 73, 76, 54, 50, 61, 57, 33, 26, 41, 33, 29, 71, 43, 20, 92, 71, 76, 50, 61, 55, 44, 51, 28, 63, 30, 14, 55, 14, 54, 40, 24, 32, 31, 76, 87, 32, 85, 47, 25, 41, 64, 34, 58, 41, 39, 66, 30, 54, 38, 51, 32, 49, 11, 40, 35, 24, 52, 48, 78, 36, 48, 28, 44, 83, 23, 92, 39, 35, 53, 55, 45, 98, 35, 66, 47, 26, 27, 52, 53, 57, 80, 70, 17, 36, 85, 68, 71, 49, 22, 70, 20, 44, 99, 50, 51, 85, 45, 92, 71, 24, 38, 82, 48, 25, 35, 83, 22, 24, 15, 50, 52, 49, 15, 13, 15, 38, 17, 11, 39, 36, 61, 12, 79, 56, 42, 20, 74, 72, 51, 55, 69, 46, 42, 72, 49, 38, 52, 23, 41, 21, 16, 43, 34, 63, 59, 53, 54, 81, 35, 60, 29, 31, 49, 31, 93, 35, 18, 52, 77, 36, 98, 60, 66, 57, 87, 89, 94, 27, 49, 66, 94, 91, 89, 48, 25, 50, 30, 28, 18, 32, 36, 30, 75, 29, 99, 61, 23, 95, 60, 24, 54, 12, 93, 51, 38, 22, 47, 74, 62, 33, 20, 15, 45, 32, 95, 45, 90, 43, 12, 24, 26, 32, 21, 43, 72, 36, 63, 28, 73, 57, 14, 63, 45, 58, 41, 28, 76, 34, 83, 33, 57, 51, 78, 79, 16, 53, 38, 25, 35, 26, 40, 54, 17, 51, 95, 71, 18, 57, 53, 23, 53, 32, 36, 62, 55, 21, 56, 24, 48, 83, 44, 11, 33, 47, 44, 31, 16, 48, 33, 25, 11, 93, 51, 40, 40, 49, 77, 73, 94, 71, 49, 39, 26, 24, 66, 31, 23, 25, 90, 22, 71, 32, 44, 30, 28, 90, 87, 41, 30, 26, 18, 35, 64, 55, 73, 30, 23, 75, 36, 99, 94, 39, 48, 62, 20, 41, 38, 46, 17, 41, 50, 33, 45, 39, 19, 63, 38, 53, 38, 52, 90, 51, 88, 54, 52, 58, 35, 74, 50, 62, 34, 54, 63, 61, 19, 52, 26, 38, 38, 40, 14, 89, 32, 39, 85, 41, 87, 35, 66, 36, 20, 89, 38, 74, 29, 49, 38, 53, 48, 40, 54, 67, 23, 54, 51, 13, 60, 59, 91, 22, 70, 29, 45, 32, 64, 71, 24, 52, 36, 69, 96, 45, 41, 31, 72, 44, 55, 55, 86, 58, 25, 16, 99, 62, 57, 93, 14, 30, 52, 42, 36, 65, 13, 15, 17, 64, 48, 72, 30, 86, 25, 63, 67, 37, 38, 99, 46, 94, 35, 28, 81, 50, 89, 51, 25, 74, 30, 25, 67, 33, 55, 72, 23, 58, 47, 54, 19, 65, 50, 54, 12, 20, 58, 14, 63, 30, 22, 58, 38, 60, 19, 97, 13, 21, 45, 78, 28, 33, 68, 18, 61, 34, 25, 68, 55, 73, 72, 61, 83, 18, 56, 86, 50, 40, 48, 34, 25, 65, 14, 18, 94, 45, 78, 39, 73, 80, 56, 35, 41, 48, 68, 54, 40, 45, 12, 25, 81, 43, 30, 19, 18, 30, 11, 41, 62, 54, 73, 19, 77, 28, 47, 51, 29, 47, 39, 26, 13, 63, 21, 63, 59, 56, 26, 27, 86, 59, 90, 47, 18, 39, 11, 60, 80, 29, 95, 61, 95, 21, 42, 97, 53, 74, 83, 51, 23, 76, 45, 53, 40, 36, 25, 31, 12, 12, 95, 33, 58, 56, 12, 93, 58, 46, 55, 48, 82, 15, 38, 56, 35, 38, 56, 40, 67, 90, 38, 60, 78, 15, 13, 91, 71, 24, 59, 33, 29, 22, 41, 49, 47, 79, 69, 36, 41, 60, 30, 24, 75, 84, 63, 79, 32, 46, 46, 81, 80, 59, 18, 41, 42, 65, 42, 99, 80, 26, 94, 42, 39, 38, 20, 13, 46, 16, 97, 65, 94, 75, 27, 34, 97, 75, 85, 40, 57, 26, 92, 53, 16, 64, 74, 39, 26, 64, 65, 23, 20, 68, 41, 39, 31, 38, 60, 44, 57, 91, 33, 64, 57, 37, 21, 22, 47, 67, 19, 37, 33, 59, 58, 52, 74, 26, 78, 72, 71, 75, 66, 49, 73, 46, 82, 56, 30, 88, 74, 25, 66, 62, 61, 33, 82, 26, 32, 12, 27, 59, 92, 69, 56, 18, 40, 25, 45, 25, 24, 71, 15, 44, 44, 30, 97, 30, 46, 70, 26, 48, 34, 95, 11, 28, 28, 48, 91, 25, 29, 30, 89, 93, 99, 99, 86, 94, 74, 24, 53, 49, 19, 58, 57, 22, 56, 21, 11, 17, 60, 46, 61, 82, 80, 32, 41, 95, 53, 96, 46, 72, 76, 81, 69, 69, 54, 78, 92, 59, 92, 39, 91, 45, 36, 83, 73, 23, 80, 40, 64, 60, 30, 32, 33, 65, 41, 27, 25, 34, 79, 36, 30, 17, 14, 40, 44, 53, 28, 59, 30, 94, 29, 33, 39, 61, 25, 15, 13, 11, 20, 68, 30, 60, 38, 75, 46, 59, 18, 16, 46, 51, 46, 40, 44, 23, 81, 68, 15, 42, 86, 66, 68, 79, 18, 32, 27, 43, 35, 38, 63, 96, 47, 75, 57, 48, 69, 73, 94, 30, 12, 30, 77, 62, 54, 53, 62, 34, 37, 89, 62, 60, 51, 61, 40, 33, 40, 13, 30, 50, 73, 26, 26, 41, 69, 92, 31, 21, 24, 52, 40, 21, 77, 30, 71, 46, 66, 42, 17, 44, 26, 73, 56, 30, 67, 19, 45, 50, 84, 14, 73, 40, 28, 80, 89, 53, 55, 35, 11, 72, 25, 34, 11, 56, 51, 45, 32, 87, 26, 65, 41, 55, 95, 34, 25, 14, 28, 56, 57, 47, 33, 16, 30, 67, 14, 58, 84, 67, 45, 61, 17, 74, 33, 65, 74, 47, 81, 42, 67, 34, 51, 12, 15, 42, 24, 75, 32, 56, 14, 84, 42, 28, 40, 87, 22, 15, 61, 42, 16, 11, 80, 48, 32, 53, 51, 35, 53, 40, 65, 37, 44, 93, 57, 27, 86, 40, 57, 24, 69, 31, 28, 35, 96, 38, 50, 29, 60, 18, 65, 30, 55, 20, 68, 12, 45, 72, 33, 51, 20, 71, 23, 23, 15, 22, 29, 26, 43, 40, 23, 54, 54, 42, 25, 31, 62, 62, 41, 70, 20, 43, 33, 29, 34, 27, 38, 51, 33, 25, 43, 27, 57, 67, 43, 40, 62, 49, 57, 56, 52, 17, 58, 37, 49, 21, 61, 36, 74, 51, 40, 96, 53, 60, 83, 91, 24, 45, 53, 47, 56, 32, 68, 38, 50, 39, 73, 33, 36, 20, 93, 22, 54, 25, 43, 87, 73, 52, 46, 20, 34, 62, 33, 53, 20, 54, 36, 85, 58, 31, 70, 18, 42, 23, 84, 92, 31, 35, 71, 83, 40, 47, 49, 19, 37, 35, 62, 61, 97, 67, 66, 14, 36, 93, 18, 14, 58, 51, 30, 91, 67, 45, 91, 68, 79, 17, 52, 41, 65, 34, 14, 46, 70, 31, 57, 14, 80, 23, 42, 56, 49, 26, 47, 57, 60, 46, 32, 52, 25, 26, 50, 44, 40, 21, 91, 63, 19, 31, 16, 19, 71, 37, 17, 24, 49, 93, 39, 46, 30, 46, 18, 73, 64, 26, 26, 74, 18, 82, 15, 73, 49, 32, 65, 55, 40, 48, 54, 81, 32, 19, 57, 46, 43, 29, 77, 12, 30, 55, 47, 11, 88, 36, 28, 34, 80, 74, 45, 63, 60, 13, 93, 33, 94, 23, 54, 74, 43, 43, 27, 80, 59, 55, 50, 58, 63, 44, 39, 86, 17, 95, 34, 80, 35, 80, 15, 33, 63, 72, 49, 87, 44, 32, 75, 82, 62, 35, 90, 82, 39, 88, 33, 82, 41, 68, 48, 51, 35, 61, 56, 12, 96, 79, 32, 36, 93, 13, 27, 36, 33, 14, 55, 95, 43, 72, 66, 30, 58, 18, 70, 40, 19, 81, 58, 93, 55, 43, 18, 55, 65, 11, 47, 67, 80, 40, 75, 88, 61, 62, 25, 44, 12, 25, 73, 36, 35, 43, 42, 28, 72, 52, 75, 42, 74, 84, 46, 76, 57, 34, 36, 43, 24, 25, 76, 12, 45, 27, 23, 55, 72, 48, 22, 36, 14, 44, 11, 27, 91, 74, 43, 55, 26, 52, 51, 33, 90, 83, 52, 58, 43, 34, 88, 76, 49, 59, 48, 55, 39, 65, 11, 41, 83, 50, 73, 57, 42, 41, 59, 42, 31, 17, 15, 55, 57, 49, 37, 22, 58, 71, 24, 40, 43, 85, 84, 66, 38, 27, 43, 76, 75, 50, 22, 45, 93, 51, 97, 92, 21, 46, 54, 40, 53, 89, 81, 59, 77, 70, 67, 47, 60, 68, 36, 19, 54, 62, 68, 27, 42, 40, 56, 16, 78, 46, 42, 83, 39, 58, 45, 35, 40, 55, 91, 30, 22, 22, 52, 36, 29, 29, 20, 57, 31, 69, 89, 32, 81, 18, 69, 26, 16, 68, 16, 64, 33, 66, 60, 67, 56, 54, 75, 44, 21, 57, 81, 33, 56, 33, 43, 15, 24, 52, 52, 26, 53, 39, 67, 91, 65, 28, 86, 23, 22, 25, 70, 21, 38, 43, 74, 69, 43, 35, 79, 54, 55, 66, 84, 42, 29, 26, 98, 63, 32, 29, 25, 49, 22, 27, 30, 65, 74, 79, 67, 51, 16, 60, 39, 41, 21, 71, 89, 97, 85, 51, 29, 26, 71, 38, 25, 11, 84, 58, 41, 51, 31, 33, 35, 84, 59, 51, 20, 73, 27, 27, 67, 59, 21, 52, 25, 42, 48, 15, 66, 69, 66, 75, 81, 38, 31, 37, 59, 34, 31, 34, 25, 52, 19, 36, 18, 37, 97, 37, 75, 67, 65, 38, 26, 13, 69, 44, 86, 59, 84, 46, 84, 53, 21, 63, 73, 41, 31, 11, 66, 32, 75, 34, 28, 31, 27, 71, 39, 27, 69, 96, 15, 86, 41, 24, 19, 37, 43, 62, 24, 23, 37, 64, 27, 25, 49, 58, 88, 14, 49, 32, 78, 34, 61, 25, 23, 28, 85, 37, 37, 38, 75, 53, 87, 57, 31, 78, 39, 73, 44, 40, 70, 22, 52, 83, 58, 70, 59, 40, 71, 45, 50, 20, 85, 28, 92, 85, 90, 38, 26, 45, 41, 94, 35, 33, 19, 35, 54, 78, 64, 42, 58, 63, 63, 41, 31, 38, 58, 48, 43, 54, 34, 93, 24, 24, 36, 59, 74, 31, 30, 49, 18, 24, 35, 43, 75, 62, 64, 66, 71, 60, 16, 14, 12, 28, 16, 53, 38, 24, 63, 68, 13, 63, 26, 75, 70, 84, 41, 66, 42, 25, 55, 48, 82, 50, 92, 21, 34, 34, 37, 26, 71, 21, 49, 24, 62, 33, 37, 45, 47, 22, 13, 30, 58, 53, 15, 30, 36, 60, 41, 54, 61, 35, 19, 27, 32, 43, 40, 76, 27, 15, 25, 16, 52, 18, 78, 38, 20, 87, 90, 11, 38, 65, 77, 74, 31, 18, 23, 84, 22, 19, 16, 36, 37, 36, 75, 18, 20, 38, 24, 43, 80, 44, 29, 21, 61, 76, 31, 13, 16, 38, 60, 22, 64, 52, 14, 27, 54, 18, 77, 36, 73, 47, 85, 11, 77, 97, 37, 69, 57, 68, 26, 98, 31, 33, 72, 24, 46, 88, 64, 27, 27, 52, 22, 68, 46, 35, 30, 42, 96, 80, 41, 33, 15, 86, 64, 66, 68, 52, 83, 32, 53, 91, 88, 18, 18, 42, 30, 20, 39, 46, 57, 29, 42, 55, 39, 28, 40, 41, 27, 56, 49, 36, 23, 58, 86, 95, 40, 77, 38, 34, 49, 48, 40, 21, 45, 69, 79, 24, 48, 25, 51, 41, 72, 50, 53, 58, 23, 27, 76, 26, 84, 13, 29, 63, 52, 39, 19, 20, 44, 16, 71, 38, 27, 33, 22, 52, 16, 21, 49, 71, 21, 38, 70, 44, 16, 56, 66, 21, 72, 85, 88, 67, 28, 52, 71, 60, 47, 84, 54, 30, 52, 16, 28, 21, 52, 32, 57, 77, 40, 37, 42, 57, 56, 35, 51, 50, 22, 27, 49, 36, 26, 18, 74, 36, 70, 68, 31, 60, 38, 54, 74, 36, 74, 34, 32, 28, 36, 70, 52, 75, 26, 50, 49, 64, 23, 33, 56, 40, 51, 17, 80, 48, 58, 38, 70, 52, 54, 75, 20, 35, 36, 24, 32, 80, 20, 41, 45, 54, 69, 31, 49, 63, 86, 50, 63, 70, 98, 52, 56, 18, 58, 41, 16, 15, 74, 20, 32, 96, 73, 40, 22, 32, 60, 38, 46, 69, 13, 42, 17, 65, 26, 59, 36, 56, 81, 41, 57, 48, 43, 13, 39, 43, 63, 55, 35, 21, 80, 80, 67, 29, 33, 80, 51, 23, 38, 52, 36, 20, 73, 89, 55, 87, 36, 50, 64, 31, 24, 45, 39, 47, 20, 32, 44, 23, 22, 98, 84, 36, 27, 24, 70, 35, 99, 59, 21, 68, 75, 17, 76, 91, 11, 33, 55, 72, 37, 58, 46, 11, 37, 25, 27, 53, 18, 64, 81, 59, 66, 80, 84, 21, 30, 30, 24, 11, 38, 47, 24, 36, 55, 23, 46, 69, 45, 89, 38, 52, 45, 74, 70, 55, 14, 61, 47, 12, 55, 66, 41, 33, 28, 44, 44, 15, 33, 20, 59, 27, 12, 39, 63, 71, 29, 11, 86, 12, 20, 30, 60, 12, 78, 38, 18, 27, 24, 68, 60, 30, 91, 48, 58, 54, 31, 67, 20, 20, 81, 21, 58, 60, 45, 40, 30, 50, 86, 27, 93, 76, 12, 78, 37, 18, 43, 40, 17, 61, 30, 33, 63, 13, 67, 69, 73, 74, 66, 60, 25, 15, 19, 77, 45, 38, 25, 44, 19, 70, 21, 24, 59, 21, 56, 92, 26, 43, 35, 20, 34, 41, 59, 42, 53, 35, 51, 55, 20, 33, 15, 93, 29, 44, 33, 58, 58, 47, 53, 56, 95, 73, 46, 28, 89, 23, 18, 60, 15, 32, 20, 41, 16, 12, 30, 44, 30, 14, 18, 86, 24, 25, 45, 35, 44, 44, 33, 57, 51, 14, 25, 13, 24, 59, 94, 88, 66, 22, 70, 69, 20, 87, 70, 38, 55, 58, 21, 67, 19, 57, 50, 18, 66, 54, 55, 34, 73, 53, 90, 20, 32, 34, 57, 74, 91, 72, 42, 51, 37, 23, 63, 85, 18, 65, 26, 79, 53, 71, 24, 56, 64, 90, 65, 23, 30, 68, 24, 34, 11, 30, 20, 86, 54, 40, 64, 34, 46, 83, 52, 56, 34, 84, 32, 61, 76, 14, 17, 91, 94, 44, 76, 90, 31, 61, 90, 11, 31, 23, 22, 56, 13, 61, 21, 51, 37, 25, 17, 27, 33, 99, 34, 49, 41, 30, 78, 20, 95, 96, 59, 46, 74, 58, 53, 14, 30, 41, 18, 39, 58, 19, 13, 34, 36, 67, 42, 93, 41, 55, 66, 62, 20, 25, 75, 15, 57, 35, 81, 61, 62, 63, 34, 51, 44, 45, 47, 21, 74, 43, 57, 99, 22, 80, 25, 33, 50, 62, 87, 32, 41, 86, 47, 79, 25, 18, 27, 93, 25, 26, 25, 21, 34, 43, 14, 90, 65, 56, 85, 68, 45, 39, 57, 32, 64, 59, 39, 63, 40, 54, 64, 35, 82, 62, 99, 68, 60, 37, 70, 53, 52, 20, 75, 25, 19, 38, 18, 18, 35, 64, 16, 38, 58, 20, 43, 77, 40, 48, 62, 90, 69, 47, 92, 33, 35, 84, 43, 26, 29, 74, 28, 53, 57, 61, 27, 60, 28, 68, 98, 72, 40, 46, 64, 18, 30, 70, 38, 77, 91, 38, 32, 24, 46, 49, 98, 42, 38, 59, 32, 29, 21, 37, 12, 45, 96, 49, 24, 13, 92, 82, 50, 23, 51, 31, 37, 56, 38, 38, 89, 76, 83, 70, 54, 55, 38, 83, 49, 13, 38, 37, 19, 75, 81, 77, 18, 17, 32, 90, 87, 47, 19, 66, 28, 36, 54, 34, 80, 44, 19, 51, 49, 34, 70, 38, 13, 85, 28, 22, 35, 35, 38, 34, 56, 81, 57, 40, 37, 22, 94, 26, 26, 28, 91, 13, 45, 29, 31, 80, 54, 26, 59, 40, 45, 52, 89, 59, 22, 58, 55, 29, 61, 57, 95, 18, 66, 78, 43, 93, 29, 45, 42, 85, 46, 52, 51, 51, 56, 42, 41, 35, 56, 62, 31, 68, 25, 47, 13, 11, 43, 32, 32, 32, 49, 14, 56, 54, 54, 43, 25, 29, 18, 22, 19, 42, 81, 24, 11, 49, 56, 47, 35, 35, 80, 33, 67, 23, 33, 40, 74, 20, 19, 55, 53, 47, 70, 30, 63, 59, 24, 82, 42, 21, 16, 42, 92, 31, 79, 47, 49, 28, 89, 33, 50, 55, 18, 37, 20, 76, 56, 43, 20, 23, 77, 29, 39, 39, 64, 70, 13, 21, 66, 46, 85, 35, 92, 35, 65, 86, 59, 73, 32, 29, 67, 87, 23, 14, 74, 37, 73, 44, 68, 41, 53, 32, 98, 39, 36, 37, 75, 45, 54, 53, 43, 32, 43, 76, 93, 22, 54, 37, 34, 63, 79, 71, 77, 59, 47, 25, 34, 49, 24, 16, 43, 61, 26, 88, 18, 88, 69, 38, 15, 29, 83, 18, 16, 33, 89, 57, 96, 73, 70, 49, 60, 32, 78, 21, 55, 70, 21, 56, 79, 63, 97, 27, 40, 26, 28, 43, 37, 92, 49, 46, 41, 58, 80, 14, 26, 82, 24, 50, 44, 55, 32, 51, 14, 19, 89, 14, 84, 14, 13, 14, 93, 97, 62, 17, 93, 27, 25, 33, 31, 45, 82, 94, 96, 35, 16, 19, 21, 25, 40, 26, 27, 45, 22, 38, 36, 79, 68, 85, 11, 20, 33, 50, 51, 13, 12, 43, 25, 73, 51, 62, 90, 81, 83, 67, 18, 17, 21, 32, 45, 25, 42, 26, 87, 33, 34, 85, 57, 30, 85, 42, 39, 24, 48, 64, 24, 58, 39, 77, 22, 67, 36, 88, 41, 26, 43, 24, 43, 65, 90, 47, 26, 65, 40, 17, 84, 36, 63, 45, 54, 59, 47, 54, 50, 94, 11, 51, 57, 95, 43, 32, 67, 81, 81, 55, 63, 33, 53, 85, 25, 52, 55, 70, 51, 30, 21, 23, 58, 36, 40, 71, 62, 57, 36, 39, 46, 45, 99, 16, 55, 59, 92, 27, 52, 51, 49, 30, 40, 39, 27, 12, 50, 16, 51, 53, 41, 79, 78, 43, 21, 52, 76, 39, 58, 72, 15, 50, 51, 98, 18, 91, 17, 27, 64, 21, 37, 90, 29, 80, 35, 37, 16, 65, 50, 86, 78, 90, 41, 48, 33, 79, 75, 63, 25, 22, 99, 63, 47, 22, 54, 69, 97, 87, 30, 73, 33, 88, 40, 56, 20, 21, 36, 30, 86, 44, 50, 41, 81, 48, 43, 44, 90, 51, 84, 53, 50, 53, 37, 77, 27, 42, 64, 52, 40, 45, 83, 57, 76, 37, 29, 71, 47, 88, 39, 68, 47, 69, 58, 20, 24, 68, 56, 30, 54, 54, 46, 21, 43, 54, 71, 40, 64, 17, 33, 31, 19, 27, 13, 19, 58, 29, 86, 91, 77, 77, 44, 33, 44, 29, 87, 59, 71, 41, 31, 43, 30, 32, 15, 62, 93, 65, 56, 64, 18, 11, 74, 34, 81, 20, 80, 22, 82, 34, 74, 40, 79, 37, 80, 53, 57, 40, 54, 73, 90, 31, 33, 80, 19, 44, 12, 75, 65, 35, 30, 85, 34, 30, 41, 55, 31, 55, 59, 22, 50, 52, 36, 44, 56, 17, 56, 91, 55, 30, 86, 39, 62, 51, 51, 31, 21, 40, 61, 60, 52, 23, 59, 87, 62, 92, 35, 28, 67, 49, 73, 93, 34, 25, 64, 62, 62, 31, 43, 25, 25, 36, 18, 41, 23, 57, 49, 49, 31, 47, 38, 14, 33, 73, 11, 54, 18, 54, 15, 58, 73, 42, 23, 48, 15, 39, 88, 62, 56, 18, 58, 61, 35, 78, 88, 59, 60, 67, 50, 84, 52, 99, 30, 56, 21, 19, 32, 16, 83, 15, 63, 76, 42, 28, 35, 89, 26, 41, 41, 31, 44, 32, 32, 37, 90, 44, 15, 82, 27, 67, 27, 46, 41, 70, 50, 16, 35, 83, 37, 37, 42, 38, 42, 13, 30, 70, 18, 32, 36, 82, 47, 72, 38, 30, 44, 43, 89, 26, 70, 72, 92, 26, 76, 40, 23, 51, 52, 16, 77, 24, 85, 78, 14, 42, 98, 59, 22, 31, 43, 25, 32, 15, 37, 27, 17, 72, 62, 36, 83, 46, 48, 30, 88, 18, 22, 11, 12, 52, 46, 13, 69, 49, 19, 74, 35, 77, 64, 63, 35, 76, 50, 69, 65, 32, 14, 52, 25, 94, 71, 13, 19, 67, 53, 22, 14, 37, 53, 71, 57, 96, 32, 68, 77, 93, 85, 88, 41, 91, 44, 58, 59, 87, 46, 56, 68, 51, 18, 35, 29, 25, 52, 69, 55, 56, 61, 88, 30, 75, 63, 32, 36, 31, 31, 49, 18, 42, 23, 42, 11, 97, 37, 31, 95, 57, 27, 28, 56, 33, 19, 76, 34, 44, 67, 23, 74, 67, 76, 34, 49, 41, 33, 18, 62, 63, 64, 37, 36, 20, 78, 22, 48, 11, 53, 25, 29, 88, 64, 63, 34, 59, 16, 33, 98, 45, 53, 45, 52, 54, 79, 47, 32, 61, 30, 78, 48, 59, 94, 12, 34, 61, 84, 43, 80, 11, 40, 49, 31, 37, 64, 56, 24, 12, 56, 20, 94, 80, 52, 39, 48, 36, 45, 52, 57, 44, 42, 15, 22, 48, 63, 74, 28, 16, 46, 47, 23, 74, 92, 44, 93, 85, 25, 47, 21, 61, 52, 82, 31, 18, 91, 69, 60, 22, 28, 19, 83, 76, 23, 37, 33, 31, 23, 18, 19, 22, 63, 23, 21, 28, 71, 56, 34, 90, 98, 17, 40, 39, 25, 48, 39, 40, 15, 82, 47, 33, 28, 40, 18, 39, 13, 45, 75, 45, 50, 39, 56, 44, 91, 54, 82, 15, 52, 53, 54, 93, 89, 62, 91, 52, 80, 31, 21, 57, 62, 42, 69, 64, 57, 40, 13, 52, 22, 43, 94, 35, 34, 34, 46, 19, 69, 57, 27, 24, 37, 34, 64, 99, 39, 86, 70, 61, 43, 38, 83, 84, 69, 24, 48, 66, 80, 42, 66, 75, 17, 58, 47, 57, 65, 66, 33, 34, 38, 53, 15, 70, 36, 52, 21, 95, 38, 69, 49, 43, 69, 31, 32, 36, 24, 81, 85, 43, 37, 39, 11, 36, 13, 61, 97, 44, 60, 67, 40, 40, 23, 65, 22, 73, 58, 40, 42, 33, 56, 82, 52, 31, 60, 91, 32, 97, 42, 16, 16, 40, 88, 90, 12, 59, 63, 68, 91, 71, 43, 12, 49, 23, 32, 20, 13, 54, 24, 62, 29, 99, 37, 58, 43, 68, 22, 58, 27, 93, 30, 64, 36, 36, 16, 39, 50, 57, 54, 45, 73, 43, 94, 59, 65, 16, 35, 79, 52, 57, 14, 49, 39, 29, 39, 33, 19, 64, 68, 64, 45, 70, 31, 69, 76, 30, 97, 73, 51, 43, 87, 14, 60, 56, 15, 39, 73, 87, 16, 17, 23, 19, 30, 64, 20, 94, 70, 79, 51, 93, 37, 51, 71, 77, 27, 24, 14, 15, 16, 26, 39, 23, 21, 47, 28, 47, 42, 30, 24, 18, 58, 57, 16, 41, 27, 89, 12, 74, 11, 29, 44, 16, 46, 33, 77, 72, 50, 60, 40, 41, 78, 36, 27, 80, 38, 19, 54, 65, 59, 36, 21, 36, 45, 27, 29, 46, 24, 33, 26, 89, 65, 23, 61, 49, 22, 48, 51, 20, 54, 44, 20, 38, 52, 44, 56, 45, 34, 68, 14, 60, 18, 53, 17, 47, 92, 19, 72, 71, 96, 28, 67, 31, 78, 79, 36, 20, 74, 20, 41, 82, 55, 42, 41, 78, 49, 40, 19, 55, 60, 12, 47, 41, 54, 53, 48, 48, 49, 36, 78, 29, 28, 53, 47, 14, 59, 50, 17, 37, 59, 41, 41, 13, 99, 55, 64, 65, 62, 31, 40, 69, 29, 71, 66, 18, 90, 86, 50, 86, 15, 28, 63, 85, 15, 62, 32, 60, 34, 45, 68, 64, 59, 19, 21, 61, 13, 38, 13, 44, 77, 64, 21, 58, 30, 50, 93, 36, 32, 28, 92, 51, 65, 50, 84, 80, 16, 95, 55, 44, 87, 80, 35, 37, 49, 62, 66, 81, 41, 45, 44, 26, 21, 76, 66, 48, 75, 43, 35, 76, 78, 34, 44, 38, 22, 36, 16, 50, 82, 24, 37, 19, 39, 64, 52, 41, 49, 63, 78, 18, 43, 62, 18, 50, 80, 43, 26, 29, 31, 44, 44, 14, 73, 13, 44, 40, 59, 12, 89, 82, 36, 40, 39, 27, 46, 55, 63, 33, 66, 36, 27, 83, 60, 81, 74, 37, 26, 35, 17, 65, 35, 78, 58, 34, 50, 45, 21, 12, 55, 61, 97, 61, 36, 19, 71, 78, 46, 84, 67, 53, 96, 93, 85, 94, 53, 48, 36, 48, 23, 70, 82, 92, 73, 47, 45, 31, 76, 13, 60, 23, 41, 48, 45, 52, 45, 56, 22, 34, 76, 60, 65, 55, 25, 65, 72, 39, 75, 54, 54, 30, 46, 58, 38, 21, 11, 33, 32, 24, 54, 66, 50, 45, 75, 36, 31, 99, 39, 20, 89, 18, 19, 36, 49, 65, 93, 89, 47, 25, 98, 21, 47, 24, 28, 74, 35, 70, 53, 60, 40, 54, 48, 55, 35, 34, 46, 30, 24, 40, 61, 31, 14, 44, 51, 78, 38, 79, 73, 69, 43, 70, 35, 90, 63, 34, 35, 51, 11, 61, 19, 27, 29, 31, 74, 30, 19, 21, 94, 40, 70, 21, 23, 16, 81, 72, 17, 98, 20, 42, 53, 52, 36, 26, 86, 76, 77, 74, 21, 57, 65, 78, 92, 31, 27, 16, 31, 88, 70, 23, 90, 48, 97, 39, 69, 40, 47, 30, 13, 42, 16, 68, 94, 62, 15, 56, 19, 34, 35, 50, 85, 34, 22, 13, 69, 23, 32, 47, 54, 79, 48, 93, 14, 37, 39, 89, 79, 68, 41, 33, 73, 18, 28, 87, 93, 78, 70, 45, 17, 59, 37, 59, 96, 79, 46, 43, 48, 62, 65, 50, 45, 69, 31, 19, 53, 54, 35, 46, 19, 72, 39, 14, 53, 34, 15, 38, 26, 90, 90, 79, 59, 58, 79, 16, 43, 37, 15, 30, 25, 62, 43, 68, 53, 77, 18, 60, 30, 29, 67, 14, 51, 97, 33, 60, 19, 51, 51, 22, 52, 29, 12, 66, 60, 31, 61, 47, 51, 74, 53, 43, 44, 89, 18, 79, 34, 67, 56, 42, 28, 40, 43, 35, 35, 15, 73, 93, 95, 70, 35, 21, 29, 68, 25, 89, 98, 70, 25, 59, 14, 32, 41, 37, 32, 61, 38, 35, 68, 41, 60, 23, 40, 26, 12, 51, 56, 48, 88, 21, 97, 34, 13, 55, 73, 53, 45, 24, 38, 21, 21, 58, 54, 50, 37, 32, 47, 68, 86, 33, 21, 13, 57, 50, 41, 39, 92, 54, 59, 39, 97, 11, 19, 21, 33, 13, 37, 91, 43, 47, 61, 68, 88, 74, 27, 66, 35, 16, 54, 97, 22, 84, 67, 78, 48, 41, 24, 31, 93, 37, 82, 45, 61, 47, 21, 44, 33, 73, 37, 45, 51, 75, 38, 54, 16, 46, 77, 12, 34, 55, 50, 99, 75, 49, 71, 46, 34, 37, 33, 24, 63, 46, 18, 55, 49, 15, 90, 40, 14, 79, 77, 41, 14, 60, 64, 28, 30, 17, 91, 36, 27, 46, 92, 21, 15, 84, 25, 40, 86, 27, 77, 57, 47, 35, 83, 26, 27, 89, 49, 73, 40, 36, 54, 57, 18, 42, 44, 31, 31, 54, 19, 70, 23, 55, 49, 45, 73, 89, 19, 54, 23, 39, 86, 94, 65, 12, 31, 38, 28, 74, 33, 19, 28, 21, 59, 32, 82, 60, 23, 39, 95, 12, 96, 22, 54, 89, 11, 68, 51, 57, 18, 86, 41, 11, 93, 55, 48, 20, 53, 37, 47, 28, 76, 52, 14, 41, 38, 51, 36, 37, 30, 42, 14, 24, 98, 60, 75, 18, 48, 32, 41, 92, 98, 76, 31, 14, 50, 12, 58, 88, 45, 39, 75, 30, 35, 61, 70, 88, 36, 66, 33, 73, 42, 62, 89, 96, 33, 65, 48, 29, 57, 17, 56, 49, 86, 36, 85, 46, 34, 36, 32, 39, 47, 68, 57, 52, 32, 51, 20, 23, 29, 57, 14, 70, 25, 84, 49, 38, 33, 43, 27, 20, 11, 15, 28, 78, 15, 26, 35, 24, 12, 60, 57, 48, 30, 13, 73, 31, 67, 70, 24, 23, 44, 90, 22, 32, 72, 81, 49, 81, 36, 25, 54, 16, 83, 35, 22, 95, 81, 17, 40, 28, 69, 18, 92, 22, 48, 25, 19, 26, 31, 35, 69, 17, 64, 16, 31, 34, 47, 68, 83, 30, 39, 79, 39, 79, 36, 46, 13, 22, 35, 20, 22, 58, 57, 32, 40, 64, 38, 45, 12, 63, 64, 69, 47, 39, 49, 54, 27, 62, 58, 22, 74, 90, 37, 65, 21, 25, 67, 29, 97, 66, 59, 94, 99, 80, 76, 62, 20, 16, 49, 36, 21, 21, 36, 14, 92, 23, 78, 34, 56, 66, 39, 40, 57, 97, 31, 24, 80, 53, 89, 38, 84, 82, 52, 21, 96, 45, 50, 32, 40, 55, 78, 51, 43, 71, 28, 44, 25, 42, 30, 52, 43, 53, 61, 37, 24, 25, 15, 47, 66, 52, 59, 17, 20, 19, 33, 55, 75, 59, 75, 34, 27, 28, 65, 33, 56, 47, 21, 17, 59, 73, 58, 96, 88, 21, 35, 90, 21, 45, 41, 85, 28, 28, 89, 99, 39, 12, 57, 90, 41, 60, 89, 34, 12, 51, 22, 49, 75, 65, 59, 29, 32, 26, 79, 29, 64, 67, 82, 62, 55, 43, 17, 69, 70, 71, 38, 40, 51, 12, 60, 29, 43, 42, 20, 18, 51, 58, 30, 55, 62, 33, 69, 24, 27, 56, 33, 78, 66, 70, 73, 27, 42, 34, 55, 64, 27, 25, 30, 37, 50, 19, 20, 80, 53, 65, 32, 22, 19, 58, 83, 61, 21, 22, 34, 70, 43, 29, 99, 15, 69, 18, 41, 81, 86, 39, 17, 26, 57, 18, 86, 18, 32, 13, 48, 21, 55, 27, 55, 41, 46, 71, 42, 95, 74, 59, 26, 50, 95, 49, 29, 45, 24, 17, 12, 28, 68, 43, 15, 30, 46, 78, 82, 53, 45, 13, 33, 23, 56, 62, 58, 69, 16, 47, 76, 61, 12, 62, 37, 57, 25, 44, 60, 90, 50, 46, 47, 78, 50, 44, 34, 11, 62, 92, 42, 52, 56, 41, 78, 28, 66, 36, 57, 39, 55, 48, 20, 22, 35, 26, 83, 25, 46, 35, 62, 53, 87, 58, 96, 27, 51, 68, 75, 75, 29, 43, 58, 26, 43, 25, 53, 76, 30, 30, 68, 50, 44, 40, 42, 50, 20, 46, 28, 83, 85, 83, 57, 14, 19, 86, 23, 12, 47, 22, 18, 14, 76, 22, 12, 62, 23, 40, 18, 12, 14, 65, 59, 22, 39, 21, 64, 30, 33, 82, 61, 97, 22, 17, 61, 22, 74, 28, 71, 54, 57, 32, 61, 28, 39, 84, 41, 42, 51, 25, 37, 85, 58, 22, 25, 12, 57, 39, 65, 48, 59, 54, 89, 62, 25, 28, 45, 69, 20, 41, 88, 90, 50, 27, 31, 55, 41, 77, 67, 74, 11, 37, 73, 51, 19, 67, 60, 92, 65, 35, 63, 24, 46, 12, 19, 46, 48, 47, 90, 72, 60, 83, 30, 27, 33, 28, 63, 55, 52, 32, 44, 26, 70, 65, 22, 72, 25, 53, 29, 40, 92, 97, 51, 22, 72, 75, 96, 72, 42, 30, 59, 32, 50, 77, 66, 87, 46, 34, 11, 28, 38, 82, 15, 17, 26, 74, 40, 77, 33, 28, 55, 35, 61, 41, 56, 13, 23, 42, 16, 49, 69, 26, 54, 70, 35, 44, 63, 53, 87, 65, 85, 79, 43, 54, 77, 39, 97, 57, 24, 13, 34, 11, 42, 17, 33, 25, 80, 84, 17, 48, 44, 33, 37, 31, 87, 56, 13, 46, 53, 16, 61, 64, 64, 33, 97, 30, 30, 45, 52, 28, 54, 24, 14, 26, 86, 45, 36, 72, 84, 33, 32, 73, 37, 17, 21, 56, 36, 83, 23, 55, 34, 63, 67, 34, 61, 86, 73, 22, 44, 70, 35, 18, 74, 16, 43, 22, 12, 68, 33, 42, 18, 23, 46, 25, 46, 72, 13, 73, 33, 94, 57, 35, 20, 76, 59, 11, 92, 37, 27, 39, 49, 71, 55, 55, 92, 24, 44, 65, 23, 37, 78, 73, 66, 76, 67, 60, 51, 23, 85, 22, 96, 12, 64, 33, 63, 92, 42, 32, 42, 32, 41, 56, 28, 67, 16, 16, 29, 24, 16, 29, 50, 46, 24, 36, 23, 19, 64, 38, 29, 54, 39, 43, 82, 25, 62, 71, 46, 23, 46, 55, 40, 41, 57, 50, 18, 29, 95, 91, 47, 53, 61, 62, 15, 37, 66, 60, 34, 44, 51, 34, 78, 24, 52, 25, 52, 94, 70, 26, 31, 17, 54, 23, 73, 62, 38, 50, 24, 16, 33, 74, 31, 50, 74, 58, 86, 64, 16, 20, 36, 19, 13, 71, 48, 65, 25, 50, 30, 30, 94, 63, 34, 35, 66, 57, 49, 57, 61, 96, 24, 92, 61, 62, 18, 85, 62, 96, 77, 95, 79, 48, 36, 28, 12, 26, 58, 35, 41, 43, 92, 66, 73, 43, 32, 68, 56, 37, 47, 40, 27, 20, 20, 84, 17, 34, 29, 40, 65, 27, 49, 42, 29, 49, 58, 42, 48, 83, 14, 39, 42, 52, 16, 76, 41, 81, 71, 46, 76, 72, 33, 65, 17, 44, 20, 20, 50, 27, 62, 21, 55, 66, 16, 22, 85, 28, 21, 25, 32, 49, 19, 30, 52, 62, 86, 32, 21, 32, 36, 84, 80, 16, 71, 29, 90, 14, 45, 14, 64, 56, 84, 50, 49, 13, 78, 26, 81, 12, 19, 52, 37, 95, 27, 21, 14, 42, 43, 69, 53, 72, 29, 28, 75, 43, 98, 41, 36, 50, 47, 94, 90, 13, 17, 26, 62, 74, 81, 15, 19, 34, 52, 23, 53, 33, 35, 44, 37, 84, 13, 57, 70, 32, 91, 33, 98, 40, 27, 47, 43, 58, 44, 16, 77, 52, 63, 16, 47, 65, 19, 47, 92, 52, 13, 62, 57, 61, 14, 92, 62, 57, 55, 56, 75, 11, 56, 55, 38, 29, 90, 54, 54, 60, 39, 44, 37, 37, 53, 59, 74, 90, 69, 24, 18, 61, 43, 45, 34, 47, 71, 64, 18, 55, 29, 40, 45, 61, 20, 41, 15, 65, 48, 74, 50, 98, 61, 15, 36, 85, 39, 48, 19, 20, 60, 13, 19, 43, 25, 23, 58, 42, 73, 61, 11, 18, 38, 31, 30, 28, 42, 25, 59, 91, 25, 91, 87, 17, 87, 18, 56, 63, 20, 45, 35, 29, 61, 67, 91, 16, 20, 73, 15, 50, 65, 93, 61, 44, 53, 47, 26, 72, 24, 39, 70, 35, 15, 26, 39, 21, 26, 50, 37, 29, 66, 89, 67, 45, 25, 43, 34, 40, 88, 19, 37, 46, 57, 37, 71, 43, 15, 35, 29, 62, 52, 32, 13, 74, 55, 49, 71, 25, 38, 29, 83, 44, 16, 35, 78, 31, 25, 37, 16, 43, 19, 63, 73, 75, 84, 11, 82, 57, 43, 12, 39, 54, 23, 25, 84, 20, 92, 15, 72, 65, 29, 17, 53, 37, 77, 30, 42, 16, 73, 35, 94, 38, 76, 93, 41, 36, 41, 11, 29, 22, 21, 38, 54, 24, 29, 41, 57, 53, 35, 43, 35, 98, 39, 35, 68, 31, 73, 27, 39, 38, 76, 60, 44, 54, 99, 20, 25, 23, 39, 15, 53, 61, 62, 74, 65, 69, 50, 74, 61, 44, 40, 69, 25, 44, 69, 56, 27, 25, 72, 40, 19, 84, 71, 95, 44, 68, 12, 32, 54, 76, 85, 76, 60, 47, 23, 70, 32, 21, 75, 30, 46, 20, 17, 62, 94, 48, 28, 47, 71, 16, 55, 86, 82, 40, 46, 15, 29, 95, 42, 42, 19, 66, 65, 91, 40, 65, 16, 32, 81, 53, 30, 69, 59, 25, 59, 45, 14, 40, 38, 46, 50, 46, 36, 56, 55, 34, 37, 25, 83, 95, 31, 77, 55, 47, 41, 62, 34, 42, 45, 16, 50, 92, 81, 43, 23, 28, 65, 32, 71, 88, 27, 16, 48, 54, 15, 49, 98, 20, 24, 72, 14, 22, 75, 94, 13, 53, 86, 34, 66, 56, 17, 65, 85, 87, 32, 55, 30, 29, 15, 47, 54, 44, 53, 53, 78, 70, 22, 85, 26, 59, 27, 69, 88, 50, 49, 38, 14, 14, 20, 27, 40, 56, 33, 57, 21, 52, 15, 51, 16, 31, 80, 31, 17, 13, 80, 85, 51, 48, 71, 85, 40, 77, 23, 54, 79, 31, 29, 97, 39, 41, 13, 65, 65, 13, 68, 64, 61, 58, 38, 15, 39, 47, 22, 38, 55, 44, 93, 70, 37, 28, 48, 58, 45, 39, 80, 86, 52, 40, 29, 26, 19, 33, 72, 31, 33, 91, 15, 22, 65, 57, 25, 71, 32, 66, 36, 45, 20, 31, 97, 37, 75, 20, 93, 33, 98, 66, 49, 44, 84, 63, 18, 61, 51, 42, 18, 58, 49, 26, 42, 56, 17, 30, 22, 51, 71, 60, 26, 69, 33, 47, 68, 62, 66, 51, 49, 12, 86, 99, 18, 42, 63, 42, 25, 27, 41, 28, 77, 96, 44, 11, 39, 75, 67, 70, 36, 83, 42, 55, 42, 73, 29, 40, 66, 60, 37, 89, 11, 26, 83, 80, 77, 60, 43, 34, 69, 79, 24, 65, 65, 23, 74, 64, 30, 40, 48, 11, 96, 33, 18, 37, 19, 46, 43, 35, 23, 39, 22, 50, 69, 79, 68, 69, 55, 42, 58, 26, 48, 65, 78, 46, 34, 19, 82, 19, 21, 24, 35, 65, 83, 36, 32, 61, 38, 89, 46, 58, 44, 75, 27, 89, 44, 55, 85, 27, 97, 24, 17, 39, 15, 50, 60, 20, 52, 30, 16, 56, 76, 23, 70, 40, 24, 40, 25, 74, 69, 46, 82, 39, 55, 21, 60, 75, 60, 11, 35, 61, 85, 88, 49, 43, 83, 39, 45, 44, 30, 79, 59, 46, 32, 46, 57, 45, 95, 88, 83, 13, 49, 71, 37, 54, 16, 17, 65, 51, 51, 43, 87, 47, 21, 26, 31, 57, 13, 28, 45, 30, 77, 47, 23, 47, 44, 20, 24, 60, 81, 90, 22, 67, 20, 53, 29, 23, 88, 16, 53, 75, 61, 54, 18, 21, 47, 55, 27, 14, 58, 28, 21, 51, 64, 51, 29, 39, 20, 98, 68, 17, 11, 34, 64, 61, 43, 67, 66, 65, 55, 81, 34, 21, 44, 67, 58, 45, 45, 88, 85, 21, 87, 58, 76, 69, 44, 28, 59, 71, 93, 75, 46, 39, 12, 75, 39, 53, 30, 63, 32, 22, 27, 78, 22, 62, 34, 55, 52, 13, 99, 21, 71, 59, 24, 17, 78, 79, 20, 28, 28, 99, 21, 93, 77, 15, 40, 12, 55, 49, 44, 96, 96, 69, 77, 64, 59, 31, 18, 61, 35, 59, 43, 51, 19, 47, 29, 49, 29, 33, 90, 12, 63, 46, 70, 51, 26, 40, 41, 74, 75, 31, 27, 62, 77, 13, 19, 25, 19, 16, 36, 91, 63, 80, 43, 60, 40, 20, 24, 86, 66, 37, 50, 42, 20, 16, 31, 62, 33, 73, 42, 13, 75, 86, 31, 27, 98, 66, 53, 60, 44, 81, 73, 42, 56, 75, 15, 98, 71, 56, 97, 38, 54, 80, 16, 75, 79, 96, 59, 84, 19, 25, 17, 48, 30, 17, 61, 14, 57, 38, 32, 35, 96, 53, 74, 51, 34, 17, 87, 70, 44, 26, 89, 23, 27, 53, 29, 39, 53, 26, 40, 46, 32, 36, 44, 36, 44, 82, 59, 38, 95, 24, 50, 18, 15, 31, 63, 37, 39, 81, 59, 21, 68, 67, 50, 42, 63, 47, 61, 33, 71, 89, 34, 23, 62, 88, 51, 41, 51, 86, 26, 71, 32, 41, 22, 15, 54, 36, 53, 55, 36, 34, 11, 85, 18, 66, 37, 35, 36, 61, 45, 57, 20, 53, 55, 20, 30, 80, 89, 35, 55, 46, 12, 25, 32, 51, 97, 30, 11, 98, 33, 87, 80, 35, 48, 32, 23, 53, 26, 63, 37, 25, 42, 55, 54, 81, 32, 50, 60, 19, 21, 81, 36, 46, 41, 46, 24, 14, 12, 50, 61, 46, 43, 99, 44, 52, 29, 11, 41, 36, 54, 20, 30, 66, 37, 24, 84, 28, 78, 55, 14, 25, 59, 39, 46, 23, 55, 33, 62, 27, 72, 19, 24, 51, 90, 75, 91, 44, 40, 66, 49, 46, 74, 42, 27, 34, 27, 76, 76, 74, 55, 38, 21, 25, 15, 74, 19, 95, 23, 44, 19, 94, 51, 58, 22, 77, 29, 15, 58, 56, 97, 91, 30, 43, 73, 59, 43, 42, 64, 51, 60, 46, 74, 24, 75, 14, 87, 94, 19, 35, 33, 24, 27, 11, 69, 42, 29, 44, 56, 25, 82, 99, 49, 44, 67, 92, 52, 19, 57, 65, 51, 47, 66, 36, 64, 33, 40, 95, 99, 30, 34, 14, 58, 13, 36, 77, 44, 99, 76, 78, 23, 16, 86, 30, 14, 28, 17, 46, 30, 41, 22, 45, 62, 74, 51, 84, 86, 26, 68, 30, 37, 73, 52, 73, 40, 33, 15, 50, 28, 16, 71, 11, 31, 17, 24, 58, 52, 43, 58, 43, 69, 46, 57, 53, 88, 25, 62, 91, 19, 15, 41, 17, 34, 13, 75, 62, 67, 73, 21, 93, 64, 15, 42, 26, 36, 33, 60, 75, 56, 20, 49, 91, 61, 30, 71, 47, 30, 28, 44, 37, 41, 66, 27, 54, 64, 76, 74, 26, 16, 45, 73, 88, 14, 27, 32, 56, 68, 57, 71, 29, 62, 91, 79, 86, 39, 24, 46, 38, 86, 57, 30, 41, 29, 33, 58, 76, 28, 50, 71, 89, 91, 29, 26, 36, 70, 47, 47, 63, 51, 67, 54, 67, 12, 41, 91, 37, 37, 51, 28, 80, 60, 50, 41, 38, 68, 43, 35, 41, 75, 66, 83, 92, 68, 29, 52, 80, 94, 26, 47, 36, 49, 23, 94, 60, 51, 27, 16, 24, 64, 56, 78, 85, 79, 92, 36, 20, 38, 18, 39, 93, 28, 26, 13, 81, 74, 86, 28, 49, 15, 81, 38, 88, 13, 89, 66, 53, 36, 54, 58, 75, 39, 33, 61, 37, 32, 23, 75, 94, 51, 35, 36, 90, 30, 15, 60, 31, 51, 77, 30, 21, 86, 81, 38, 53, 99, 65, 38, 54, 57, 37, 11, 33, 21, 39, 56, 33, 49, 71, 71, 84, 32, 20, 23, 45, 72, 49, 24, 15, 38, 48, 65, 25, 30, 35, 66, 12, 59, 91, 48, 67, 46, 14, 63, 77, 89, 46, 98, 65, 63, 29, 43, 67, 31, 34, 30, 39, 44, 83, 25, 12, 66, 86, 22, 56, 18, 95, 51, 33, 22, 67, 34, 32, 42, 86, 45, 32, 67, 71, 70, 42, 26, 75, 19, 49, 36, 67, 69, 40, 55, 14, 52, 67, 60, 43, 37, 60, 39, 38, 40, 12, 54, 37, 31, 34, 30, 54, 41, 37, 88, 68, 69, 30, 59, 27, 42, 74, 12, 34, 91, 56, 15, 16, 42, 53, 15, 42, 47, 14, 56, 62, 17, 49, 48, 34, 28, 59, 23, 81, 54, 24, 33, 22, 73, 53, 36, 61, 68, 57, 60, 47, 53, 83, 69, 36, 17, 64, 31, 12, 55, 40, 33, 61, 51, 19, 94, 35, 21, 41, 64, 26, 51, 61, 99, 61, 12, 41, 42, 39, 40, 37, 41, 19, 56, 81, 68, 49, 22, 37, 20, 51, 54, 16, 75, 58, 26, 15, 69, 40, 16, 18, 41, 72, 12, 98, 33, 41, 47, 11, 83, 33, 35, 87, 41, 61, 14, 50, 46, 39, 48, 93, 29, 52, 18, 27, 36, 14, 84, 97, 67, 14, 40, 13, 64, 69, 34, 49, 79, 39, 22, 16, 36, 37, 69, 53, 61, 23, 41, 34, 42, 64, 13, 38, 32, 72, 96, 66, 57, 53, 41, 21, 42, 79, 43, 93, 88, 95, 35, 18, 34, 56, 26, 49, 76, 35, 47, 17, 68, 67, 66, 45, 38, 67, 64, 50, 53, 59, 91, 22, 14, 57, 52, 22, 52, 70, 11, 34, 33, 30, 41, 32, 14, 60, 83, 33, 25, 21, 33, 24, 67, 50, 14, 36, 36, 36, 59, 33, 23, 66, 38, 31, 28, 14, 84, 57, 71, 94, 19, 92, 34, 20, 86, 51, 42, 19, 46, 77, 44, 24, 62, 76, 39, 33, 51, 47, 81, 55, 55, 68, 57, 43, 29, 51, 41, 53, 51, 12, 93, 76, 58, 55, 43, 46, 63, 20, 21, 51, 35, 36, 17, 86, 52, 18, 43, 64, 40, 17, 73, 90, 30, 74, 85, 40, 22, 60, 49, 25, 49, 51, 40, 96, 91, 66, 88, 58, 36, 29, 11, 90, 51, 18, 15, 85, 29, 34, 47, 46, 61, 29, 25, 25, 11, 62, 12, 25, 66, 33, 45, 53, 58, 37, 80, 32, 85, 27, 19, 25, 35, 59, 59, 16, 89, 82, 43, 83, 55, 84, 97, 57, 70, 21, 61, 28, 28, 18, 61, 68, 90, 37, 20, 88, 88, 39, 48, 46, 19, 33, 88, 68, 99, 95, 87, 87, 79, 48, 55, 19, 44, 99, 46, 33, 23, 15, 29, 16, 38, 38, 67, 60, 21, 79, 71, 89, 57, 39, 64, 41, 66, 23, 72, 18, 31, 24, 45, 28, 94, 60, 79, 60, 23, 29, 32, 59, 74, 61, 90, 62, 39, 12, 40, 27, 51, 71, 83, 42, 62, 23, 16, 30, 22, 36, 27, 51, 99, 37, 24, 39, 31, 44, 46, 58, 16, 22, 36, 72, 37, 46, 22, 11, 98, 28, 36, 95, 50, 17, 28, 81, 16, 43, 68, 48, 34, 41, 59, 44, 70, 50, 69, 82, 16, 93, 32, 69, 33, 51, 38, 38, 60, 36, 75, 27, 11, 50, 41, 44, 24, 28, 34, 60, 38, 21, 61, 38, 32, 74, 86, 82, 53, 38, 44, 80, 86, 27, 40, 35, 34, 71, 85, 61, 64, 35, 58, 38, 38, 22, 13, 35, 76, 79, 40, 20, 62, 37, 18, 44, 37, 15, 85, 36, 36, 35, 47, 55, 93, 22, 71, 24, 52, 48, 49, 63, 36, 80, 32, 23, 79, 73, 43, 71, 60, 32, 42, 33, 45, 57, 81, 19, 43, 45, 24, 23, 49, 62, 50, 73, 17, 30, 40, 35, 71, 36, 54, 76, 55, 37, 45, 43, 33, 64, 36, 62, 89, 78, 18, 72, 33, 45, 22, 14, 58, 54, 77, 54, 91, 60, 59, 57, 64, 38, 75, 78, 43, 74, 47, 92, 63, 49, 64, 50, 61, 88, 42, 45, 96, 37, 74, 29, 88, 43, 37, 46, 56, 26, 54, 99, 39, 46, 64, 29, 29, 67, 32, 82, 69, 54, 48, 31, 20, 70, 27, 48, 33, 49, 81, 69, 71, 51, 53, 38, 78, 33, 85, 43, 65, 16, 87, 53, 43, 22, 55, 27, 25, 17, 93, 22, 83, 31, 25, 59, 72, 49, 15, 54, 50, 32, 79, 68, 12, 74, 69, 38, 73, 75, 41, 86, 24, 23, 29, 16, 71, 45, 97, 38, 64, 36, 60, 54, 53, 24, 36, 46, 47, 21, 40, 80, 64, 50, 23, 69, 20, 81, 28, 99, 55, 36, 53, 54, 33, 70, 70, 75, 33, 39, 68, 38, 57, 35, 74, 28, 44, 19, 21, 76, 57, 15, 80, 25, 56, 32, 24, 53, 49, 36, 51, 49, 26, 68, 85, 76, 32, 13, 19, 16, 34, 34, 18, 78, 41, 36, 20, 33, 50, 55, 26, 46, 38, 26, 30, 73, 51, 93, 99, 46, 11, 28, 31, 44, 19, 25, 81, 11, 24, 73, 80, 35, 46, 58, 89, 70, 83, 26, 88, 81, 23, 37, 28, 94, 29, 38, 68, 26, 19, 29, 51, 81, 51, 90, 43, 98, 36, 39, 39, 74, 41, 30, 86, 76, 20, 58, 52, 57, 23, 59, 42, 13, 66, 29, 33, 71, 89, 24, 35, 56, 63, 13, 45, 20, 82, 22, 59, 28, 69, 42, 76, 46, 36, 11, 40, 43, 16, 69, 46, 44, 13, 13, 14, 33, 67, 99, 72, 28, 18, 39, 68, 20, 50, 27, 29, 60, 54, 43, 45, 62, 58, 84, 36, 70, 30, 77, 81, 43, 18, 17, 80, 56, 26, 38, 46, 36, 72, 66, 40, 23, 25, 52, 34, 54, 47, 54, 52, 62, 79, 76, 30, 47, 90, 81, 84, 14, 60, 15, 96, 43, 53, 21, 91, 59, 68, 41, 22, 15, 59, 34, 39, 61, 32, 84, 20, 95, 11, 31, 69, 46, 28, 65, 44, 28, 38, 64, 46, 76, 23, 28, 56, 59, 42, 14, 63, 38, 16, 11, 51, 34, 13, 34, 43, 75, 16, 13, 49, 59, 90, 33, 76, 92, 21, 43, 31, 43, 20, 55, 47, 32, 27, 23, 68, 38, 42, 39, 84, 26, 61, 76, 24, 26, 21, 77, 37, 31, 52, 33, 16, 37, 35, 44, 54, 61, 68, 25, 27, 60, 69, 15, 23, 25, 62, 46, 36, 13, 58, 11, 55, 39, 38, 39, 50, 60, 85, 17, 13, 57, 26, 18, 89, 64, 39, 20, 20, 27, 69, 33, 49, 40, 38, 42, 12, 48, 42, 25, 54, 16, 47, 33, 28, 19, 83, 35, 68, 74, 65, 12, 74, 95, 99, 62, 35, 70, 37, 71, 38, 60, 37, 79, 31, 43, 64, 33, 31, 76, 54, 78, 56, 46, 53, 73, 60, 39, 39, 97, 37, 48, 51, 23, 32, 11, 95, 45, 25, 31, 50, 18, 16, 33, 67, 30, 49, 38, 68, 11, 43, 30, 34, 95, 18, 19, 59, 93, 22, 82, 31, 25, 70, 44, 74, 35, 65, 50, 27, 49, 72, 48, 23, 52, 75, 77, 48, 52, 21, 35, 40, 20, 76, 22, 64, 67, 59, 24, 40, 23, 24, 53, 61, 43, 65, 37, 26, 53, 13, 92, 47, 88, 54, 36, 45, 67, 31, 59, 69, 15, 38, 42, 32, 48, 61, 31, 69, 38, 83, 33, 19, 35, 55, 47, 58, 48, 81, 16, 83, 51, 76, 45, 38, 42, 52, 51, 72, 91, 53, 92, 52, 39, 83, 50, 64, 52, 14, 94, 46, 23, 82, 68, 19, 45, 92, 21, 48, 42, 36, 37, 27, 40, 82, 56, 36, 65, 32, 45, 57, 26, 81, 31, 66, 31, 56, 44, 77, 60, 45, 77, 34, 98, 17, 37, 31, 27, 78, 44, 55, 73, 62, 31, 12, 38, 13, 53, 21, 86, 78, 23, 41, 19, 32, 43, 32, 63, 35, 42, 46, 52, 47, 88, 64, 45, 68, 83, 44, 92, 53, 12, 36, 48, 33, 87, 17, 11, 59, 34, 19, 83, 15, 49, 32, 39, 66, 94, 77, 47, 93, 55, 20, 67, 39, 85, 47, 16, 28, 70, 26, 80, 99, 30, 30, 35, 21, 67, 52, 18, 41, 35, 35, 69, 63, 55, 26, 22, 27, 88, 85, 15, 27, 21, 64, 43, 44, 55, 44, 51, 34, 28, 99, 52, 90, 27, 91, 68, 25, 67, 51, 25, 38, 20, 77, 36, 89, 29, 29, 81, 36, 58, 40, 14, 76, 66, 20, 21, 84, 48, 94, 48, 68, 20, 31, 60, 75, 68, 44, 29, 88, 83, 97, 26, 77, 31, 35, 26, 60, 36, 59, 14, 11, 35, 80, 57, 44, 13, 54, 83, 50, 72, 78, 45, 89, 28, 38, 64, 53, 30, 40, 30, 36, 25, 41, 95, 17, 56, 37, 89, 87, 57, 79, 75, 48, 62, 32, 47, 69, 43, 72, 91, 50, 15, 18, 16, 60, 29, 62, 19, 48, 15, 66, 81, 13, 57, 44, 50, 14, 88, 19, 95, 66, 39, 27, 60, 11, 92, 62, 42, 13, 53, 19, 28, 99, 50, 72, 63, 36, 21, 70, 21, 44, 96, 71, 75, 66, 50, 15, 79, 22, 71, 88, 68, 63, 41, 23, 45, 49, 28, 16, 46, 33, 82, 78, 89, 49, 82, 81, 88, 25, 63, 74, 39, 13, 50, 50, 28, 46, 64, 88, 31, 37, 23, 37, 30, 13, 32, 75, 67, 73, 82, 57, 39, 58, 62, 14, 77, 76, 32, 37, 35, 63, 52, 62, 97, 40, 33, 64, 85, 19, 62, 54, 87, 35, 39, 44, 86, 31, 26, 92, 35, 15, 28, 42, 61, 91, 90, 74, 83, 73, 97, 70, 12, 18, 57, 18, 92, 18, 41, 91, 81, 54, 87, 24, 38, 86, 25, 15, 93, 15, 50, 74, 39, 75, 45, 22, 72, 71, 30, 41, 62, 24, 79, 17, 33, 74, 48, 52, 14, 31, 13, 35, 88, 46, 86, 52, 87, 56, 28, 91, 49, 36, 78, 58, 47, 45, 29, 47, 26, 35, 38, 44, 33, 36, 30, 86, 56, 45, 43, 63, 30, 71, 48, 14, 44, 20, 96, 79, 32, 88, 84, 64, 29, 19, 72, 64, 13, 70, 76, 50, 67, 30, 26, 68, 63, 53, 82, 28, 91, 69, 65, 60, 36, 25, 38, 81, 96, 60, 33, 15, 30, 76, 35, 52, 38, 60, 57, 33, 59, 40, 42, 37, 36, 34, 23, 70, 67, 20, 28, 20, 25, 37, 93, 34, 39, 38, 28, 71, 18, 27, 17, 28, 86, 28, 31, 75, 36, 79, 23, 29, 55, 18, 39, 48, 59, 83, 39, 68, 32, 91, 49, 55, 37, 66, 20, 44, 36, 30, 67, 56, 59, 63, 83, 91, 67, 29, 13, 12, 38, 72, 51, 33, 25, 65, 33, 16, 78, 63, 40, 11, 85, 78, 87, 58, 15, 44, 72, 40, 35, 45, 43, 81, 65, 72, 24, 61, 40, 15, 41, 35, 62, 42, 39, 29, 37, 48, 42, 93, 70, 57, 60, 49, 58, 29, 43, 48, 42, 37, 78, 43, 54, 50, 31, 68, 69, 76, 41, 51, 15, 82, 35, 22, 12, 89, 43, 80, 81, 64, 28, 51, 51, 91, 21, 17, 88, 68, 59, 66, 17, 60, 53, 36, 45, 74, 20, 84, 45, 75, 23, 18, 72, 40, 23, 73, 28, 76, 26, 55, 16, 34, 90, 25, 87, 29, 58, 92, 43, 69, 88, 62, 78, 29, 32, 58, 36, 12, 34, 85, 65, 70, 95, 30, 33, 43, 64, 62, 58, 16, 16, 24, 79, 54, 37, 12, 52, 51, 28, 27, 54, 20, 30, 26, 33, 28, 43, 76, 41, 33, 72, 90, 13, 43, 13, 13, 78, 88, 66, 18, 65, 58, 22, 43, 76, 39, 46, 19, 64, 47, 54, 21, 35, 22, 78, 12, 42, 29, 14, 20, 27, 92, 98, 62, 34, 35, 41, 36, 42, 75, 13, 46, 36, 18, 20, 81, 29, 16, 42, 38, 74, 54, 34, 63, 30, 17, 27, 42, 53, 18, 60, 24, 72, 75, 19, 63, 54, 92, 30, 48, 94, 33, 37, 98, 46, 59, 91, 39, 67, 40, 90, 43, 36, 73, 92, 93, 51, 17, 26, 60, 89, 29, 35, 57, 44, 52, 59, 34, 72, 45, 42, 38, 71, 52, 94, 38, 73, 60, 63, 17, 57, 16, 95, 85, 51, 36, 55, 51, 64, 30, 88, 73, 18, 66, 34, 54, 28, 61, 81, 73, 35, 36, 40, 45, 86, 51, 19, 80, 66, 48, 62, 93, 82, 19, 53, 27, 58, 74, 30, 64, 52, 43, 66, 22, 33, 95, 47, 30, 30, 82, 52, 42, 21, 60, 93, 27, 93, 37, 51, 82, 52, 24, 20, 27, 80, 75, 31, 32, 55, 11, 72, 53, 37, 27, 34, 31, 25, 36, 30, 79, 52, 46, 14, 13, 33, 31, 49, 61, 63, 43, 40, 26, 83, 21, 59, 47, 71, 34, 28, 44, 64, 18, 46, 24, 39, 67, 65, 26, 62, 57, 47, 91, 27, 93, 25, 44, 25, 33, 21, 32, 89, 37, 48, 65, 28, 35, 17, 23, 14, 32, 14, 45, 38, 74, 39, 22, 53, 37, 17, 30, 93, 56, 61, 77, 44, 46, 28, 41, 70, 37, 40, 35, 53, 67, 69, 81, 30, 36, 46, 76, 12, 43, 47, 27, 64, 61, 17, 25, 52, 49, 42, 14, 36, 97, 18, 32, 28, 46, 76, 35, 16, 86, 49, 42, 37, 16, 54, 68, 88, 15, 98, 35, 17, 13, 31, 72, 63, 29, 43, 42, 31, 86, 50, 32, 93, 85, 37, 29, 42, 41, 37, 46, 15, 21, 69, 74, 61, 29, 22, 44, 52, 70, 22, 56, 48, 92, 68, 65, 48, 52, 79, 95, 83, 61, 36, 90, 16, 53, 44, 70, 64, 86, 96, 67, 17, 79, 65, 81, 35, 50, 57, 80, 91, 42, 28, 41, 26, 86, 37, 44, 22, 20, 98, 41, 29, 35, 60, 38, 48, 87, 78, 41, 76, 40, 81, 78, 13, 34, 56, 48, 61, 17, 29, 52, 44, 33, 33, 38, 73, 38, 31, 89, 57, 60, 17, 75, 19, 45, 89, 34, 50, 19, 48, 40, 42, 57, 64, 99, 68, 70, 79, 68, 35, 71, 31, 25, 96, 47, 75, 90, 36, 45, 37, 14, 55, 57, 26, 82, 84, 16, 18, 91, 76, 69, 56, 25, 69, 63, 45, 37, 58, 27, 25, 47, 26, 30, 21, 21, 37, 29, 84, 55, 66, 29, 39, 51, 58, 90, 71, 65, 40, 73, 15, 21, 76, 72, 62, 18, 15, 17, 21, 26, 70, 14, 99, 96, 44, 99, 84, 89, 40, 93, 35, 48, 36, 26, 18, 24, 30, 68, 36, 94, 26, 70, 30, 94, 24, 23, 66, 21, 23, 85, 47, 37, 62, 26, 35, 36, 24, 57, 66, 51, 17, 54, 34, 86, 28, 34, 72, 42, 31, 79, 37, 44, 95, 86, 91, 49, 23, 60, 22, 66, 43, 93, 84, 56, 67, 34, 58, 72, 34, 89, 76, 82, 25, 60, 58, 12, 35, 68, 29, 92, 83, 38, 48, 89, 69, 38, 23, 50, 48, 36, 60, 51, 51, 92, 18, 45, 29, 36, 66, 76, 16, 58, 72, 16, 45, 62, 89, 26, 29, 33, 59, 45, 33, 65, 84, 50, 58, 51, 67, 99, 42, 38, 78, 11, 83, 32, 85, 92, 32, 50, 72, 30, 35, 95, 22, 82, 58, 13, 75, 68, 54, 44, 40, 32, 33, 46, 97, 91, 38, 15, 17, 78, 60, 20, 73, 50, 15, 21, 35, 11, 25, 54, 33, 40, 32, 11, 14, 41, 81, 73, 70, 11, 52, 22, 84, 60, 90, 71, 22, 99, 41, 75, 53, 22, 47, 64, 66, 38, 21, 33, 45, 51, 77, 79, 57, 61, 81, 85, 74, 17, 19, 61, 38, 16, 55, 68, 79, 36, 44, 48, 30, 68, 46, 33, 43, 78, 83, 34, 62, 46, 49, 86, 34, 21, 61, 47, 36, 51, 50, 71, 50, 54, 28, 79, 16, 36, 16, 35, 45, 65, 36, 68, 57, 90, 38, 16, 91, 35, 30, 96, 39, 75, 20, 48, 95, 39, 34, 65, 15, 11, 56, 50, 40, 28, 34, 44, 86, 64, 32, 50, 49, 88, 68, 97, 45, 81, 84, 80, 21, 28, 46, 83, 55, 99, 55, 43, 21, 29, 40, 98, 36, 73, 29, 52, 55, 77, 48, 28, 34, 40, 20, 88, 80, 14, 66, 28, 62, 87, 50, 42, 63, 27, 59, 66, 47, 45, 63, 45, 93, 59, 95, 70, 38, 16, 38, 32, 48, 84, 75, 92, 62, 31, 57, 57, 32, 76, 60, 19, 68, 38, 20, 57, 93, 50, 41, 51, 35, 66, 61, 23, 47, 62, 32, 82, 65, 92, 55, 72, 67, 90, 84, 16, 60, 33, 25, 53, 75, 34, 62, 63, 91, 39, 38, 49, 53, 23, 13, 87, 12, 29, 32, 29, 84, 28, 44, 30, 24, 67, 52, 41, 60, 24, 94, 16, 19, 24, 77, 15, 63, 45, 69, 66, 77, 77, 96, 91, 55, 35, 83, 95, 41, 45, 83, 40, 28, 19, 32, 73, 25, 61, 86, 53, 11, 23, 69, 18, 21, 29, 38, 42, 70, 55, 48, 96, 47, 21, 25, 34, 36, 20, 36, 69, 11, 94, 76, 58, 47, 97, 50, 24, 15, 63, 16, 47, 50, 99, 31, 59, 52, 59, 78, 14, 82, 86, 43, 18, 14, 25, 13, 54, 12, 43, 52, 52, 68, 48, 26, 60, 87, 70, 40, 68, 57, 23, 25, 35, 17, 43, 64, 70, 49, 65, 33, 24, 59, 68, 37, 36, 67, 79, 70, 32, 78, 35, 18, 45, 16, 79, 90, 40, 46, 67, 76, 57, 21, 57, 27, 21, 14, 50, 14, 40, 19, 40, 62, 38, 47, 41, 38, 72, 75, 56, 53, 44, 27, 56, 95, 50, 44, 50, 43, 46, 84, 55, 11, 42, 30, 63, 75, 22, 29, 61, 18, 55, 46, 71, 57, 72, 54, 46, 20, 19, 69, 17, 64, 14, 24, 61, 19, 33, 19, 64, 29, 87, 64, 80, 22, 49, 34, 32, 60, 77, 56, 47, 62, 22, 64, 55, 53, 63, 88, 73, 37, 11, 75, 66, 26, 80, 32, 80, 82, 44, 22, 39, 79, 79, 46, 74, 40, 16, 18, 84, 54, 33, 62, 16, 27, 71, 37, 40, 48, 92, 89, 55, 48, 45, 20, 21, 49, 36, 35, 83, 22, 15, 33, 22, 41, 11, 29, 73, 51, 27, 32, 42, 82, 16, 24, 43, 97, 56, 65, 27, 54, 74, 39, 37, 64, 29, 28, 85, 70, 30, 42, 96, 32, 16, 13, 36, 22, 41, 35, 20, 65, 41, 44, 33, 45, 28, 24, 12, 32, 57, 32, 28, 63, 11, 35, 67, 23, 53, 23, 78, 64, 49, 44, 24, 53, 35, 67, 81, 46, 73, 21, 30, 24, 81, 39, 52, 29, 14, 33, 49, 84, 34, 29, 51, 29, 19, 16, 84, 43, 57, 64, 36, 39, 55, 42, 46, 62, 17, 19, 83, 37, 44, 19, 16, 59, 36, 59, 94, 96, 76, 90, 16, 89, 35, 97, 99, 54, 74, 62, 49, 47, 51, 42, 25, 47, 61, 30, 37, 41, 16, 20, 45, 54, 92, 73, 23, 79, 46, 78, 56, 19, 56, 65, 43, 79, 26, 77, 65, 45, 70, 44, 33, 30, 76, 38, 37, 65, 22, 21, 77, 76, 51, 33, 34, 92, 29, 44, 28, 52, 55, 62, 55, 89, 55, 31, 16, 53, 65, 54, 57, 38, 62, 53, 71, 18, 16, 38, 44, 24, 50, 15, 38, 40, 24, 44, 78, 71, 53, 90, 58, 38, 91, 45, 13, 41, 66, 95, 77, 97, 45, 51, 40, 85, 30, 99, 63, 29, 70, 57, 39, 61, 60, 67, 22, 17, 12, 46, 54, 39, 50, 47, 62, 29, 47, 33, 14, 38, 42, 58, 28, 23, 50, 39, 68, 55, 36, 43, 82, 69, 43, 54, 42, 50, 74, 58, 46, 49, 93, 41, 74, 74, 63, 36, 51, 31, 85, 29, 31, 41, 31, 36, 55, 17, 15, 47, 36, 50, 18, 56, 69, 41, 18, 20, 66, 31, 59, 18, 44, 34, 19, 30, 46, 55, 24, 85, 54, 38, 56, 47, 63, 26, 23, 27, 57, 54, 29, 47, 70, 35, 21, 73, 57, 33, 38, 57, 30, 46, 64, 55, 44, 58, 98, 89, 29, 99, 58, 86, 14, 55, 70, 40, 26, 60, 26, 70, 92, 65, 12, 76, 72, 64, 35, 63, 66, 26, 28, 69, 22, 95, 57, 27, 23, 49, 38, 23, 22, 49, 30, 41, 74, 51, 77, 72, 58, 71, 21, 90, 22, 62, 28, 53, 57, 72, 13, 70, 70, 41, 90, 36, 22, 36, 17, 45, 65, 36, 68, 86, 75, 68, 12, 34, 63, 51, 71, 75, 38, 21, 55, 20, 23, 28, 76, 51, 39, 51, 31, 70, 30, 58, 58, 34, 51, 66, 41, 52, 61, 15, 56, 22, 42, 45, 19, 39, 64, 44, 49, 24, 51, 20, 14, 13, 39, 55, 64, 40, 93, 48, 36, 47, 68, 53, 15, 59, 74, 64, 19, 85, 25, 82, 31, 24, 54, 17, 36, 51, 25, 32, 64, 71, 73, 49, 19, 65, 14, 37, 53, 18, 15, 90, 59, 24, 37, 30, 57, 29, 38, 39, 51, 23, 27, 23, 73, 95, 89, 30, 39, 65, 38, 43, 76, 34, 38, 89, 39, 44, 28, 48, 90, 19, 94, 37, 24, 39, 13, 50, 51, 46, 40, 98, 56, 23, 61, 30, 18, 18, 71, 63, 13, 19, 36, 19, 25, 71, 63, 25, 39, 50, 21, 55, 31, 30, 49, 45, 78, 98, 48, 56, 42, 47, 36, 24, 31, 57, 85, 32, 31, 12, 32, 32, 57, 39, 11, 77, 55, 49, 90, 73, 86, 14, 28, 72, 38, 63, 42, 22, 39, 65, 72, 27, 15, 34, 50, 19, 92, 35, 81, 71, 60, 44, 95, 41, 99, 76, 38, 70, 34, 46, 84, 80, 22, 51, 72, 36, 15, 21, 66, 27, 62, 21, 69, 71, 73, 25, 35, 91, 15, 68, 32, 62, 43, 57, 49, 43, 29, 37, 58, 41, 62, 81, 14, 87, 66, 96, 28, 28, 30, 14, 44, 48, 75, 21, 60, 33, 11, 36, 63, 42, 17, 72, 21, 36, 28, 43, 69, 65, 30, 70, 19, 53, 28, 43, 91, 52, 57, 44, 14, 12, 16, 80, 69, 63, 45, 27, 34, 21, 67, 16, 99, 58, 48, 84, 92, 29, 58, 53, 36, 30, 54, 51, 56, 46, 37, 49, 27, 17, 35, 28, 78, 67, 48, 61, 95, 45, 32, 81, 60, 41, 76, 28, 36, 64, 78, 15, 11, 23, 93, 24, 44, 41, 17, 58, 92, 78, 27, 15, 80, 46, 72, 76, 20, 19, 60, 47, 47, 20, 83, 12, 75, 83, 35, 36, 30, 69, 46, 68, 33, 61, 49, 60, 24, 31, 29, 35, 43, 36, 47, 59, 68, 76, 26, 22, 44, 81, 33, 64, 16, 64, 23, 13, 56, 22, 70, 70, 38, 89, 63, 22, 82, 97, 29, 69, 55, 23, 45, 40, 42, 15, 21, 57, 96, 87, 38, 41, 61, 66, 64, 20, 56, 24, 20, 16, 67, 59, 41, 21, 68, 11, 83, 73, 31, 98, 37, 49, 28, 12, 12, 34, 53, 48, 42, 96, 60, 33, 48, 48, 58, 20, 40, 66, 69, 28, 41, 24, 45, 70, 66, 46, 83, 83, 48, 45, 60, 40, 70, 48, 41, 42, 51, 61, 73, 16, 57, 63, 86, 51, 45, 89, 46, 16, 16, 16, 84, 94, 98, 23, 23, 95, 25, 76, 66, 35, 66, 72, 14, 26, 41, 62, 30, 66, 35, 25, 37, 11, 49, 38, 55, 42, 13, 62, 35, 31, 60, 51, 71, 25, 42, 31, 96, 40, 82, 87, 91, 19, 21, 12, 92, 18, 47, 85, 16, 44, 38, 23, 34, 28, 25, 48, 71, 40, 20, 61, 84, 31, 34, 20, 37, 45, 96, 18, 56, 16, 42, 50, 77, 15, 77, 15, 74, 99, 52, 33, 93, 40, 37, 45, 85, 64, 33, 81, 16, 81, 20, 30, 76, 18, 35, 26, 53, 61, 21, 70, 33, 34, 51, 45, 25, 11, 47, 56, 71, 42, 38, 70, 85, 19, 56, 21, 95, 87, 42, 71, 51, 49, 21, 62, 65, 70, 37, 83, 29, 30, 78, 54, 23, 64, 63, 16, 30, 85, 38, 39, 84, 79, 35, 95, 79, 26, 59, 88, 88, 45, 62, 35, 46, 32, 41, 86, 92, 16, 58, 70, 30, 30, 62, 44, 11, 93, 22, 41, 37, 36, 90, 33, 73, 18, 67, 23, 24, 34, 13, 49, 29, 27, 55, 78, 43, 19, 77, 44, 60, 34, 28, 44, 35, 67, 54, 45, 99, 73, 88, 33, 38, 74, 45, 25, 79, 49, 65, 34, 50, 59, 32, 71, 58, 81, 99, 14, 20, 30, 68, 61, 22, 72, 48, 54, 50, 38, 50, 62, 34, 67, 13, 43, 52, 91, 49, 76, 11, 59, 34, 15, 61, 44, 90, 28, 40, 49, 12, 55, 28, 35, 21, 17, 44, 58, 67, 35, 51, 39, 29, 49, 18, 20, 62, 19, 33, 42, 70, 26, 21, 35, 97, 13, 82, 57, 34, 27, 87, 40, 48, 76, 13, 47, 43, 43, 40, 80, 46, 11, 41, 50, 89, 62, 28, 70, 78, 47, 96, 18, 22, 35, 26, 24, 17, 48, 32, 43, 56, 94, 97, 33, 83, 67, 38, 38, 96, 60, 23, 88, 46, 29, 18, 56, 77, 32, 26, 37, 87, 58, 22, 63, 44, 84, 72, 33, 21, 33, 42, 90, 67, 28, 37, 55, 38, 51, 72, 40, 42, 31, 19, 35, 72, 56, 51, 64, 35, 83, 45, 71, 17, 53, 68, 26, 19, 52, 11, 55, 66, 50, 68, 63, 13, 50, 78, 64, 48, 30, 42, 37, 27, 18, 67, 44, 47, 68, 31, 41, 70, 34, 22, 26, 66, 26, 58, 51, 80, 73, 47, 79, 46, 47, 25, 64, 98, 20, 69, 57, 82, 43, 30, 29, 36, 51, 73, 30, 31, 41, 27, 30, 90, 73, 78, 34, 82, 37, 29, 83, 75, 12, 44, 77, 50, 40, 43, 30, 70, 36, 17, 23, 57, 23, 58, 59, 19, 52, 56, 76, 26, 23, 52, 32, 57, 59, 60, 29, 37, 34, 92, 22, 65, 19, 54, 33, 41, 92, 57, 70, 42, 80, 49, 23, 63, 58, 58, 24, 17, 41, 96, 41, 87, 40, 30, 23, 78, 88, 17, 20, 17, 18, 40, 23, 33, 64, 72, 13, 53, 33, 61, 22, 28, 67, 24, 86, 30, 32, 21, 55, 72, 60, 63, 68, 65, 87, 42, 37, 51, 56, 36, 49, 50, 84, 70, 39, 31, 73, 61, 55, 80, 36, 42, 38, 28, 46, 46, 18, 15, 63, 54, 39, 31, 52, 22, 26, 87, 70, 60, 14, 67, 36, 46, 70, 77, 32, 43, 33, 34, 24, 51, 45, 65, 66, 31, 33, 67, 80, 29, 36, 47, 75, 29, 80, 57, 60, 51, 37, 51, 69, 61, 70, 56, 42, 47, 22, 51, 66, 75, 56, 42, 69, 46, 30, 15, 82, 13, 36, 24, 97, 70, 41, 56, 38, 47, 69, 28, 75, 42, 59, 46, 26, 21, 39, 70, 23, 85, 83, 33, 62, 57, 49, 83, 59, 14, 43, 82, 67, 32, 18, 87, 55, 50, 61, 48, 39, 43, 27, 17, 16, 79, 75, 54, 15, 25, 44, 39, 64, 67, 39, 35, 51, 98, 68, 50, 26, 73, 47, 26, 40, 57, 25, 87, 64, 37, 23, 66, 46, 69, 43, 33, 40, 42, 16, 44, 61, 23, 58, 60, 33, 14, 13, 82, 51, 37, 25, 81, 17, 19, 59, 30, 13, 13, 51, 40, 19, 42, 17, 30, 19, 46, 24, 12, 19, 41, 20, 63, 30, 40, 38, 44, 28, 49, 17, 36, 37, 38, 65, 14, 79, 91, 28, 57, 55, 18, 53, 32, 55, 44, 28, 40, 30, 46, 60, 31, 19, 61, 86, 15, 55, 21, 31, 54, 56, 42, 29, 24, 29, 43, 36, 93, 51, 26, 21, 23, 59, 48, 11, 25, 24, 59, 33, 92, 68, 76, 87, 18, 33, 38, 22, 99, 66, 17, 18, 33, 55, 86, 30, 26, 58, 22, 52, 61, 73, 81, 49, 37, 58, 53, 31, 38, 49, 49, 65, 43, 64, 88, 30, 55, 42, 89, 99, 27, 47, 81, 31, 33, 15, 30, 52, 50, 15, 23, 44, 41, 62, 77, 17, 39, 67, 13, 45, 37, 52, 37, 20, 43, 54, 21, 42, 24, 38, 29, 53, 98, 40, 11, 59, 60, 37, 20, 37, 69, 34, 20, 51, 28, 38, 87, 27, 72, 31, 86, 27, 71, 58, 66, 40, 90, 32, 14, 42, 71, 72, 20, 85, 81, 52, 88, 33, 62, 42, 28, 53, 76, 20, 41, 26, 29, 28, 38, 93, 55, 43, 53, 82, 27, 43, 70, 86, 27, 50, 69, 81, 64, 21, 40, 14, 15, 15, 63, 43, 51, 34, 47, 25, 48, 27, 12, 36, 48, 20, 25, 64, 65, 56, 39, 92, 15, 22, 32, 33, 48, 77, 28, 49, 30, 52, 11, 82, 42, 28, 63, 43, 43, 84, 54, 75, 41, 73, 38, 24, 28, 85, 70, 30, 88, 78, 35, 18, 53, 35, 52, 78, 26, 25, 50, 51, 74, 41, 40, 28, 79, 35, 33, 51, 69, 66, 23, 58, 47, 26, 14, 54, 57, 29, 59, 69, 56, 78, 65, 25, 25, 45, 31, 26, 26, 19, 41, 14, 57, 24, 87, 52, 35, 28, 59, 18, 46, 12, 81, 35, 86, 34, 61, 30, 47, 70, 88, 40, 18, 36, 18, 74, 58, 95, 90, 99, 47, 17, 49, 40, 40, 44, 24, 79, 65, 42, 66, 13, 50, 15, 67, 63, 45, 50, 61, 19, 33, 30, 32, 16, 86, 36, 23, 39, 21, 28, 32, 72, 93, 19, 38, 94, 84, 45, 84, 74, 57, 55, 76, 41, 61, 63, 96, 24, 99, 60, 30, 76, 38, 96, 79, 24, 45, 85, 58, 92, 43, 59, 74, 45, 45, 63, 11, 39, 21, 32, 22, 71, 61, 33, 98, 60, 38, 23, 75, 55, 27, 57, 12, 18, 58, 22, 87, 95, 38, 48, 69, 14, 16, 75, 83, 45, 28, 30, 48, 21, 47, 58, 54, 54, 79, 29, 29, 57, 35, 88, 31, 47, 72, 71, 27, 44, 98, 69, 82, 59, 53, 33, 82, 82, 21, 42, 52, 63, 31, 63, 70, 25, 36, 37, 22, 45, 42, 71, 59, 73, 61, 21, 40, 39, 29, 38, 28, 16, 45, 47, 16, 35, 36, 40, 24, 66, 61, 49, 60, 13, 48, 65, 37, 22, 28, 36, 14, 63, 81, 15, 14, 20, 64, 36, 66, 92, 17, 24, 30, 55, 47, 16, 25, 59, 91, 17, 66, 87, 29, 86, 59, 46, 43, 65, 35, 83, 38, 58, 36, 50, 77, 73, 75, 93, 34, 40, 26, 83, 87, 55, 32, 75, 53, 87, 37, 19, 19, 11, 48, 57, 51, 93, 37, 50, 79, 79, 39, 75, 64, 27, 18, 29, 21, 77, 32, 53, 11, 36, 71, 33, 59, 28, 28, 80, 42, 71, 50, 33, 26, 22, 22, 93, 44, 58, 13, 58, 47, 32, 46, 32, 80, 28, 56, 63, 62, 54, 66, 18, 15, 51, 30, 52, 80, 31, 56, 32, 85, 62, 17, 92, 49, 51, 44, 48, 24, 51, 41, 95, 40, 64, 87, 43, 21, 73, 81, 47, 43, 87, 36, 67, 58, 22, 88, 58, 69, 37, 91, 23, 58, 92, 58, 93, 25, 25, 47, 40, 30, 48, 16, 54, 76, 11, 49, 68, 33, 32, 86, 43, 45, 64, 61, 21, 63, 48, 61, 80, 23, 66, 24, 42, 35, 77, 55, 99, 43, 45, 58, 83, 34, 17, 41, 33, 32, 43, 52, 31, 55, 40, 62, 45, 81, 29, 22, 73, 61, 71, 34, 47, 21, 41, 74, 19, 95, 79, 58, 23, 60, 55, 92, 90, 57, 21, 42, 27, 63, 80, 22, 69, 44, 17, 50, 73, 23, 40, 16, 39, 20, 34, 90, 79, 52, 25, 60, 50, 84, 41, 45, 39, 69, 39, 41, 76, 23, 38, 20, 41, 52, 68, 92, 30, 17, 90, 40, 24, 33, 38, 52, 67, 65, 65, 52, 46, 15, 30, 80, 72, 37, 92, 78, 40, 85, 76, 81, 40, 59, 41, 26, 54, 48, 58, 16, 26, 86, 30, 26, 39, 67, 39, 41, 13, 67, 56, 32, 45, 89, 84, 34, 21, 30, 83, 59, 22, 39, 34, 51, 13, 93, 34, 81, 11, 34, 79, 15, 43, 64, 42, 19, 48, 27, 41, 25, 38, 49, 60, 85, 48, 16, 73, 42, 24, 57, 29, 38, 66, 32, 18, 90, 51, 39, 81, 54, 33, 75, 43, 89, 47, 14, 26, 61, 34, 75, 30, 29, 54, 28, 97, 48, 73, 61, 41, 17, 42, 39, 35, 42, 32, 54, 23, 49, 51, 48, 16, 62, 55, 36, 70, 43, 53, 12, 62, 43, 72, 49, 40, 75, 56, 61, 57, 33, 15, 62, 23, 72, 46, 24, 43, 93, 40, 14, 70, 63, 82, 67, 28, 67, 52, 45, 17, 44, 16, 82, 24, 29, 46, 11, 80, 36, 75, 39, 63, 29, 22, 18, 83, 84, 96, 54, 14, 74, 55, 58, 72, 50, 55, 35, 68, 30, 35, 35, 28, 42, 46, 61, 33, 88, 38, 40, 32, 52, 48, 15, 59, 36, 55, 60, 17, 39, 32, 44, 70, 34, 32, 43, 14, 82, 51, 39, 25, 14, 23, 48, 80, 65, 87, 37, 37, 34, 99, 69, 25, 41, 97, 38, 61, 63, 29, 44, 53, 63, 37, 81, 32, 94, 12, 26, 53, 28, 93, 45, 49, 66, 50, 21, 85, 48, 41, 13, 59, 51, 81, 83, 62, 28, 58, 87, 45, 41, 21, 42, 45, 54, 35, 15, 51, 48, 69, 38, 71, 33, 41, 27, 44, 45, 36, 55, 84, 39, 37, 34, 50, 44, 79, 50, 45, 72, 29, 62, 33, 46, 40, 83, 84, 35, 17, 29, 25, 33, 65, 43, 45, 50, 80, 82, 68, 38, 17, 24, 66, 50, 28, 55, 41, 42, 29, 54, 42, 31, 19, 86, 53, 61, 87, 21, 22, 50, 66, 15, 75, 65, 66, 82, 44, 69, 16, 32, 53, 48, 20, 35, 91, 41, 14, 68, 31, 75, 27, 26, 41, 49, 27, 73, 34, 28, 32, 33, 60, 64, 24, 83, 39, 31, 74, 50, 56, 37, 34, 23, 88, 70, 82, 81, 84, 94, 39, 30, 22, 63, 56, 11, 17, 79, 66, 82, 57, 42, 19, 28, 43, 54, 41, 55, 65, 36, 57, 39, 41, 34, 32, 47, 23, 43, 12, 33, 30, 39, 71, 16, 79, 29, 38, 47, 70, 25, 56, 82, 48, 20, 18, 69, 20, 55, 38, 16, 30, 76, 24, 85, 55, 43, 60, 41, 21, 76, 31, 82, 32, 38, 15, 61, 77, 24, 30, 90, 43, 42, 28, 27, 36, 32, 38, 49, 34, 24, 33, 81, 52, 37, 32, 43, 48, 22, 46, 71, 42, 42, 24, 50, 37, 24, 61, 22, 81, 65, 48, 65, 60, 60, 98, 35, 44, 28, 31, 23, 31, 52, 43, 24, 34, 11, 48, 50, 68, 15, 58, 79, 56, 61, 35, 58, 12, 66, 88, 30, 49, 69, 25, 63, 87, 35, 61, 92, 57, 52, 28, 18, 49, 21, 31, 44, 57, 43, 59, 35, 33, 80, 70, 43, 90, 30, 20, 19, 29, 94, 83, 38, 43, 20, 32, 29, 21, 77, 39, 58, 75, 34, 27, 12, 61, 43, 78, 28, 65, 43, 64, 52, 51, 20, 54, 43, 72, 18, 19, 85, 14, 40, 32, 46, 82, 19, 47, 38, 33, 26, 45, 61, 68, 53, 39, 74, 47, 81, 20, 30, 90, 34, 42, 51, 48, 68, 97, 51, 34, 92, 19, 36, 12, 34, 33, 84, 36, 55, 61, 89, 24, 99, 49, 36, 28, 78, 60, 48, 87, 31, 54, 47, 55, 17, 55, 39, 69, 34, 92, 80, 42, 57, 50, 61, 51, 87, 30, 75, 28, 47, 34, 63, 44, 41, 33, 33, 95, 44, 41, 18, 45, 19, 52, 23, 83, 74, 15, 19, 46, 59, 90, 53, 22, 33, 54, 54, 30, 46, 82, 25, 35, 26, 24, 32, 70, 36, 54, 60, 63, 91, 68, 31, 28, 73, 48, 13, 34, 27, 12, 41, 82, 28, 16, 60, 33, 48, 11, 29, 58, 66, 31, 83, 90, 38, 64, 47, 30, 53, 70, 58, 43, 78, 90, 62, 75, 20, 55, 55, 48, 97, 64, 92, 66, 63, 92, 61, 46, 35, 75, 23, 93, 49, 18, 40, 82, 24, 52, 29, 42, 27, 42, 80, 31, 26, 82, 67, 45, 44, 57, 42, 36, 74, 44, 71, 19, 18, 55, 74, 49, 40, 38, 79, 63, 33, 23, 38, 38, 71, 14, 22, 73, 77, 37, 55, 84, 42, 89, 17, 52, 98, 39, 37, 13, 34, 33, 68, 13, 41, 39, 85, 36, 11, 38, 32, 15, 78, 27, 73, 39, 14, 83, 11, 61, 83, 90, 48, 95, 43, 60, 14, 43, 42, 27, 39, 30, 59, 24, 55, 28, 63, 39, 55, 39, 69, 18, 12, 65, 39, 54, 25, 55, 57, 33, 38, 41, 74, 74, 25, 20, 40, 58, 27, 16, 69, 61, 69, 21, 50, 47, 41, 61, 22, 13, 97, 88, 54, 62, 42, 50, 77, 20, 16, 67, 57, 74, 54, 96, 75, 42, 18, 26, 58, 93, 29, 33, 38, 13, 59, 52, 82, 62, 56, 44, 48, 78, 63, 19, 18, 52, 57, 86, 83, 58, 29, 20, 21, 25, 37, 72, 45, 51, 33, 25, 26, 50, 15, 40, 44, 64, 37, 33, 42, 49, 33, 67, 46, 70, 54, 18, 70, 19, 95, 40, 25, 79, 34, 54, 54, 53, 90, 23, 29, 54, 38, 34, 68, 30, 38, 68, 20, 45, 31, 70, 42, 55, 55, 16, 67, 35, 66, 43, 32, 29, 75, 51, 64, 48, 33, 25, 39, 23, 69, 26, 29, 18, 37, 46, 72, 65, 50, 20, 84, 77, 35, 74, 26, 18, 73, 36, 91, 24, 32, 33, 33, 34, 41, 35, 66, 66, 21, 83, 43, 66, 75, 69, 12, 25, 75, 33, 26, 55, 52, 37, 47, 45, 19, 82, 26, 41, 49, 53, 27, 19, 25, 83, 94, 84, 35, 51, 16, 42, 93, 50, 40, 76, 72, 49, 26, 36, 15, 66, 92, 26, 21, 84, 57, 22, 20, 21, 71, 91, 17, 58, 20, 52, 42, 32, 48, 13, 45, 39, 22, 15, 88, 69, 70, 41, 27, 35, 21, 64, 63, 18, 48, 60, 38, 61, 73, 79, 61, 51, 58, 32, 22, 35, 57, 24, 97, 14, 13, 27, 55, 54, 69, 31, 69, 17, 76, 77, 86, 18, 72, 69, 65, 88, 21, 41, 77, 14, 27, 40, 44, 86, 61, 44, 39, 68, 47, 54, 11, 29, 95, 40, 24, 57, 16, 53, 75, 92, 48, 17, 95, 60, 40, 55, 26, 52, 74, 29, 35, 42, 46, 48, 64, 94, 98, 11, 46, 46, 33, 69, 16, 19, 54, 28, 49, 16, 16, 77, 28, 45, 97, 14, 83, 18, 20, 86, 54, 28, 46, 46, 67, 39, 17, 33, 56, 72, 57, 55, 38, 86, 73, 58, 38, 30, 36, 16, 96, 11, 24, 54, 27, 21, 17, 61, 37, 44, 50, 68, 43, 14, 48, 64, 37, 35, 31, 26, 40, 57, 19, 17, 70, 41, 76, 44, 15, 95, 83, 12, 38, 66, 45, 76, 81, 63, 75, 21, 33, 24, 85, 20, 80, 79, 64, 80, 54, 95, 43, 99, 61, 89, 42, 33, 96, 44, 71, 72, 37, 69, 51, 45, 81, 54, 30, 89, 22, 64, 80, 26, 76, 80, 62, 69, 70, 42, 46, 15, 61, 39, 19, 52, 61, 23, 32, 70, 45, 80, 47, 38, 28, 81, 32, 58, 25, 97, 64, 17, 44, 13, 88, 51, 11, 78, 46, 32, 72, 78, 42, 62, 42, 22, 73, 98, 97, 95, 45, 76, 57, 83, 97, 17, 96, 51, 39, 38, 65, 33, 17, 31, 57, 30, 31, 44, 64, 59, 81, 52, 52, 46, 36, 43, 32, 63, 37, 22, 45, 27, 26, 97, 26, 62, 73, 37, 94, 65, 59, 39, 13, 74, 28, 73, 84, 20, 27, 69, 34, 69, 59, 28, 15, 50, 29, 24, 21, 36, 34, 59, 44, 37, 26, 47, 38, 24, 39, 41, 34, 49, 23, 21, 24, 22, 38, 33, 30, 49, 67, 70, 90, 71, 17, 67, 26, 11, 18, 75, 81, 67, 20, 61, 49, 40, 79, 74, 19, 39, 81, 69, 33, 55, 75, 61, 18, 47, 94, 20, 11, 57, 96, 49, 51, 51, 48, 23, 47, 66, 24, 61, 39, 14, 28, 33, 19, 69, 31, 38, 46, 43, 30, 12, 18, 71, 92, 41, 63, 90, 70, 38, 58, 36, 68, 75, 26, 66, 32, 53, 50, 54, 66, 70, 14, 17, 90, 61, 37, 20, 58, 88, 58, 72, 44, 45, 45, 80, 80, 17, 78, 58, 50, 62, 51, 41, 41, 44, 25, 37, 20, 18, 87, 92, 56, 83, 34, 67, 65, 29, 49, 78, 56, 27, 23, 19, 34, 82, 39, 93, 81, 83, 32, 68, 53, 72, 84, 35, 29, 11, 44, 46, 85, 25, 16, 44, 86, 39, 30, 63, 39, 35, 59, 56, 27, 13, 44, 57, 46, 48, 43, 57, 58, 94, 41, 78, 67, 17, 71, 17, 46, 34, 22, 55, 65, 55, 72, 41, 60, 70, 60, 54, 60, 56, 39, 17, 16, 74, 36, 44, 96, 38, 12, 17, 85, 90, 24, 16, 69, 79, 26, 13, 82, 89, 45, 45, 40, 27, 72, 97, 42, 61, 58, 32, 44, 76, 32, 32, 60, 92, 22, 77, 27, 22, 45, 51, 90, 42, 17, 28, 11, 37, 55, 51, 14, 26, 71, 53, 17, 79, 31, 62, 50, 27, 55, 49, 35, 57, 36, 76, 20, 28, 21, 43, 23, 36, 49, 78, 20, 83, 70, 17, 58, 39, 20, 40, 34, 76, 52, 23, 29, 35, 53, 11, 52, 54, 28, 81, 20, 36, 63, 61, 61, 71, 88, 21, 27, 23, 97, 40, 44, 59, 32, 41, 54, 27, 40, 59, 48, 31, 41, 30, 13, 38, 24, 72, 32, 22, 36, 39, 78, 11, 11, 12, 56, 25, 76, 69, 93, 62, 81, 27, 81, 24, 24, 27, 73, 30, 23, 21, 85, 13, 39, 44, 53, 26, 20, 63, 27, 60, 54, 62, 58, 90, 27, 31, 36, 31, 50, 46, 43, 49, 37, 27, 64, 57, 38, 27, 20, 45, 25, 23, 51, 15, 49, 86, 45, 11, 55, 16, 11, 36, 17, 61, 13, 52, 44, 84, 78, 49, 54, 81, 46, 30, 32, 14, 49, 56, 40, 82, 32, 28, 31, 63, 15, 81, 86, 94, 29, 37, 65, 91, 83, 29, 68, 27, 24, 42, 89, 29, 35, 38, 20, 45, 26, 74, 45, 63, 34, 48, 21, 65, 76, 41, 25, 60, 37, 79, 45, 58, 42, 34, 97, 89, 64, 58, 42, 70, 87, 39, 25, 49, 90, 24, 36, 40, 26, 60, 35, 45, 20, 60, 87, 74, 23, 41, 81, 38, 83, 17, 13, 26, 30, 40, 82, 35, 48, 63, 74, 91, 44, 70, 36, 75, 38, 93, 28, 61, 34, 20, 43, 43, 34, 95, 75, 30, 92, 64, 93, 76, 30, 37, 67, 81, 29, 26, 67, 21, 69, 60, 73, 33, 45, 24, 49, 18, 67, 35, 89, 64, 59, 65, 39, 45, 52, 12, 44, 12, 21, 77, 46, 19, 26, 20, 14, 68, 32, 65, 17, 68, 27, 39, 56, 96, 47, 11, 13, 14, 75, 20, 88, 17, 12, 15, 53, 72, 49, 75, 53, 45, 80, 40, 78, 69, 11, 43, 49, 51, 73, 22, 21, 40, 38, 59, 36, 25, 92, 11, 67, 90, 30, 89, 48, 43, 68, 91, 56, 29, 71, 55, 53, 44, 58, 72, 67, 22, 71, 78, 50, 36, 57, 60, 57, 57, 51, 17, 13, 43, 25, 80, 93, 25, 25, 13, 98, 54, 43, 58, 73, 69, 98, 56, 19, 36, 12, 60, 36, 76, 92, 57, 22, 66, 42, 12, 44, 56, 35, 97, 38, 17, 17, 16, 70, 41, 52, 34, 61, 12, 42, 17, 17, 48, 25, 77, 24, 41, 51, 57, 47, 59, 21, 74, 20, 30, 32, 57, 46, 36, 90, 83, 69, 28, 59, 53, 63, 34, 17, 36, 36, 41, 27, 98, 45, 49, 53, 50, 79, 45, 42, 43, 49, 30, 47, 35, 49, 47, 63, 99, 32, 79, 57, 36, 69, 77, 62, 44, 54, 24, 63, 27, 92, 69, 39, 21, 52, 59, 61, 49, 56, 48, 43, 43, 76, 97, 18, 28, 66, 27, 56, 40, 61, 89, 63, 62, 20, 89, 46, 34, 72, 15, 16, 58, 98, 33, 35, 44, 65, 47, 71, 38, 62, 54, 54, 97, 65, 22, 12, 27, 82, 38, 58, 35, 43, 85, 30, 44, 64, 45, 13, 30, 63, 89, 31, 40, 49, 13, 80, 45, 88, 91, 43, 58, 20, 69, 27, 72, 58, 20, 65, 45, 63, 12, 33, 34, 33, 32, 25, 26, 23, 85, 46, 51, 97, 40, 27, 80, 83, 55, 17, 23, 57, 31, 42, 24, 91, 68, 32, 27, 47, 58, 21, 22, 65, 25, 67, 50, 54, 52, 25, 47, 88, 32, 93, 38, 71, 57, 39, 32, 57, 96, 56, 72, 79, 38, 47, 44, 81, 31, 43, 23, 49, 26, 56, 58, 34, 11, 33, 97, 48, 59, 51, 15, 39, 56, 45, 32, 13, 24, 62, 93, 44, 18, 43, 59, 47, 85, 41, 74, 66, 51, 28, 31, 14, 28, 14, 36, 45, 47, 30, 38, 90, 40, 27, 84, 42, 65, 63, 19, 27, 53, 18, 11, 88, 37, 98, 47, 36, 55, 22, 74, 30, 53, 22, 43, 20, 36, 41, 80, 69, 36, 34, 69, 33, 40, 50, 23, 18, 41, 20, 49, 38, 64, 24, 51, 63, 54, 72, 94, 18, 31, 38, 29, 69, 50, 27, 24, 78, 90, 40, 98, 66, 39, 45, 97, 75, 19, 45, 63, 43, 26, 59, 15, 77, 55, 87, 25, 32, 73, 39, 73, 76, 23, 28, 16, 86, 23, 19, 52, 54, 83, 75, 15, 47, 44, 18, 77, 12, 25, 20, 21, 41, 81, 69, 15, 65, 11, 27, 26, 24, 60, 25, 66, 36, 33, 20, 78, 19, 65, 18, 39, 30, 33, 94, 55, 49, 39, 81, 90, 55, 16, 13, 24, 37, 21, 58, 19, 36, 70, 35, 58, 38, 49, 64, 53, 55, 65, 56, 99, 41, 40, 50, 94, 86, 34, 22, 86, 87, 29, 15, 38, 67, 82, 53, 99, 81, 38, 54, 26, 91, 27, 50, 63, 29, 81, 60, 16, 35, 61, 78, 65, 74, 58, 54, 24, 19, 20, 18, 18, 61, 72, 64, 47, 71, 62, 48, 60, 43, 38, 74, 41, 63, 33, 43, 42, 59, 34, 46, 53, 73, 58, 43, 34, 63, 15, 89, 62, 64, 60, 82, 86, 57, 86, 67, 22, 82, 18, 75, 48, 99, 11, 46, 16, 42, 46, 35, 87, 39, 37, 97, 78, 76, 37, 29, 40, 46, 32, 57, 48, 64, 49, 36, 48, 35, 13, 23, 98, 50, 33, 50, 99, 61, 47, 26, 36, 69, 87, 19, 43, 40, 17, 22, 19, 20, 51, 28, 12, 81, 25, 28, 71, 74, 59, 31, 94, 28, 69, 28, 51, 25, 57, 69, 24, 91, 67, 26, 74, 30, 45, 49, 39, 46, 26, 14, 27, 42, 48, 47, 69, 12, 26, 12, 58, 61, 73, 54, 72, 61, 39, 29, 54, 67, 95, 34, 27, 58, 93, 67, 89, 44, 84, 67, 91, 80, 24, 29, 70, 52, 57, 39, 29, 41, 68, 51, 24, 43, 33, 31, 28, 43, 25, 15, 78, 11, 45, 39, 74, 29, 62, 31, 33, 31, 53, 72, 12, 71, 41, 35, 70, 44, 38, 60, 37, 54, 47, 61, 65, 28, 27, 37, 84, 48, 40, 81, 73, 31, 61, 38, 35, 82, 43, 41, 42, 30, 61, 49, 85, 70, 78, 28, 35, 43, 53, 61, 75, 85, 71, 47, 33, 57, 34, 75, 60, 45, 79, 79, 42, 62, 67, 22, 61, 73, 26, 35, 28, 61, 14, 82, 61, 55, 16, 48, 78, 78, 29, 66, 20, 13, 35, 28, 48, 71, 41, 60, 26, 33, 36, 46, 19, 61, 29, 51, 67, 16, 99, 15, 48, 19, 27, 68, 66, 17, 39, 12, 93, 19, 30, 42, 30, 31, 27, 55, 71, 66, 12, 83, 58, 21, 39, 60, 62, 70, 88, 67, 37, 89, 40, 31, 23, 12, 31, 58, 64, 50, 31, 67, 22, 38, 41, 44, 23, 29, 54, 20, 35, 96, 87, 59, 34, 60, 21, 52, 82, 37, 17, 24, 31, 59, 41, 46, 77, 83, 47, 59, 48, 54, 31, 84, 43, 83, 68, 39, 24, 97, 15, 20, 17, 11, 36, 21, 38, 51, 43, 18, 20, 70, 69, 20, 66, 32, 25, 92, 35, 86, 99, 39, 88, 66, 17, 38, 75, 68, 54, 25, 50, 21, 90, 53, 18, 41, 45, 96, 68, 55, 63, 21, 50, 20, 68, 29, 15, 56, 31, 42, 37, 70, 19, 45, 15, 28, 31, 12, 47, 30, 62, 32, 74, 37, 95, 66, 56, 83, 48, 50, 88, 22, 31, 84, 92, 38, 21, 42, 13, 69, 46, 17, 65, 51, 32, 50, 70, 16, 63, 49, 55, 43, 51, 80, 46, 88, 17, 18, 13, 31, 69, 65, 76, 63, 21, 42, 42, 22, 78, 48, 56, 50, 67, 16, 77, 34, 17, 46, 41, 80, 33, 46, 19, 59, 16, 11, 96, 33, 65, 35, 64, 38, 41, 23, 39, 33, 37, 33, 14, 69, 67, 70, 11, 34, 25, 11, 27, 40, 26, 19, 28, 37, 48, 62, 41, 28, 44, 68, 39, 18, 86, 65, 32, 36, 59, 71, 34, 69, 18, 52, 22, 80, 49, 17, 92, 62, 39, 59, 54, 69, 55, 30, 30, 16, 37, 48, 54, 49, 18, 36, 41, 73, 39, 48, 56, 69, 17, 53, 75, 20, 28, 35, 38, 76, 18, 74, 60, 57, 46, 18, 57, 70, 22, 58, 39, 92, 14, 69, 55, 30, 54, 81, 57, 65, 41, 72, 33, 71, 52, 32, 16, 27, 22, 79, 98, 39, 14, 50, 83, 51, 46, 94, 92, 81, 54, 29, 38, 85, 66, 18, 24, 16, 92, 60, 51, 32, 36, 44, 39, 68, 30, 44, 24, 61, 70, 55, 17, 32, 78, 94, 74, 56, 70, 68, 60, 16, 34, 29, 81, 26, 12, 73, 22, 54, 39, 27, 44, 27, 30, 78, 30, 31, 72, 51, 40, 12, 25, 38, 74, 39, 20, 18, 86, 21, 41, 86, 37, 44, 32, 84, 47, 22, 70, 56, 21, 20, 29, 34, 85, 82, 50, 62, 56, 29, 68, 47, 60, 31, 84, 86, 40, 85, 36, 50, 11, 57, 29, 88, 33, 75, 45, 41, 47, 16, 49, 74, 39, 79, 90, 89, 65, 60, 17, 24, 82, 29, 55, 74, 32, 39, 36, 25, 53, 49, 30, 87, 21, 18, 55, 91, 12, 48, 72, 68, 48, 84, 48, 52, 85, 48, 49, 23, 54, 59, 20, 37, 22, 87, 86, 73, 20, 20, 21, 21, 25, 64, 56, 46, 46, 52, 49, 80, 63, 70, 34, 62, 82, 55, 46, 57, 79, 26, 37, 40, 69, 72, 42, 47, 74, 62, 60, 77, 53, 76, 16, 62, 61, 59, 41, 31, 88, 93, 95, 58, 68, 26, 53, 19, 34, 55, 56, 41, 73, 63, 52, 29, 65, 66, 26, 40, 36, 36, 15, 57, 19, 38, 47, 28, 23, 20, 29, 46, 46, 57, 47, 64, 46, 32, 41, 45, 72, 54, 31, 22, 23, 19, 55, 68, 27, 51, 79, 31, 21, 24, 27, 45, 61, 31, 22, 69, 46, 24, 29, 13, 92, 85, 54, 84, 96, 35, 97, 51, 74, 16, 40, 33, 62, 73, 33, 65, 30, 40, 43, 28, 72, 23, 21, 72, 35, 99, 76, 48, 13, 42, 68, 17, 23, 49, 40, 44, 91, 26, 93, 94, 30, 29, 32, 79, 63, 48, 48, 83, 86, 74, 59, 17, 17, 73, 29, 50, 19, 46, 66, 52, 90, 31, 33, 52, 28, 15, 38, 50, 82, 29, 65, 37, 33, 41, 21, 50, 39, 54, 31, 62, 31, 41, 33, 15, 33, 70, 32, 65, 45, 19, 62, 39, 93, 25, 55, 93, 50, 35, 39, 76, 49, 11, 59, 38, 54, 40, 56, 44, 37, 48, 26, 19, 35, 47, 34, 35, 29, 32, 25, 39, 56, 49, 63, 56, 20, 52, 83, 28, 22, 47, 43, 66, 37, 53, 71, 27, 82, 49, 44, 49, 24, 19, 63, 49, 83, 97, 69, 12, 47, 31, 60, 70, 46, 13, 14, 58, 65, 83, 17, 13, 40, 60, 66, 36, 83, 52, 15, 48, 74, 18, 26, 24, 17, 27, 56, 32, 46, 66, 70, 42, 55, 41, 68, 29, 53, 48, 20, 36, 64, 52, 40, 38, 24, 37, 29, 93, 33, 41, 50, 61, 60, 30, 72, 55, 39, 12, 79, 68, 18, 83, 48, 16, 37, 95, 59, 59, 49, 22, 28, 43, 76, 52, 58, 36, 14, 36, 41, 61, 48, 95, 33, 40, 74, 46, 50, 23, 42, 61, 15, 42, 29, 65, 97, 46, 25, 48, 37, 59, 45, 14, 59, 42, 30, 45, 50, 57, 44, 33, 38, 37, 15, 49, 40, 51, 48, 39, 46, 21, 34, 13, 29, 36, 44, 37, 26, 59, 93, 80, 14, 28, 66, 77, 41, 43, 74, 76, 55, 69, 20, 97, 62, 51, 86, 52, 75, 53, 38, 35, 21, 12, 79, 38, 67, 19, 52, 84, 52, 16, 90, 54, 32, 16, 45, 18, 63, 18, 18, 42, 40, 17, 62, 24, 69, 68, 34, 13, 70, 37, 33, 61, 12, 53, 83, 36, 51, 18, 27, 40, 33, 51, 29, 41, 23, 27, 90, 80, 32, 70, 40, 39, 92, 18, 50, 74, 76, 24, 61, 52, 37, 37, 23, 14, 25, 36, 46, 55, 13, 13, 70, 51, 23, 84, 53, 81, 15, 38, 33, 39, 92, 30, 66, 67, 94, 13, 75, 16, 22, 62, 49, 34, 98, 74, 40, 28, 77, 24, 73, 50, 30, 74, 49, 17, 24, 23, 86, 96, 54, 66, 51, 42, 24, 20, 22, 74, 31, 97, 64, 47, 63, 37, 13, 74, 24, 49, 53, 42, 32, 62, 12, 54, 24, 32, 73, 22, 23, 22, 86, 92, 67, 44, 24, 60, 52, 12, 80, 60, 58, 63, 88, 44, 51, 35, 86, 59, 19, 85, 89, 11, 36, 34, 39, 64, 25, 21, 32, 27, 24, 59, 56, 52, 64, 19, 35, 83, 56, 45, 61, 46, 23, 49, 26, 97, 59, 17, 37, 87, 71, 29, 25, 85, 77, 44, 60, 59, 22, 72, 56, 30, 82, 20, 39, 21, 63, 37, 58, 39, 35, 77, 46, 28, 69, 13, 97, 30, 64, 11, 83, 60, 41, 44, 31, 52, 18, 16, 90, 83, 31, 67, 41, 39, 44, 47, 45, 77, 27, 95, 57, 51, 64, 63, 12, 52, 42, 39, 16, 27, 65, 12, 41, 46, 47, 60, 83, 84, 34, 30, 17, 90, 25, 51, 28, 84, 70, 57, 31, 24, 29, 68, 55, 30, 68, 23, 41, 67, 24, 39, 26, 54, 36, 66, 70, 62, 59, 34, 57, 52, 40, 41, 48, 16, 39, 79, 75, 79, 89, 46, 52, 39, 36, 32, 47, 22, 86, 11, 63, 28, 74, 31, 37, 27, 37, 45, 20, 94, 91, 66, 47, 85, 66, 36, 41, 15, 20, 34, 87, 36, 13, 81, 77, 33, 12, 16, 40, 31, 30, 19, 48, 39, 62, 18, 42, 36, 56, 63, 43, 78, 45, 97, 99, 50, 46, 67, 69, 69, 61, 47, 32, 28, 29, 22, 38, 43, 96, 46, 76, 87, 82, 27, 55, 23, 41, 12, 53, 55, 47, 69, 29, 26, 68, 41, 22, 26, 35, 20, 20, 88, 39, 19, 73, 60, 46, 79, 50, 48, 23, 32, 30, 91, 72, 25, 72, 92, 90, 31, 33, 42, 47, 11, 38, 28, 15, 60, 81, 80, 13, 48, 19, 45, 60, 28, 69, 42, 95, 30, 29, 47, 61, 44, 73, 52, 28, 64, 28, 75, 25, 33, 19, 58, 31, 35, 65, 19, 13, 42, 23, 41, 45, 22, 31, 72, 42, 35, 82, 95, 28, 60, 56, 83, 28, 89, 25, 44, 40, 99, 46, 71, 55, 58, 48, 99, 28, 66, 55, 19, 49, 96, 24, 29, 53, 86, 80, 47, 85, 33, 34, 18, 27, 34, 26, 46, 68, 60, 99, 26, 99, 70, 42, 67, 81, 37, 66, 14, 84, 16, 15, 34, 96, 35, 13, 22, 42, 37, 93, 59, 39, 25, 17, 58, 31, 37, 74, 81, 40, 49, 49, 89, 44, 20, 36, 47, 34, 55, 66, 34, 88, 16, 26, 28, 38, 15, 25, 25, 49, 74, 76, 61, 73, 76, 64, 21, 16, 40, 32, 14, 29, 75, 41, 67, 35, 67, 69, 92, 41, 56, 37, 53, 37, 40, 41, 33, 78, 25, 12, 35, 14, 84, 60, 21, 62, 58, 51, 79, 63, 88, 15, 73, 54, 36, 94, 64, 38, 30, 30, 53, 18, 24, 17, 13, 35, 55, 39, 44, 47, 76, 67, 32, 76, 19, 94, 70, 95, 87, 41, 49, 18, 37, 65, 54, 82, 38, 14, 24, 62, 24, 90, 95, 58, 53, 50, 14, 90, 79, 67, 78, 66, 18, 34, 54, 11, 59, 39, 73, 39, 66, 31, 94, 55, 99, 19, 71, 57, 65, 23, 91, 56, 63, 39, 28, 42, 71, 43, 54, 44, 41, 30, 47, 32, 65, 99, 44, 31, 45, 47, 37, 57, 19, 44, 29, 57, 87, 30, 84, 94, 13, 24, 68, 19, 48, 32, 51, 59, 21, 55, 26, 60, 67, 25, 50, 14, 27, 13, 63, 47, 12, 34, 47, 48, 21, 39, 60, 18, 56, 43, 20, 38, 64, 38, 41, 78, 75, 52, 29, 67, 18, 78, 34, 20, 68, 27, 41, 64, 78, 68, 69, 84, 39, 29, 15, 27, 36, 95, 56, 42, 41, 16, 94, 61, 42, 88, 37, 31, 45, 40, 27, 23, 17, 32, 44, 73, 30, 58, 16, 40, 40, 70, 73, 55, 30, 59, 32, 50, 16, 73, 28, 45, 17, 15, 27, 54, 90, 29, 61, 29, 52, 38, 21, 37, 91, 50, 42, 55, 79, 73, 52, 13, 70, 37, 17, 16, 29, 50, 70, 45, 44, 19, 98, 45, 64, 19, 43, 12, 29, 71, 34, 33, 28, 95, 51, 20, 12, 34, 22, 70, 96, 85, 49, 73, 30, 32, 41, 37, 18, 18, 25, 53, 88, 19, 45, 58, 99, 31, 33, 22, 75, 62, 67, 89, 93, 95, 78, 59, 44, 42, 72, 61, 72, 64, 84, 29, 96, 19, 61, 46, 50, 42, 44, 19, 21, 86, 40, 78, 34, 26, 36, 28, 25, 40, 38, 50, 61, 27, 30, 39, 81, 87, 21, 36, 54, 29, 35, 33, 50, 47, 30, 52, 32, 29, 22, 36, 55, 43, 44, 11, 37, 28, 79, 61, 63, 44, 43, 28, 73, 56, 74, 25, 81, 33, 59, 83, 42, 55, 43, 37, 24, 74, 32, 42, 89, 39, 75, 69, 27, 54, 50, 36, 78, 24, 24, 33, 49, 33, 30, 22, 93, 66, 75, 34, 34, 72, 86, 27, 11, 90, 89, 29, 51, 26, 37, 11, 44, 41, 69, 58, 62, 37, 87, 22, 98, 45, 13, 40, 33, 74, 66, 38, 12, 35, 27, 78, 40, 42, 24, 47, 28, 23, 37, 83, 85, 26, 17, 47, 32, 24, 20, 95, 48, 45, 86, 16, 13, 23, 49, 44, 99, 92, 27, 21, 27, 28, 53, 80, 80, 28, 95, 13, 20, 46, 67, 75, 76, 66, 80, 47, 66, 11, 78, 64, 86, 16, 51, 85, 35, 26, 85, 64, 56, 58, 23, 40, 39, 58, 26, 59, 29, 30, 82, 30, 44, 28, 49, 60, 41, 56, 46, 78, 65, 39, 25, 89, 19, 37, 92, 40, 44, 57, 78, 56, 38, 71, 35, 46, 82, 66, 68, 93, 21, 45, 86, 42, 29, 91, 13, 79, 55, 95, 63, 77, 20, 19, 27, 45, 49, 16, 54, 21, 80, 69, 43, 33, 47, 11, 35, 85, 46, 55, 34, 49, 15, 69, 39, 37, 76, 61, 47, 36, 84, 70, 13, 55, 44, 28, 19, 95, 32, 21, 50, 88, 47, 90, 42, 23, 67, 25, 67, 42, 90, 69, 63, 20, 36, 46, 26, 34, 84, 54, 55, 54, 37, 37, 16, 22, 83, 19, 55, 20, 41, 44, 63, 25, 29, 31, 32, 97, 85, 60, 40, 83, 42, 44, 16, 47, 20, 75, 81, 44, 18, 21, 72, 50, 35, 50, 48, 58, 49, 82, 97, 57, 56, 24, 64, 41, 77, 45, 34, 55, 43, 22, 63, 81, 77, 44, 17, 54, 31, 25, 67, 43, 74, 31, 85, 75, 64, 62, 46, 29, 58, 22, 48, 21, 49, 51, 15, 63, 83, 31, 51, 15, 17, 32, 16, 16, 17, 47, 72, 47, 16, 47, 43, 58, 51, 44, 81, 67, 15, 81, 67, 59, 39, 36, 68, 30, 72, 15, 56, 32, 47, 50, 37, 22, 79, 22, 84, 34, 86, 60, 73, 73, 71, 19, 13, 38, 21, 26, 53, 73, 58, 30, 54, 82, 40, 76, 36, 22, 31, 59, 34, 83, 71, 16, 96, 73, 87, 25, 75, 14, 88, 68, 77, 17, 49, 26, 41, 56, 30, 70, 53, 97, 95, 37, 30, 27, 43, 60, 13, 46, 58, 54, 46, 89, 68, 42, 87, 18, 40, 67, 27, 12, 90, 65, 35, 18, 37, 48, 45, 30, 47, 61, 49, 45, 51, 14, 23, 81, 88, 62, 53, 67, 45, 78, 91, 60, 62, 80, 28, 54, 98, 46, 87, 46, 31, 45, 74, 20, 58, 29, 43, 46, 57, 35, 26, 74, 42, 17, 26, 57, 35, 37, 81, 44, 18, 95, 78, 15, 59, 40, 74, 33, 50, 51, 50, 53, 31, 36, 57, 38, 57, 37, 69, 11, 59, 75, 36, 54, 67, 68, 21, 74, 68, 74, 56, 14, 48, 12, 52, 21, 64, 58, 83, 33, 13, 28, 55, 14, 27, 56, 42, 49, 91, 67, 25, 86, 95, 89, 88, 21, 14, 62, 32, 30, 51, 45, 74, 44, 39, 52, 15, 54, 31, 16, 53, 55, 58, 45, 61, 61, 12, 45, 18, 30, 67, 16, 14, 37, 43, 28, 77, 53, 82, 70, 97, 72, 15, 23, 29, 51, 40, 77, 57, 88, 12, 26, 65, 70, 79, 70, 17, 63, 59, 72, 80, 66, 36, 52, 44, 53, 17, 19, 28, 14, 42, 28, 69, 75, 52, 47, 29, 52, 54, 51, 48, 43, 81, 65, 14, 57, 47, 90, 57, 13, 28, 26, 68, 48, 61, 20, 36, 24, 36, 27, 78, 64, 63, 60, 91, 56, 60, 28, 80, 73, 26, 42, 53, 14, 16, 37, 64, 65, 33, 45, 28, 49, 78, 70, 29, 77, 38, 46, 39, 64, 23, 16, 60, 61, 38, 58, 44, 57, 15, 30, 32, 23, 70, 40, 14, 61, 67, 63, 64, 80, 80, 38, 74, 31, 41, 56, 60, 85, 34, 59, 35, 58, 77, 62, 26, 27, 84, 66, 52, 89, 40, 41, 68, 21, 64, 97, 40, 36, 44, 15, 48, 37, 62, 32, 44, 57, 30, 15, 30, 46, 78, 27, 48, 37, 76, 91, 89, 59, 19, 12, 58, 56, 52, 59, 85, 20, 68, 51, 39, 19, 74, 61, 44, 31, 41, 65, 51, 35, 33, 72, 65, 15, 31, 42, 41, 91, 93, 13, 40, 47, 91, 64, 20, 20, 27, 81, 48, 18, 32, 64, 52, 78, 79, 24, 74, 85, 70, 16, 67, 78, 41, 80, 54, 57, 30, 79, 90, 40, 36, 47, 33, 37, 28, 37, 28, 54, 31, 38, 51, 18, 78, 50, 25, 56, 40, 69, 12, 27, 44, 47, 29, 88, 70, 70, 55, 64, 24, 62, 86, 27, 46, 16, 18, 45, 36, 36, 23, 49, 13, 71, 77, 21, 33, 32, 12, 80, 26, 71, 35, 26, 66, 70, 27, 34, 48, 77, 96, 83, 42, 70, 87, 77, 22, 38, 37, 74, 76, 26, 85, 53, 26, 41, 28, 92, 96, 50, 83, 34, 56, 55, 80, 94, 34, 17, 37, 16, 42, 25, 40, 67, 73, 15, 16, 42, 31, 94, 26, 24, 25, 59, 37, 39, 89, 40, 46, 13, 81, 35, 23, 65, 77, 51, 47, 80, 79, 14, 78, 93, 35, 77, 15, 39, 97, 11, 36, 27, 32, 58, 20, 23, 65, 77, 95, 84, 24, 20, 46, 16, 74, 89, 48, 19, 44, 53, 30, 94, 34, 17, 27, 42, 54, 62, 29, 20, 41, 65, 65, 25, 19, 71, 79, 20, 32, 18, 84, 26, 62, 43, 72, 86, 70, 21, 16, 57, 49, 69, 17, 54, 48, 24, 60, 81, 33, 18, 47, 61, 29, 57, 52, 45, 16, 59, 15, 36, 38, 16, 74, 54, 23, 52, 53, 43, 74, 28, 31, 44, 59, 54, 44, 92, 15, 32, 45, 67, 94, 32, 43, 45, 42, 53, 72, 22, 75, 39, 51, 56, 62, 72, 58, 25, 37, 63, 35, 49, 40, 63, 36, 57, 77, 53, 68, 26, 81, 26, 68, 25, 84, 14, 86, 58, 22, 54, 36, 32, 23, 37, 11, 76, 52, 78, 17, 60, 44, 14, 32, 37, 72, 98, 48, 40, 84, 31, 25, 61, 34, 47, 63, 28, 46, 66, 70, 87, 32, 53, 38, 37, 23, 58, 75, 48, 54, 71, 18, 32, 39, 83, 57, 51, 39, 16, 96, 34, 44, 23, 30, 61, 89, 42, 33, 50, 29, 69, 26, 44, 89, 29, 86, 68, 74, 39, 38, 35, 66, 50, 12, 35, 92, 70, 75, 52, 62, 11, 76, 73, 52, 76, 16, 28, 43, 61, 47, 37, 77, 56, 81, 53, 90, 68, 12, 63, 60, 34, 96, 61, 25, 30, 65, 53, 52, 80, 71, 57, 55, 73, 62, 21, 51, 13, 16, 40, 95, 37, 25, 47, 50, 74, 86, 63, 16, 38, 45, 37, 20, 15, 29, 24, 20, 26, 89, 29, 22, 71, 74, 13, 46, 55, 87, 71, 69, 63, 45, 26, 89, 25, 77, 61, 40, 17, 31, 41, 73, 36, 97, 82, 52, 16, 33, 75, 40, 39, 49, 77, 90, 97, 33, 27, 50, 41, 30, 36, 52, 93, 18, 48, 42, 83, 25, 59, 66, 73, 89, 39, 35, 46, 29, 36, 32, 68, 57, 55, 16, 42, 21, 54, 46, 19, 79, 42, 59, 58, 51, 45, 28, 24, 51, 16, 13, 14, 82, 33, 14, 35, 52, 22, 63, 62, 21, 88, 29, 37, 38, 20, 66, 73, 74, 55, 65, 46, 53, 47, 23, 64, 55, 71, 40, 31, 79, 27, 96, 33, 69, 49, 77, 32, 93, 93, 90, 63, 44, 41, 78, 40, 69, 14, 90, 42, 49, 18, 34, 26, 51, 75, 19, 36, 85, 93, 32, 17, 76, 19, 49, 34, 13, 60, 30, 21, 56, 16, 61, 92, 58, 33, 35, 39, 41, 53, 96, 46, 31, 49, 22, 58, 49, 30, 84, 69, 23, 18, 99, 24, 46, 54, 18, 81, 38, 93, 46, 32, 55, 36, 14, 58, 30, 59, 34, 65, 23, 50, 56, 69, 57, 34, 75, 36, 43, 30, 16, 66, 43, 58, 35, 38, 14, 46, 30, 59, 64, 61, 81, 26, 66, 68, 17, 75, 49, 86, 46, 65, 87, 30, 58, 30, 68, 29, 31, 35, 19, 34, 18, 79, 23, 39, 42, 19, 24, 37, 61, 30, 48, 25, 29, 33, 23, 26, 70, 62, 44, 21, 32, 60, 43, 31, 78, 22, 47, 50, 50, 70, 12, 63, 50, 17, 61, 29, 86, 46, 78, 14, 73, 22, 14, 42, 16, 20, 59, 41, 67, 29, 20, 55, 24, 96, 84, 24, 14, 43, 51, 54, 78, 63, 24, 14, 33, 57, 50, 41, 57, 94, 52, 25, 59, 21, 19, 35, 58, 56, 41, 42, 96, 33, 85, 55, 19, 95, 71, 16, 23, 82, 49, 56, 88, 12, 69, 77, 50, 15, 71, 34, 36, 22, 41, 24, 31, 14, 37, 43, 35, 64, 54, 75, 49, 40, 41, 30, 36, 51, 42, 26, 72, 44, 78, 86, 27, 43, 50, 20, 88, 45, 24, 76, 34, 22, 75, 61, 70, 52, 81, 64, 22, 12, 40, 24, 93, 12, 73, 30, 74, 77, 31, 87, 97, 22, 48, 36, 45, 52, 86, 26, 22, 13, 41, 60, 73, 35, 57, 93, 14, 42, 30, 16, 90, 57, 73, 28, 23, 69, 87, 27, 35, 48, 57, 65, 48, 33, 17, 21, 48, 22, 90, 71, 86, 25, 17, 27, 54, 88, 83, 29, 93, 73, 16, 75, 69, 31, 46, 14, 77, 45, 19, 14, 67, 30, 22, 70, 42, 39, 36, 34, 37, 46, 79, 46, 11, 46, 52, 79, 44, 26, 37, 60, 36, 40, 54, 78, 66, 41, 56, 33, 84, 46, 40, 37, 97, 13, 61, 35, 19, 50, 71, 21, 25, 64, 26, 50, 54, 34, 97, 43, 57, 58, 49, 29, 95, 61, 26, 28, 11, 52, 15, 31, 23, 68, 73, 24, 82, 25, 77, 12, 49, 69, 83, 49, 93, 19, 31, 60, 21, 95, 56, 29, 98, 64, 17, 42, 44, 63, 11, 93, 68, 69, 62, 32, 26, 74, 37, 68, 17, 36, 22, 56, 13, 21, 26, 30, 42, 78, 29, 42, 22, 34, 29, 90, 35, 69, 86, 48, 16, 51, 30, 88, 33, 26, 55, 13, 42, 21, 23, 96, 29, 77, 59, 22, 31, 98, 54, 67, 64, 53, 12, 51, 74, 68, 23, 24, 62, 92, 29, 41, 36, 55, 30, 22, 21, 89, 66, 63, 50, 62, 88, 61, 28, 61, 28, 71, 59, 58, 45, 25, 41, 66, 18, 11, 15, 30, 41, 49, 38, 42, 52, 94, 86, 64, 81, 15, 67, 66, 26, 79, 22, 89, 94, 68, 79, 28, 27, 26, 46, 78, 48, 25, 71, 16, 61, 44, 30, 48, 11, 96, 77, 34, 83, 63, 64, 42, 14, 21, 26, 52, 27, 67, 21, 75, 68, 30, 12, 64, 62, 48, 62, 23, 60, 77, 40, 43, 91, 36, 50, 76, 30, 80, 53, 81, 74, 22, 45, 31, 63, 49, 41, 43, 29, 18, 27, 18, 27, 52, 44, 48, 34, 68, 50, 39, 62, 28, 48, 73, 94, 72, 57, 64, 36, 16, 46, 33, 42, 29, 77, 49, 44, 83, 74, 18, 78, 66, 55, 15, 54, 12, 81, 49, 19, 57, 35, 66, 27, 51, 99, 89, 19, 52, 67, 25, 41, 47, 17, 86, 39, 48, 26, 38, 32, 34, 37, 39, 58, 69, 60, 55, 63, 59, 26, 40, 85, 72, 30, 40, 53, 50, 43, 40, 33, 22, 29, 17, 19, 19, 35, 42, 31, 56, 24, 39, 37, 60, 34, 23, 17, 37, 28, 86, 42, 22, 69, 20, 42, 24, 52, 17, 45, 39, 59, 35, 53, 61, 42, 89, 53, 31, 51, 67, 51, 76, 20, 78, 57, 67, 39, 65, 37, 67, 31, 67, 83, 27, 53, 36, 56, 21, 51, 86, 65, 60, 64, 13, 64, 45, 15, 41, 60, 14, 34, 69, 20, 60, 49, 13, 18, 77, 20, 12, 17, 37, 37, 49, 40, 31, 65, 19, 34, 44, 52, 57, 40, 57, 72, 53, 64, 12, 63, 24, 68, 50, 17, 63, 49, 82, 15, 87, 35, 89, 28, 50, 32, 25, 15, 65, 45, 15, 26, 25, 50, 43, 28, 14, 45, 50, 57, 87, 65, 64, 37, 45, 89, 46, 38, 23, 65, 61, 32, 24, 82, 42, 20, 62, 41, 40, 34, 22, 55, 39, 24, 61, 26, 12, 31, 98, 73, 92, 44, 32, 55, 32, 62, 19, 64, 43, 63, 76, 44, 39, 57, 57, 74, 28, 28, 32, 52, 85, 54, 53, 76, 27, 56, 75, 30, 82, 50, 31, 64, 20, 21, 15, 41, 25, 55, 71, 30, 13, 72, 12, 50, 43, 94, 39, 50, 23, 45, 69, 50, 27, 59, 30, 40, 28, 40, 61, 18, 78, 55, 40, 23, 73, 95, 51, 80, 91, 29, 18, 32, 51, 29, 27, 39, 33, 67, 85, 19, 89, 60, 54, 43, 87, 24, 63, 65, 56, 72, 84, 33, 91, 13, 93, 60, 47, 30, 43, 45, 41, 85, 70, 17, 31, 48, 17, 35, 57, 43, 67, 27, 27, 28, 20, 28, 55, 60, 46, 83, 26, 48, 49, 63, 48, 23, 95, 56, 47, 41, 19, 74, 18, 40, 51, 19, 62, 98, 77, 25, 24, 67, 69, 55, 14, 84, 15, 80, 15, 13, 23, 27, 90, 20, 43, 54, 65, 55, 20, 65, 19, 97, 71, 77, 81, 61, 64, 26, 31, 81, 54, 77, 90, 44, 50, 88, 44, 85, 98, 42, 89, 74, 36, 80, 77, 55, 16, 80, 20, 45, 21, 41, 42, 23, 60, 82, 38, 80, 78, 35, 48, 78, 45, 74, 53, 51, 38, 98, 12, 32, 73, 40, 47, 19, 23, 20, 46, 33, 31, 25, 72, 24, 89, 27, 87, 51, 71, 45, 16, 50, 16, 43, 49, 54, 52, 69, 56, 34, 25, 33, 82, 60, 25, 39, 52, 79, 41, 42, 87, 69, 98, 13, 70, 59, 34, 23, 42, 30, 32, 73, 60, 37, 26, 17, 85, 72, 64, 42, 51, 28, 72, 45, 42, 12, 31, 61, 32, 34, 91, 19, 19, 86, 79, 38, 84, 49, 32, 42, 33, 17, 58, 40, 29, 68, 50, 33, 30, 82, 14, 26, 16, 27, 41, 46, 60, 38, 29, 15, 44, 22, 42, 90, 26, 21, 73, 36, 63, 50, 46, 97, 13, 25, 37, 34, 20, 18, 21, 73, 48, 36, 22, 48, 56, 41, 24, 28, 59, 64, 34, 36, 29, 49, 40, 67, 28, 19, 28, 30, 87, 14, 30, 41, 73, 93, 51, 30, 38, 15, 69, 33, 82, 61, 18, 70, 52, 59, 97, 32, 35, 68, 30, 63, 76, 57, 54, 17, 71, 16, 45, 62, 23, 44, 45, 14, 24, 62, 32, 40, 59, 14, 71, 65, 46, 24, 78, 67, 58, 50, 64, 66, 39, 28, 88, 38, 46, 17, 69, 34, 20, 33, 63, 23, 32, 16, 31, 69, 74, 42, 33, 78, 28, 40, 18, 28, 63, 26, 11, 73, 17, 34, 81, 23, 27, 64, 76, 54, 71, 56, 80, 51, 63, 15, 41, 30, 16, 72, 64, 61, 21, 33, 15, 25, 17, 12, 40, 83, 14, 52, 18, 89, 49, 16, 19, 73, 73, 86, 91, 20, 18, 42, 44, 49, 55, 64, 13, 50, 31, 30, 57, 50, 43, 55, 64, 74, 73, 71, 33, 91, 20, 55, 71, 97, 36, 38, 54, 19, 14, 14, 51, 27, 35, 84, 63, 26, 69, 61, 45, 25, 68, 82, 34, 42, 86, 28, 35, 64, 39, 99, 64, 28, 63, 31, 28, 98, 47, 53, 44, 27, 35, 53, 44, 50, 42, 62, 63, 49, 40, 32, 57, 11, 37, 50, 34, 51, 18, 50, 75, 39, 25, 26, 37, 52, 22, 69, 54, 51, 58, 42, 26, 33, 21, 60, 32, 25, 48, 90, 24, 66, 63, 87, 41, 34, 39, 24, 43, 75, 72, 28, 83, 25, 47, 26, 58, 43, 36, 54, 78, 87, 74, 79, 24, 60, 81, 52, 55, 54, 58, 39, 24, 15, 56, 54, 37, 49, 67, 27, 36, 31, 25, 39, 56, 66, 48, 86, 41, 15, 25, 41, 29, 25, 17, 68, 67, 12, 36, 54, 83, 51, 32, 50, 16, 23, 84, 14, 26, 29, 23, 26, 68, 84, 89, 67, 28, 84, 79, 42, 55, 47, 23, 48, 65, 50, 54, 68, 14, 55, 49, 71, 89, 74, 38, 32, 49, 28, 71, 55, 11, 43, 17, 15, 34, 77, 91, 16, 66, 45, 40, 33, 16, 28, 66, 59, 12, 32, 42, 52, 30, 47, 45, 82, 89, 90, 23, 27, 85, 75, 69, 42, 29, 11, 39, 81, 52, 75, 44, 23, 31, 21, 84, 60, 49, 56, 38, 34, 27, 37, 12, 19, 49, 30, 33, 56, 26, 13, 38, 71, 73, 44, 16, 41, 52, 40, 70, 29, 78, 67, 41, 70, 53, 45, 84, 74, 89, 46, 74, 38, 22, 55, 49, 47, 51, 42, 29, 67, 18, 18, 13, 70, 70, 85, 32, 48, 52, 34, 55, 62, 38, 75, 33, 30, 20, 71, 45, 33, 38, 65, 27, 70, 75, 55, 37, 27, 18, 48, 74, 11, 63, 13, 27, 79, 42, 28, 32, 23, 28, 52, 62, 65, 97, 99, 39, 25, 23, 48, 86, 88, 36, 70, 81, 34, 30, 36, 21, 22, 37, 39, 39, 44, 27, 16, 42, 32, 38, 32, 55, 19, 42, 69, 64, 35, 17, 60, 63, 47, 46, 36, 82, 44, 44, 53, 82, 53, 15, 48, 85, 91, 47, 16, 45, 32, 90, 28, 27, 90, 37, 14, 56, 32, 99, 54, 53, 91, 55, 31, 35, 54, 38, 71, 21, 13, 82, 34, 51, 39, 35, 63, 23, 82, 54, 37, 62, 95, 90, 57, 49, 28, 93, 24, 62, 58, 14, 73, 48, 12, 11, 53, 78, 62, 54, 26, 45, 45, 21, 25, 20, 34, 80, 62, 46, 12, 36, 81, 35, 47, 37, 84, 52, 78, 43, 24, 32, 26, 14, 67, 42, 50, 74, 26, 94, 24, 97, 52, 57, 52, 48, 45, 54, 45, 94, 16, 46, 56, 53, 38, 60, 70, 20, 24, 56, 47, 51, 73, 44, 14, 74, 34, 43, 48, 66, 38, 85, 43, 62, 25, 32, 86, 31, 19, 87, 69, 51, 51, 49, 92, 73, 80, 42, 42, 44, 27, 55, 98, 49, 48, 33, 74, 71, 22, 37, 80, 37, 65, 21, 64, 34, 64, 11, 84, 90, 89, 26, 64, 63, 23, 34, 70, 95, 89, 82, 26, 19, 46, 27, 23, 26, 81, 29, 23, 92, 54, 33, 54, 62, 71, 27, 51, 33, 81, 35, 69, 82, 18, 53, 29, 37, 59, 24, 56, 59, 94, 26, 43, 44, 52, 21, 29, 11, 90, 58, 34, 99, 37, 47, 30, 69, 34, 42, 43, 89, 51, 18, 30, 93, 33, 28, 24, 20, 46, 45, 67, 27, 27, 77, 28, 41, 87, 66, 46, 32, 41, 71, 12, 54, 41, 12, 62, 47, 20, 62, 23, 59, 27, 77, 65, 42, 43, 19, 76, 21, 38, 44, 42, 45, 40, 29, 58, 65, 60, 41, 45, 66, 73, 20, 36, 29, 55, 94, 12, 44, 54, 99, 23, 78, 21, 57, 27, 32, 50, 29, 25, 50, 72, 68, 81, 38, 61, 70, 58, 55, 21, 44, 42, 81, 82, 82, 59, 44, 92, 96, 89, 54, 48, 47, 21, 30, 46, 85, 80, 38, 52, 31, 47, 25, 63, 61, 39, 77, 17, 24, 58, 50, 12, 21, 67, 97, 71, 89, 58, 66, 70, 64, 42, 63, 66, 61, 61, 16, 75, 51, 65, 84, 28, 60, 25, 92, 48, 45, 38, 67, 22, 20, 15, 94, 22, 71, 34, 72, 21, 70, 31, 62, 24, 14, 38, 52, 28, 15, 14, 60, 95, 43, 71, 40, 95, 86, 62, 55, 87, 72, 39, 51, 58, 29, 90, 18, 36, 11, 18, 43, 74, 44, 12, 63, 21, 49, 84, 31, 34, 11, 77, 16, 58, 28, 14, 50, 16, 51, 35, 32, 39, 31, 25, 61, 11, 79, 40, 82, 76, 30, 65, 33, 59, 92, 19, 55, 38, 45, 47, 47, 68, 28, 12, 26, 64, 34, 76, 17, 49, 37, 94, 28, 31, 24, 48, 60, 58, 28, 19, 72, 66, 66, 55, 71, 26, 74, 65, 79, 27, 56, 40, 49, 77, 69, 46, 54, 80, 39, 59, 89, 78, 62, 86, 91, 98, 31, 76, 45, 13, 19, 46, 34, 11, 19, 60, 78, 66, 68, 29, 61, 66, 36, 31, 46, 60, 22, 39, 55, 18, 24, 27, 52, 67, 80, 84, 57, 64, 21, 13, 70, 18, 21, 26, 99, 81, 32, 46, 34, 13, 54, 33, 36, 58, 59, 66, 26, 27, 67, 70, 36, 37, 33, 38, 41, 49, 57, 71, 92, 45, 46, 22, 36, 59, 56, 64, 37, 11, 44, 24, 89, 83, 75, 27, 44, 21, 35, 91, 21, 16, 31, 99, 60, 28, 86, 96, 55, 59, 22, 36, 87, 25, 60, 26, 65, 61, 23, 76, 50, 57, 57, 35, 49, 49, 48, 68, 61, 48, 67, 33, 50, 41, 31, 56, 19, 95, 21, 74, 39, 19, 64, 33, 25, 59, 33, 34, 75, 34, 87, 63, 27, 36, 56, 63, 11, 12, 32, 40, 45, 39, 37, 66, 45, 29, 44, 59, 76, 42, 42, 44, 48, 76, 40, 88, 67, 76, 97, 33, 49, 49, 32, 19, 40, 30, 49, 33, 13, 55, 51, 65, 44, 76, 93, 46, 98, 17, 64, 72, 63, 35, 96, 94, 31, 17, 49, 25, 32, 56, 62, 19, 24, 77, 17, 23, 22, 32, 27, 19, 29, 40, 81, 18, 86, 41, 28, 70, 60, 32, 12, 95, 38, 41, 39, 34, 34, 87, 76, 62, 34, 21, 43, 24, 56, 90, 53, 28, 84, 91, 54, 29, 47, 26, 15, 47, 38, 23, 89, 61, 31, 85, 87, 50, 42, 44, 20, 23, 76, 87, 23, 36, 20, 15, 76, 31, 84, 46, 74, 51, 44, 40, 33, 56, 37, 83, 69, 62, 25, 54, 46, 28, 74, 42, 49, 73, 11, 19, 61, 67, 32, 66, 22, 23, 22, 64, 30, 28, 20, 37, 12, 32, 52, 41, 54, 76, 49, 22, 41, 43, 38, 20, 58, 30, 63, 75, 80, 66, 39, 84, 52, 19, 17, 99, 19, 27, 39, 69, 18, 93, 49, 30, 60, 46, 33, 61, 83, 48, 72, 34, 37, 45, 31, 66, 77, 43, 56, 45, 20, 68, 32, 26, 85, 36, 18, 61, 71, 60, 24, 32, 15, 60, 80, 23, 77, 53, 24, 73, 78, 41, 35, 96, 97, 46, 76, 29, 35, 20, 79, 67, 76, 80, 74, 85, 80, 83, 82, 32, 23, 33, 98, 85, 63, 58, 32, 85, 43, 49, 45, 16, 36, 11, 95, 81, 31, 14, 33, 36, 15, 30, 82, 41, 19, 97, 15, 15, 35, 58, 31, 41, 85, 33, 33, 11, 63, 38, 38, 63, 25, 45, 75, 23, 28, 27, 27, 53, 57, 23, 28, 57, 63, 74, 46, 36, 67, 39, 31, 57, 81, 14, 73, 23, 74, 44, 97, 69, 45, 14, 18, 60, 46, 16, 96, 50, 57, 12, 27, 36, 23, 47, 81, 11, 27, 47, 85, 12, 50, 70, 73, 37, 13, 51, 83, 75, 93, 12, 31, 67, 17, 34, 54, 58, 21, 46, 47, 90, 20, 44, 39, 42, 61, 99, 19, 69, 50, 35, 28, 53, 11, 58, 20, 54, 51, 50, 96, 30, 38, 52, 26, 68, 40, 33, 38, 25, 72, 53, 48, 51, 71, 32, 63, 43, 19, 46, 89, 29, 35, 39, 25, 25, 70, 24, 25, 62, 85, 51, 20, 42, 56, 64, 40, 83, 32, 38, 58, 12, 93, 67, 49, 98, 45, 54, 29, 92, 66, 30, 78, 61, 95, 30, 42, 36, 34, 69, 58, 22, 91, 24, 60, 84, 63, 34, 23, 33, 18, 77, 33, 38, 56, 62, 22, 43, 76, 26, 67, 45, 73, 47, 14, 52, 80, 11, 34, 49, 64, 45, 44, 87, 83, 71, 77, 73, 59, 72, 15, 49, 56, 47, 34, 26, 68, 25, 48, 67, 23, 37, 51, 42, 53, 16, 86, 40, 22, 82, 79, 45, 69, 54, 32, 76, 26, 73, 37, 12, 78, 45, 15, 32, 61, 40, 45, 50, 60, 68, 15, 82, 80, 90, 39, 31, 19, 51, 32, 30, 44, 45, 70, 83, 40, 14, 84, 58, 45, 57, 74, 61, 57, 29, 26, 25, 62, 77, 15, 73, 99, 12, 57, 19, 42, 46, 26, 76, 59, 25, 37, 37, 15, 85, 56, 73, 22, 32, 12, 26, 52, 17, 94, 16, 41, 46, 55, 80, 23, 33, 22, 31, 49, 18, 49, 62, 86, 11, 51, 42, 13, 42, 57, 60, 42, 12, 39, 18, 80, 38, 33, 52, 18, 44, 57, 63, 94, 39, 42, 54, 76, 59, 49, 29, 55, 76, 75, 54, 71, 11, 23, 24, 22, 16, 68, 73, 33, 45, 23, 24, 54, 51, 53, 43, 57, 33, 82, 27, 57, 76, 29, 22, 66, 23, 40, 82, 49, 39, 48, 75, 44, 34, 59, 71, 74, 38, 78, 14, 36, 69, 30, 60, 23, 34, 69, 55, 77, 81, 77, 49, 26, 19, 57, 25, 61, 47, 42, 12, 35, 35, 17, 64, 79, 84, 35, 31, 60, 24, 62, 12, 24, 25, 43, 26, 33, 40, 61, 29, 30, 51, 11, 80, 33, 38, 12, 37, 53, 74, 43, 86, 77, 75, 69, 23, 53, 64, 62, 18, 15, 66, 46, 69, 13, 35, 42, 20, 76, 67, 15, 36, 24, 31, 59, 59, 32, 48, 14, 53, 55, 38, 31, 20, 75, 58, 28, 19, 13, 57, 63, 34, 41, 29, 36, 32, 71, 40, 27, 99, 93, 49, 30, 65, 69, 47, 59, 29, 77, 18, 21, 30, 17, 65, 17, 47, 48, 52, 33, 17, 63, 62, 26, 16, 64, 78, 49, 20, 74, 79, 24, 82, 24, 71, 39, 24, 38, 16, 27, 45, 41, 38, 75, 46, 59, 92, 13, 22, 64, 44, 40, 88, 39, 34, 37, 52, 31, 90, 90, 51, 39, 75, 47, 41, 55, 59, 58, 39, 90, 43, 58, 38, 46, 24, 28, 28, 59, 36, 76, 13, 29, 94, 83, 20, 21, 89, 61, 55, 52, 16, 38, 16, 71, 12, 81, 86, 39, 67, 31, 21, 11, 38, 36, 66, 32, 48, 11, 69, 41, 42, 39, 97, 16, 44, 63, 27, 80, 35, 34, 23, 30, 38, 80, 63, 62, 23, 19, 80, 58, 74, 35, 36, 82, 40, 29, 55, 71, 44, 78, 29, 70, 15, 94, 65, 86, 90, 67, 38, 24, 15, 12, 53, 47, 17, 83, 72, 35, 48, 84, 98, 73, 50, 40, 26, 37, 15, 25, 43, 27, 17, 59, 35, 18, 52, 49, 86, 58, 64, 61, 35, 32, 54, 22, 39, 26, 74, 16, 54, 56, 21, 18, 31, 33, 53, 41, 46, 22, 45, 50, 14, 28, 67, 99, 34, 36, 29, 42, 74, 82, 31, 82, 15, 20, 64, 46, 36, 38, 16, 32, 24, 34, 35, 26, 36, 29, 40, 46, 52, 76, 15, 15, 30, 59, 71, 40, 39, 32, 56, 64, 32, 95, 26, 61, 35, 41, 20, 34, 61, 54, 89, 27, 12, 58, 97, 85, 70, 18, 80, 29, 33, 78, 38, 71, 48, 53, 30, 81, 21, 61, 13, 61, 60, 60, 35, 31, 27, 98, 39, 35, 74, 23, 30, 39, 90, 49, 27, 44, 12, 24, 53, 17, 65, 88, 74, 28, 26, 99, 73, 51, 19, 40, 56, 56, 11, 35, 20, 63, 48, 46, 32, 38, 71, 50, 29, 41, 19, 56, 44, 43, 40, 25, 63, 36, 41, 26, 24, 40, 77, 61, 61, 15, 37, 16, 73, 16, 14, 15, 75, 42, 31, 32, 33, 27, 13, 48, 29, 35, 87, 20, 70, 76, 95, 41, 53, 80, 80, 21, 55, 53, 15, 28, 57, 13, 81, 57, 34, 31, 40, 37, 76, 22, 21, 38, 34, 21, 61, 63, 60, 62, 47, 71, 80, 14, 23, 62, 27, 29, 27, 53, 94, 17, 49, 25, 54, 31, 36, 19, 22, 58, 36, 41, 16, 54, 74, 39, 66, 89, 42, 22, 32, 55, 32, 91, 65, 54, 21, 76, 65, 48, 29, 37, 14, 61, 58, 88, 83, 43, 57, 11, 28, 25, 34, 88, 58, 35, 27, 50, 62, 13, 55, 83, 11, 62, 72, 33, 55, 45, 82, 91, 16, 40, 51, 26, 72, 46, 60, 63, 66, 20, 51, 34, 22, 38, 86, 99, 35, 52, 31, 29, 33, 21, 92, 77, 14, 16, 81, 84, 68, 41, 43, 30, 30, 16, 61, 25, 55, 12, 54, 53, 58, 25, 51, 63, 52, 21, 36, 29, 85, 91, 22, 24, 28, 52, 20, 13, 46, 45, 13, 86, 86, 48, 32, 33, 35, 53, 86, 40, 58, 32, 80, 79, 47, 43, 37, 28, 65, 44, 81, 41, 26, 82, 32, 87, 42, 32, 76, 20, 23, 50, 56, 54, 81, 29, 52, 25, 34, 30, 23, 78, 69, 44, 15, 54, 32, 60, 64, 23, 49, 49, 43, 54, 66, 64, 92, 37, 37, 43, 19, 31, 29, 17, 37, 55, 82, 67, 41, 71, 28, 30, 63, 66, 19, 59, 52, 15, 39, 86, 23, 36, 22, 61, 23, 23, 86, 74, 66, 32, 89, 65, 22, 12, 44, 42, 65, 33, 35, 51, 11, 26, 73, 34, 37, 90, 46, 46, 75, 25, 74, 62, 62, 35, 62, 36, 62, 27, 93, 19, 51, 83, 69, 42, 55, 35, 98, 31, 16, 26, 22, 75, 61, 49, 31, 73, 17, 94, 63, 87, 57, 28, 33, 89, 53, 18, 22, 57, 38, 82, 17, 54, 15, 75, 63, 93, 76, 42, 26, 43, 46, 27, 55, 56, 35, 39, 45, 17, 63, 35, 73, 31, 58, 94, 26, 26, 28, 38, 46, 29, 60, 79, 46, 89, 83, 80, 76, 17, 78, 16, 42, 52, 29, 75, 40, 25, 53, 54, 24, 60, 41, 53, 42, 27, 21, 60, 32, 41, 27, 41, 75, 17, 32, 11, 78, 72, 50, 55, 35, 68, 36, 76, 21, 63, 51, 44, 57, 39, 36, 80, 55, 13, 83, 34, 34, 60, 37, 14, 24, 57, 57, 28, 12, 43, 74, 56, 53, 42, 77, 85, 97, 39, 41, 24, 52, 58, 78, 51, 45, 60, 72, 47, 35, 90, 38, 45, 28, 39, 68, 68, 47, 46, 50, 34, 56, 44, 16, 40, 54, 55, 41, 46, 27, 59, 64, 57, 44, 47, 29, 11, 38, 40, 40, 45, 53, 27, 32, 58, 40, 46, 23, 40, 81, 52, 46, 12, 59, 35, 23, 47, 53, 28, 62, 51, 61, 18, 91, 47, 32, 29, 39, 39, 74, 28, 67, 15, 31, 63, 33, 17, 27, 79, 74, 40, 63, 31, 40, 29, 37, 16, 32, 44, 11, 29, 12, 71, 55, 76, 38, 38, 39, 65, 79, 25, 48, 15, 78, 62, 56, 99, 21, 38, 12, 47, 87, 38, 44, 17, 75, 85, 11, 42, 88, 99, 42, 32, 78, 26, 33, 60, 44, 32, 36, 27, 47, 50, 85, 12, 91, 69, 76, 23, 17, 33, 38, 21, 35, 27, 79, 57, 88, 70, 94, 83, 49, 58, 14, 76, 56, 28, 45, 12, 96, 64, 17, 23, 55, 50, 25, 76, 36, 30, 92, 53, 26, 27, 11, 42, 60, 43, 65, 30, 45, 96, 14, 19, 34, 83, 40, 47, 81, 62, 50, 56, 67, 79, 27, 21, 89, 40, 83, 77, 93, 33, 58, 82, 71, 77, 83, 80, 78, 12, 20, 69, 99, 88, 37, 73, 86, 77, 38, 57, 62, 11, 48, 20, 43, 54, 91, 37, 31, 11, 71, 72, 52, 49, 46, 11, 44, 33, 97, 95, 93, 59, 53, 84, 74, 72, 70, 29, 91, 71, 98, 79, 19, 91, 50, 15, 85, 34, 66, 83, 66, 59, 27, 63, 72, 45, 64, 30, 47, 24, 62, 43, 27, 30, 93, 42, 19, 13, 94, 25, 54, 39, 18, 85, 64, 54, 58, 56, 55, 17, 23, 81, 48, 40, 36, 16, 19, 46, 14, 15, 44, 97, 51, 64, 97, 42, 25, 16, 39, 45, 69, 20, 14, 92, 25, 28, 71, 49, 87, 57, 21, 73, 75, 33, 41, 84, 63, 99, 25, 22, 15, 15, 15, 38, 97, 18, 23, 37, 61, 30, 13, 93, 16, 67, 43, 88, 38, 77, 35, 40, 19, 31, 68, 58, 86, 72, 25, 70, 98, 25, 16, 80, 66, 43, 55, 69, 44, 98, 22, 25, 35, 51, 37, 69, 72, 75, 11, 32, 66, 43, 86, 60, 64, 16, 59, 42, 53, 18, 53, 25, 57, 35, 33, 84, 64, 18, 79, 28, 23, 70, 90, 90, 48, 61, 16, 80, 79, 48, 73, 54, 23, 67, 80, 94, 65, 96, 19, 30, 58, 91, 18, 11, 45, 31, 24, 33, 21, 41, 53, 16, 15, 41, 47, 13, 73, 44, 87, 14, 88, 77, 25, 86, 74, 31, 42, 22, 60, 52, 47, 40, 18, 53, 17, 37, 17, 13, 33, 70, 67, 49, 27, 80, 28, 33, 85, 19, 51, 25, 41, 37, 55, 70, 17, 65, 12, 80, 44, 44, 57, 71, 37, 80, 89, 25, 30, 37, 37, 77, 56, 55, 29, 17, 70, 35, 43, 24, 60, 41, 36, 23, 37, 43, 26, 25, 48, 35, 29, 91, 72, 57, 16, 39, 23, 32, 82, 37, 56, 40, 82, 64, 22, 42, 27, 29, 30, 53, 96, 21, 40, 43, 20, 57, 48, 37, 15, 46, 32, 49, 39, 81, 27, 49, 78, 42, 27, 54, 34, 50, 61, 57, 39, 22, 36, 35, 14, 41, 30, 25, 30, 30, 46, 46, 29, 84, 38, 23, 48, 31, 38, 36, 12, 99, 16, 34, 18, 28, 77, 34, 78, 20, 73, 52, 33, 26, 52, 36, 77, 65, 46, 71, 83, 63, 26, 52, 57, 17, 49, 16, 63, 35, 58, 47, 36, 26, 36, 85, 45, 78, 34, 61, 84, 26, 65, 52, 94, 68, 72, 24, 53, 79, 29, 53, 42, 55, 28, 42, 27, 25, 98, 11, 52, 32, 49, 65, 36, 41, 23, 54, 74, 33, 70, 28, 39, 83, 32, 35, 86, 47, 39, 41, 52, 58, 83, 53, 74, 53, 70, 87, 81, 40, 83, 42, 71, 44, 13, 68, 14, 63, 18, 57, 77, 17, 76, 19, 84, 23, 38, 86, 37, 23, 57, 48, 52, 12, 89, 48, 53, 26, 87, 20, 63, 29, 30, 38, 45, 15, 30, 57, 39, 31, 62, 84, 12, 51, 66, 21, 36, 82, 78, 34, 21, 30, 29, 57, 15, 90, 63, 20, 66, 40, 97, 77, 89, 61, 16, 21, 60, 60, 28, 27, 55, 25, 64, 33, 92, 39, 31, 28, 31, 31, 33, 25, 24, 31, 39, 46, 48, 73, 11, 29, 26, 68, 32, 31, 93, 73, 24, 27, 25, 29, 30, 19, 78, 56, 45, 99, 61, 41, 12, 69, 86, 19, 22, 84, 78, 21, 13, 27, 42, 27, 26, 47, 68, 63, 13, 17, 50, 16, 30, 38, 38, 35, 38, 61, 41, 88, 60, 32, 59, 23, 97, 49, 28, 14, 61, 31, 34, 12, 61, 39, 41, 29, 91, 25, 36, 65, 64, 14, 98, 32, 23, 25, 54, 77, 67, 29, 21, 20, 13, 23, 62, 72, 23, 78, 25, 73, 73, 42, 50, 67, 69, 37, 53, 68, 67, 20, 88, 63, 17, 88, 66, 30, 30, 19, 93, 61, 31, 65, 17, 41, 13, 68, 32, 65, 16, 74, 26, 28, 25, 29, 84, 36, 60, 24, 43, 62, 72, 76, 36, 32, 49, 78, 61, 30, 25, 52, 30, 44, 76, 63, 44, 28, 62, 84, 32, 62, 48, 74, 65, 29, 65, 39, 18, 11, 39, 38, 78, 16, 74, 17, 13, 24, 62, 70, 40, 73, 28, 50, 45, 59, 52, 88, 36, 70, 37, 36, 34, 38, 31, 75, 67, 13, 32, 18, 57, 65, 46, 67, 18, 52, 37, 24, 42, 14, 38, 25, 36, 38, 41, 14, 15, 30, 67, 28, 62, 19, 77, 14, 64, 62, 34, 71, 82, 28, 22, 12, 47, 26, 19, 12, 85, 24, 70, 83, 40, 60, 37, 41, 64, 63, 50, 48, 76, 94, 70, 68, 44, 87, 35, 66, 86, 44, 18, 47, 15, 53, 55, 43, 11, 54, 36, 12, 36, 47, 92, 41, 29, 37, 22, 59, 13, 52, 53, 68, 53, 63, 65, 96, 28, 63, 32, 49, 44, 48, 27, 15, 41, 44, 31, 50, 20, 61, 11, 34, 60, 81, 92, 39, 56, 15, 78, 49, 16, 52, 75, 26, 67, 43, 67, 35, 38, 33, 86, 31, 65, 34, 37, 79, 32, 14, 30, 30, 55, 65, 72, 74, 54, 74, 47, 80, 12, 73, 46, 89, 68, 48, 70, 16, 88, 55, 52, 39, 25, 73, 44, 25, 28, 75, 49, 55, 33, 26, 11, 36, 35, 85, 62, 85, 79, 66, 37, 59, 15, 44, 59, 55, 12, 49, 83, 29, 13, 60, 90, 48, 37, 97, 79, 45, 44, 96, 31, 50, 36, 45, 19, 64, 35, 70, 44, 28, 26, 14, 38, 35, 98, 60, 45, 66, 67, 50, 47, 97, 48, 59, 27, 27, 46, 89, 26, 41, 38, 92, 40, 27, 48, 74, 41, 81, 69, 69, 34, 52, 45, 30, 82, 32, 92, 47, 29, 44, 53, 54, 52, 44, 23, 34, 40, 22, 96, 41, 41, 49, 84, 45, 21, 31, 85, 37, 81, 57, 65, 26, 57, 75, 31, 19, 62, 88, 36, 23, 45, 42, 93, 47, 38, 22, 45, 85, 37, 76, 23, 76, 48, 46, 30, 53, 34, 47, 37, 25, 22, 49, 69, 32, 77, 53, 21, 76, 41, 40, 36, 32, 36, 74, 12, 50, 27, 75, 78, 76, 96, 74, 74, 74, 21, 58, 49, 35, 44, 66, 36, 75, 30, 25, 82, 45, 42, 92, 65, 98, 15, 28, 47, 20, 30, 15, 80, 69, 62, 81, 59, 42, 30, 62, 11, 33, 51, 31, 31, 43, 48, 29, 90, 58, 63, 90, 28, 39, 23, 73, 93, 70, 18, 88, 81, 68, 89, 32, 54, 26, 37, 45, 48, 85, 96, 92, 81, 69, 96, 50, 87, 63, 43, 71, 21, 84, 89, 85, 98, 49, 39, 49, 12, 24, 60, 41, 14, 18, 33, 60, 42, 71, 80, 38, 65, 26, 37, 62, 61, 90, 84, 81, 35, 48, 66, 83, 37, 52, 47, 36, 94, 14, 38, 21, 29, 16, 94, 73, 40, 46, 20, 38, 13, 56, 50, 41, 59, 71, 24, 34, 45, 86, 40, 79, 37, 23, 57, 73, 12, 61, 56, 45, 26, 56, 61, 44, 61, 64, 34, 42, 31, 14, 41, 27, 29, 32, 52, 34, 32, 42, 73, 57, 97, 62, 24, 74, 97, 12, 47, 22, 80, 15, 29, 46, 59, 36, 56, 68, 18, 27, 44, 80, 67, 70, 47, 62, 20, 30, 14, 45, 41, 44, 15, 27, 23, 51, 43, 57, 28, 34, 57, 50, 53, 87, 70, 37, 53, 34, 24, 61, 42, 42, 59, 67, 33, 69, 82, 67, 35, 27, 35, 23, 17, 32, 52, 92, 24, 45, 41, 22, 44, 84, 82, 47, 88, 66, 11, 57, 90, 32, 15, 32, 84, 21, 11, 27, 56, 65, 20, 28, 24, 84, 92, 71, 34, 24, 66, 42, 61, 33, 75, 74, 36, 28, 54, 57, 79, 26, 78, 54, 79, 31, 65, 86, 12, 77, 52, 32, 42, 39, 28, 31, 23, 37, 68, 30, 85, 37, 48, 48, 41, 57, 77, 51, 74, 70, 54, 33, 15, 52, 61, 89, 47, 35, 24, 60, 57, 39, 32, 92, 36, 84, 63, 34, 24, 55, 62, 25, 93, 84, 32, 44, 40, 69, 74, 20, 26, 78, 41, 85, 42, 50, 76, 21, 34, 23, 33, 38, 65, 80, 78, 25, 40, 47, 62, 54, 52, 30, 13, 42, 92, 51, 53, 73, 65, 44, 32, 22, 37, 72, 67, 73, 56, 77, 75, 31, 80, 69, 20, 40, 58, 31, 40, 27, 82, 13, 51, 55, 23, 53, 81, 44, 66, 82, 21, 35, 17, 52, 34, 95, 86, 34, 41, 29, 34, 31, 47, 21, 26, 96, 41, 57, 16, 27, 69, 50, 40, 30, 63, 78, 49, 32, 63, 56, 64, 43, 40, 90, 28, 52, 44, 75, 43, 38, 17, 51, 17, 37, 62, 51, 55, 20, 27, 64, 48, 25, 90, 88, 25, 60, 15, 24, 49, 46, 37, 47, 53, 16, 85, 31, 32, 48, 72, 47, 32, 79, 93, 70, 34, 55, 52, 36, 21, 35, 77, 60, 29, 43, 80, 34, 33, 94, 35, 65, 79, 39, 14, 14, 14, 96, 32, 21, 85, 61, 86, 21, 46, 60, 63, 20, 59, 34, 21, 43, 84, 70, 19, 47, 59, 32, 33, 36, 13, 72, 35, 36, 30, 32, 11, 32, 22, 21, 28, 74, 56, 21, 14, 51, 29, 56, 89, 43, 87, 53, 47, 47, 92, 79, 65, 37, 40, 17, 29, 49, 86, 50, 32, 69, 34, 15, 70, 35, 30, 95, 54, 55, 78, 59, 42, 14, 25, 69, 34, 23, 76, 29, 44, 32, 39, 29, 21, 20, 26, 24, 12, 22, 71, 71, 18, 11, 73, 31, 85, 23, 25, 74, 11, 67, 82, 44, 33, 69, 41, 97, 95, 53, 30, 80, 39, 73, 24, 30, 60, 43, 29, 14, 65, 65, 38, 18, 32, 83, 41, 72, 66, 29, 52, 33, 57, 60, 62, 39, 41, 34, 33, 19, 39, 46, 57, 59, 25, 78, 70, 58, 13, 21, 71, 68, 89, 62, 20, 91, 69, 58, 70, 29, 40, 46, 47, 28, 73, 11, 81, 31, 93, 54, 53, 31, 85, 87, 30, 43, 80, 34, 71, 44, 68, 51, 66, 34, 22, 41, 30, 27, 33, 73, 27, 21, 13, 39, 27, 79, 34, 13, 54, 76, 24, 24, 46, 52, 41, 62, 20, 69, 57, 38, 77, 31, 64, 32, 12, 61, 22, 17, 43, 42, 73, 44, 69, 87, 46, 48, 19, 69, 34, 43, 19, 37, 46, 74, 27, 53, 12, 36, 72, 58, 42, 41, 84, 46, 52, 25, 83, 56, 33, 64, 12, 96, 40, 56, 29, 28, 64, 76, 74, 74, 81, 20, 49, 29, 31, 35, 35, 94, 49, 57, 63, 62, 71, 15, 48, 23, 69, 31, 56, 63, 36, 42, 54, 39, 53, 25, 67, 31, 96, 43, 43, 94, 34, 66, 60, 14, 94, 40, 17, 22, 42, 45, 14, 55, 21, 65, 75, 54, 18, 52, 24, 26, 64, 51, 75, 54, 31, 31, 56, 56, 50, 15, 12, 53, 21, 87, 91, 61, 45, 48, 41, 41, 92, 41, 57, 39, 40, 21, 61, 76, 37, 55, 23, 16, 16, 93, 40, 23, 46, 79, 92, 83, 32, 44, 20, 54, 77, 33, 29, 92, 37, 80, 52, 64, 74, 50, 53, 48, 84, 81, 68, 28, 50, 21, 24, 50, 38, 58, 26, 27, 23, 57, 20, 61, 92, 62, 88, 59, 42, 44, 56, 60, 26, 64, 38, 58, 59, 76, 33, 43, 49, 78, 46, 49, 63, 61, 27, 32, 12, 72, 40, 47, 61, 58, 53, 68, 40, 18, 20, 41, 86, 88, 41, 90, 38, 38, 12, 93, 35, 74, 30, 43, 42, 38, 23, 81, 31, 40, 68, 49, 31, 90, 38, 32, 47, 59, 68, 40, 27, 74, 63, 85, 49, 61, 37, 15, 45, 81, 41, 23, 77, 19, 25, 84, 38, 51, 20, 16, 46, 89, 28, 20, 28, 45, 73, 19, 59, 43, 71, 23, 22, 17, 12, 34, 22, 26, 58, 37, 94, 34, 73, 54, 42, 17, 44, 59, 72, 49, 25, 25, 12, 27, 67, 18, 57, 70, 41, 17, 14, 64, 62, 51, 80, 80, 68, 39, 14, 70, 86, 25, 25, 79, 31, 88, 93, 53, 45, 51, 20, 43, 66, 44, 15, 55, 70, 53, 83, 78, 16, 68, 83, 81, 69, 27, 55, 24, 58, 43, 31, 27, 52, 39, 41, 42, 45, 46, 22, 31, 38, 61, 32, 58, 49, 79, 56, 25, 58, 66, 29, 65, 38, 99, 42, 31, 27, 78, 20, 24, 50, 60, 18, 13, 55, 18, 20, 45, 55, 81, 48, 24, 71, 37, 59, 61, 48, 44, 54, 90, 12, 65, 76, 26, 64, 45, 23, 26, 49, 55, 49, 43, 99, 79, 61, 73, 57, 44, 70, 36, 59, 79, 92, 27, 87, 11, 65, 20, 46, 40, 26, 99, 48, 26, 66, 76, 40, 32, 78, 51, 49, 55, 53, 52, 12, 79, 35, 75, 31, 21, 28, 72, 52, 35, 16, 64, 37, 60, 17, 13, 49, 62, 64, 78, 12, 41, 46, 27, 55, 40, 29, 57, 44, 82, 30, 28, 40, 57, 53, 77, 18, 81, 85, 99, 83, 50, 85, 82, 59, 30, 60, 45, 27, 57, 20, 48, 84, 32, 33, 29, 30, 66, 46, 44, 26, 53, 12, 59, 54, 42, 19, 15, 39, 78, 62, 52, 32, 87, 72, 21, 54, 25, 57, 31, 79, 35, 79, 71, 44, 50, 42, 47, 33, 61, 26, 41, 34, 56, 13, 84, 82, 68, 27, 49, 25, 79, 35, 54, 99, 33, 45, 62, 18, 76, 41, 12, 35, 12, 53, 89, 70, 55, 34, 84, 33, 49, 40, 74, 75, 52, 12, 77, 50, 60, 20, 69, 48, 69, 54, 40, 35, 84, 64, 15, 23, 54, 66, 49, 18, 77, 46, 31, 62, 13, 47, 84, 47, 71, 42, 41, 66, 92, 52, 16, 72, 32, 36, 48, 30, 33, 26, 51, 12, 19, 34, 71, 66, 45, 39, 42, 13, 93, 42, 86, 25, 28, 87, 19, 75, 32, 81, 55, 29, 23, 26, 43, 27, 50, 17, 25, 47, 87, 78, 40, 22, 70, 81, 11, 53, 82, 26, 65, 31, 90, 50, 31, 55, 77, 65, 71, 27, 28, 35, 52, 85, 74, 78, 18, 71, 21, 40, 40, 31, 93, 40, 53, 15, 88, 64, 57, 61, 76, 36, 46, 27, 47, 38, 35, 65, 29, 38, 97, 30, 48, 21, 44, 11, 12, 14, 78, 24, 17, 45, 51, 18, 44, 73, 46, 57, 22, 30, 82, 47, 99, 13, 27, 56, 66, 73, 16, 35, 37, 49, 23, 58, 64, 32, 44, 46, 64, 57, 41, 49, 32, 37, 93, 31, 49, 19, 43, 25, 29, 43, 22, 35, 12, 24, 95, 46, 79, 44, 66, 47, 33, 56, 18, 95, 68, 56, 28, 43, 70, 47, 29, 78, 91, 81, 33, 78, 95, 47, 25, 46, 29, 51, 75, 25, 29, 32, 64, 56, 16, 22, 31, 42, 28, 24, 63, 88, 62, 26, 24, 52, 18, 88, 55, 41, 68, 34, 25, 77, 67, 36, 43, 59, 56, 85, 14, 34, 81, 35, 34, 80, 25, 78, 26, 31, 12, 26, 37, 75, 52, 25, 31, 31, 13, 46, 46, 57, 18, 73, 25, 28, 22, 33, 44, 19, 38, 32, 52, 21, 52, 59, 40, 81, 77, 21, 93, 93, 82, 96, 28, 88, 30, 85, 45, 66, 99, 17, 51, 36, 70, 58, 46, 90, 45, 62, 42, 55, 53, 81, 40, 54, 89, 60, 33, 48, 92, 28, 46, 52, 67, 54, 30, 61, 63, 82, 24, 71, 55, 60, 38, 76, 81, 63, 67, 92, 32, 66, 69, 52, 26, 41, 15, 29, 70, 61, 49, 38, 90, 90, 17, 40, 24, 12, 28, 53, 59, 37, 32, 82, 77, 90, 42, 48, 44, 30, 38, 44, 49, 29, 39, 80, 54, 47, 78, 66, 47, 21, 85, 83, 35, 65, 23, 30, 94, 60, 54, 13, 12, 34, 24, 12, 47, 43, 47)] num_row_partitions=1>"
      ]
     },
     "execution_count": 297,
     "metadata": {},
     "output_type": "execute_result"
    }
   ],
   "source": [
    "# Print the ragged tensor returned\n",
    "tf.shape(ragged_train)"
   ]
  },
  {
   "cell_type": "code",
   "execution_count": 298,
   "metadata": {},
   "outputs": [
    {
     "data": {
      "text/plain": [
       "<tf.Tensor: shape=(37555,), dtype=int64, numpy=array([0, 1, 0, ..., 1, 1, 1])>"
      ]
     },
     "execution_count": 298,
     "metadata": {},
     "output_type": "execute_result"
    }
   ],
   "source": [
    "# Print the ragged label tensor returned\n",
    "\n",
    "label_train"
   ]
  },
  {
   "cell_type": "code",
   "execution_count": 299,
   "metadata": {},
   "outputs": [],
   "source": [
    "# Convert the train set into a tensorflow dataset\n",
    "\n",
    "\n",
    "# Your code here\n",
    "dataset_train = tf.data.Dataset.from_tensor_slices((ragged_train, label_train))\n",
    "# Shuffle the dataset\n",
    "\n",
    "# Your code here\n",
    "dataset_train = dataset_train.shuffle(10000)\n",
    "# Batch the dataset into batch size of 512\n",
    "\n",
    "# Your code here\n",
    "dataset_train = dataset_train.batch(512)\n",
    "# Pad each input batch with 0s\n",
    "dataset_train = dataset_train.map(lambda x,y: (x.to_tensor(default_value=0, shape=[None, None]), y), num_parallel_calls=5)"
   ]
  },
  {
   "cell_type": "code",
   "execution_count": 300,
   "metadata": {},
   "outputs": [],
   "source": [
    "# Prefetching\n",
    "\n",
    "\n",
    "# Your code here\n",
    "dataset_train = dataset_train.prefetch(5)"
   ]
  },
  {
   "cell_type": "code",
   "execution_count": 301,
   "metadata": {},
   "outputs": [
    {
     "name": "stdout",
     "output_type": "stream",
     "text": [
      "type : <class 'tensorflow.python.framework.ops.EagerTensor'> \n",
      "\n",
      "Input Shape (batch_size,sequence length) : (512, 99) \n",
      "\n"
     ]
    },
    {
     "name": "stderr",
     "output_type": "stream",
     "text": [
      "2023-07-02 22:32:04.225672: I tensorflow/core/common_runtime/executor.cc:1197] [/device:CPU:0] (DEBUG INFO) Executor start aborting (this does not indicate an error and you can ignore this message): INVALID_ARGUMENT: You must feed a value for placeholder tensor 'Placeholder/_1' with dtype int64 and shape [37555]\n",
      "\t [[{{node Placeholder/_1}}]]\n",
      "2023-07-02 22:32:04.226075: I tensorflow/core/common_runtime/executor.cc:1197] [/device:CPU:0] (DEBUG INFO) Executor start aborting (this does not indicate an error and you can ignore this message): INVALID_ARGUMENT: You must feed a value for placeholder tensor 'Placeholder/_1' with dtype int64 and shape [37555]\n",
      "\t [[{{node Placeholder/_1}}]]\n"
     ]
    }
   ],
   "source": [
    "for X_tr,y_tr in dataset_train.take(1):\n",
    "    print(\"type : {} \\n\".format(type(X_tr)))\n",
    "    print(\"Input Shape (batch_size,sequence length) : {} \\n\".format(X_tr.shape))"
   ]
  },
  {
   "cell_type": "code",
   "execution_count": 302,
   "metadata": {},
   "outputs": [
    {
     "data": {
      "text/plain": [
       "<tf.Tensor: shape=(512, 99), dtype=int32, numpy=\n",
       "array([[ 6,  1, 14, ...,  0,  0,  0],\n",
       "       [ 8,  5,  1, ...,  0,  0,  0],\n",
       "       [ 6,  1, 24, ...,  0,  0,  0],\n",
       "       ...,\n",
       "       [ 7,  6, 16, ...,  0,  0,  0],\n",
       "       [20, 13,  3, ...,  0,  0,  0],\n",
       "       [18,  2, 11, ...,  0,  0,  0]], dtype=int32)>"
      ]
     },
     "execution_count": 302,
     "metadata": {},
     "output_type": "execute_result"
    }
   ],
   "source": [
    "# Look at a single example\n",
    "X_tr"
   ]
  },
  {
   "cell_type": "code",
   "execution_count": 303,
   "metadata": {},
   "outputs": [
    {
     "name": "stdout",
     "output_type": "stream",
     "text": [
      "<class 'dict'>\n"
     ]
    },
    {
     "data": {
      "text/plain": [
       "'i   c a n t   w a i t   t i l l   s l a v e r y   b e c o m e s   p o p u l a r   a g a i n'"
      ]
     },
     "execution_count": 303,
     "metadata": {},
     "output_type": "execute_result"
    }
   ],
   "source": [
    "# Index to word mapping\n",
    "\n",
    "# Your code here\n",
    "index_2_word = {v:k for k,v in tokenizer.word_index.items()}\n",
    "print(type(tokenizer.word_index))\n",
    "# Reconstruct the sentence using tokens\n",
    "''.join([index_2_word[i] for i in X_tr[0].numpy() if i!=0])"
   ]
  },
  {
   "cell_type": "code",
   "execution_count": 304,
   "metadata": {},
   "outputs": [
    {
     "name": "stderr",
     "output_type": "stream",
     "text": [
      "2023-07-02 22:32:04.405588: I tensorflow/core/common_runtime/executor.cc:1197] [/device:CPU:0] (DEBUG INFO) Executor start aborting (this does not indicate an error and you can ignore this message): INVALID_ARGUMENT: You must feed a value for placeholder tensor 'Placeholder/_1' with dtype int64 and shape [37555]\n",
      "\t [[{{node Placeholder/_1}}]]\n",
      "2023-07-02 22:32:04.405949: I tensorflow/core/common_runtime/executor.cc:1197] [/device:CPU:0] (DEBUG INFO) Executor start aborting (this does not indicate an error and you can ignore this message): INVALID_ARGUMENT: You must feed a value for placeholder tensor 'Placeholder/_0' with dtype variant and shape [37555]\n",
      "\t [[{{node Placeholder/_0}}]]\n"
     ]
    },
    {
     "data": {
      "text/plain": [
       "Counter({99: 69, 98: 5})"
      ]
     },
     "execution_count": 304,
     "metadata": {},
     "output_type": "execute_result"
    }
   ],
   "source": [
    "# Checking sequence length counts across batches\n",
    "seq_len = []\n",
    "for X_tr, y_tr in dataset_train.as_numpy_iterator():\n",
    "  seq_len.append(X_tr.shape[1])\n",
    "\n",
    "# Checking the count of seq lengths\n",
    "Counter(seq_len)"
   ]
  },
  {
   "attachments": {},
   "cell_type": "markdown",
   "metadata": {},
   "source": [
    "## Defining the model and training"
   ]
  },
  {
   "attachments": {},
   "cell_type": "markdown",
   "metadata": {},
   "source": [
    "* Build a GRU model"
   ]
  },
  {
   "cell_type": "code",
   "execution_count": 305,
   "metadata": {},
   "outputs": [
    {
     "name": "stdout",
     "output_type": "stream",
     "text": [
      "Epoch 1/5\n",
      "74/74 [==============================] - 10s 84ms/step - loss: 0.6888 - accuracy: 0.5442\n",
      "Epoch 2/5\n",
      "74/74 [==============================] - 6s 86ms/step - loss: 0.6875 - accuracy: 0.5458\n",
      "Epoch 3/5\n",
      "74/74 [==============================] - 7s 90ms/step - loss: 0.6867 - accuracy: 0.5506\n",
      "Epoch 4/5\n",
      "74/74 [==============================] - 7s 92ms/step - loss: 0.6863 - accuracy: 0.5491\n",
      "Epoch 5/5\n",
      "74/74 [==============================] - 6s 84ms/step - loss: 0.6860 - accuracy: 0.5500\n"
     ]
    }
   ],
   "source": [
    "# Build a GRU model\n",
    "# Your code here\n",
    "model_GRU = tf.keras.Sequential()\n",
    "model_GRU.add(tf.keras.layers.Embedding(input_dim=100, output_dim=32, mask_zero=True))\n",
    "model_GRU.add(tf.keras.layers.GRU(32))\n",
    "model_GRU.add(tf.keras.layers.Dense(1, activation='sigmoid'))\n",
    "#loss function and optimizer\n",
    "model_GRU.compile(loss='binary_crossentropy', optimizer='adam', metrics=['accuracy'])\n",
    "history_GRU = model_GRU.fit(dataset_train, epochs=5)"
   ]
  },
  {
   "attachments": {},
   "cell_type": "markdown",
   "metadata": {},
   "source": [
    "* Build a CNN + Deep, BiDirectional GRU Model\n",
    "\n",
    "CNNs are good at learning spatial features, and sentences can be thought of as 1-D spatial vectors (dimensionality is determined by the number of words in the sentence). We can then take the features learned by the CNN (after a maxpooling layer) and feed them into an GRU! We expect the CNN to be able to pick out invariant features across the 1-D spatial structure (i.e., sentence) that characterize good and bad sentiment. This learned spatial features may then be learned as sequences by a reccurent layer. The classification step is then performed by a final dense layer."
   ]
  },
  {
   "cell_type": "code",
   "execution_count": 306,
   "metadata": {},
   "outputs": [
    {
     "name": "stdout",
     "output_type": "stream",
     "text": [
      "Epoch 1/5\n"
     ]
    },
    {
     "name": "stderr",
     "output_type": "stream",
     "text": [
      "2023-07-02 22:32:41.410858: I tensorflow/core/common_runtime/executor.cc:1197] [/device:CPU:0] (DEBUG INFO) Executor start aborting (this does not indicate an error and you can ignore this message): INVALID_ARGUMENT: You must feed a value for placeholder tensor 'gradients/split_2_grad/concat/split_2/split_dim' with dtype int32\n",
      "\t [[{{node gradients/split_2_grad/concat/split_2/split_dim}}]]\n",
      "2023-07-02 22:32:41.412326: I tensorflow/core/common_runtime/executor.cc:1197] [/device:CPU:0] (DEBUG INFO) Executor start aborting (this does not indicate an error and you can ignore this message): INVALID_ARGUMENT: You must feed a value for placeholder tensor 'gradients/split_grad/concat/split/split_dim' with dtype int32\n",
      "\t [[{{node gradients/split_grad/concat/split/split_dim}}]]\n",
      "2023-07-02 22:32:41.413917: I tensorflow/core/common_runtime/executor.cc:1197] [/device:CPU:0] (DEBUG INFO) Executor start aborting (this does not indicate an error and you can ignore this message): INVALID_ARGUMENT: You must feed a value for placeholder tensor 'gradients/split_1_grad/concat/split_1/split_dim' with dtype int32\n",
      "\t [[{{node gradients/split_1_grad/concat/split_1/split_dim}}]]\n",
      "2023-07-02 22:32:41.535413: I tensorflow/core/common_runtime/executor.cc:1197] [/device:CPU:0] (DEBUG INFO) Executor start aborting (this does not indicate an error and you can ignore this message): INVALID_ARGUMENT: You must feed a value for placeholder tensor 'gradients/ReverseV2_grad/ReverseV2/ReverseV2/axis' with dtype int32 and shape [1]\n",
      "\t [[{{node gradients/ReverseV2_grad/ReverseV2/ReverseV2/axis}}]]\n",
      "2023-07-02 22:32:41.568969: I tensorflow/core/common_runtime/executor.cc:1197] [/device:CPU:0] (DEBUG INFO) Executor start aborting (this does not indicate an error and you can ignore this message): INVALID_ARGUMENT: You must feed a value for placeholder tensor 'gradients/split_2_grad/concat/split_2/split_dim' with dtype int32\n",
      "\t [[{{node gradients/split_2_grad/concat/split_2/split_dim}}]]\n",
      "2023-07-02 22:32:41.569831: I tensorflow/core/common_runtime/executor.cc:1197] [/device:CPU:0] (DEBUG INFO) Executor start aborting (this does not indicate an error and you can ignore this message): INVALID_ARGUMENT: You must feed a value for placeholder tensor 'gradients/split_grad/concat/split/split_dim' with dtype int32\n",
      "\t [[{{node gradients/split_grad/concat/split/split_dim}}]]\n",
      "2023-07-02 22:32:41.570928: I tensorflow/core/common_runtime/executor.cc:1197] [/device:CPU:0] (DEBUG INFO) Executor start aborting (this does not indicate an error and you can ignore this message): INVALID_ARGUMENT: You must feed a value for placeholder tensor 'gradients/split_1_grad/concat/split_1/split_dim' with dtype int32\n",
      "\t [[{{node gradients/split_1_grad/concat/split_1/split_dim}}]]\n",
      "2023-07-02 22:32:41.778737: I tensorflow/core/common_runtime/executor.cc:1197] [/device:CPU:0] (DEBUG INFO) Executor start aborting (this does not indicate an error and you can ignore this message): INVALID_ARGUMENT: You must feed a value for placeholder tensor 'gradients/split_2_grad/concat/split_2/split_dim' with dtype int32\n",
      "\t [[{{node gradients/split_2_grad/concat/split_2/split_dim}}]]\n",
      "2023-07-02 22:32:41.780855: I tensorflow/core/common_runtime/executor.cc:1197] [/device:CPU:0] (DEBUG INFO) Executor start aborting (this does not indicate an error and you can ignore this message): INVALID_ARGUMENT: You must feed a value for placeholder tensor 'gradients/split_grad/concat/split/split_dim' with dtype int32\n",
      "\t [[{{node gradients/split_grad/concat/split/split_dim}}]]\n",
      "2023-07-02 22:32:41.782089: I tensorflow/core/common_runtime/executor.cc:1197] [/device:CPU:0] (DEBUG INFO) Executor start aborting (this does not indicate an error and you can ignore this message): INVALID_ARGUMENT: You must feed a value for placeholder tensor 'gradients/split_1_grad/concat/split_1/split_dim' with dtype int32\n",
      "\t [[{{node gradients/split_1_grad/concat/split_1/split_dim}}]]\n",
      "2023-07-02 22:32:41.916451: I tensorflow/core/common_runtime/executor.cc:1197] [/device:CPU:0] (DEBUG INFO) Executor start aborting (this does not indicate an error and you can ignore this message): INVALID_ARGUMENT: You must feed a value for placeholder tensor 'gradients/ReverseV2_grad/ReverseV2/ReverseV2/axis' with dtype int32 and shape [1]\n",
      "\t [[{{node gradients/ReverseV2_grad/ReverseV2/ReverseV2/axis}}]]\n",
      "2023-07-02 22:32:41.954130: I tensorflow/core/common_runtime/executor.cc:1197] [/device:CPU:0] (DEBUG INFO) Executor start aborting (this does not indicate an error and you can ignore this message): INVALID_ARGUMENT: You must feed a value for placeholder tensor 'gradients/split_2_grad/concat/split_2/split_dim' with dtype int32\n",
      "\t [[{{node gradients/split_2_grad/concat/split_2/split_dim}}]]\n",
      "2023-07-02 22:32:41.955285: I tensorflow/core/common_runtime/executor.cc:1197] [/device:CPU:0] (DEBUG INFO) Executor start aborting (this does not indicate an error and you can ignore this message): INVALID_ARGUMENT: You must feed a value for placeholder tensor 'gradients/split_grad/concat/split/split_dim' with dtype int32\n",
      "\t [[{{node gradients/split_grad/concat/split/split_dim}}]]\n",
      "2023-07-02 22:32:41.956338: I tensorflow/core/common_runtime/executor.cc:1197] [/device:CPU:0] (DEBUG INFO) Executor start aborting (this does not indicate an error and you can ignore this message): INVALID_ARGUMENT: You must feed a value for placeholder tensor 'gradients/split_1_grad/concat/split_1/split_dim' with dtype int32\n",
      "\t [[{{node gradients/split_1_grad/concat/split_1/split_dim}}]]\n",
      "2023-07-02 22:32:42.505048: I tensorflow/core/common_runtime/executor.cc:1197] [/device:CPU:0] (DEBUG INFO) Executor start aborting (this does not indicate an error and you can ignore this message): INVALID_ARGUMENT: You must feed a value for placeholder tensor 'gradients/ReverseV2_grad/ReverseV2/ReverseV2/axis' with dtype int32 and shape [1]\n",
      "\t [[{{node gradients/ReverseV2_grad/ReverseV2/ReverseV2/axis}}]]\n",
      "2023-07-02 22:32:43.449483: I tensorflow/core/common_runtime/executor.cc:1197] [/device:CPU:0] (DEBUG INFO) Executor start aborting (this does not indicate an error and you can ignore this message): INVALID_ARGUMENT: You must feed a value for placeholder tensor 'gradients/split_2_grad/concat/split_2/split_dim' with dtype int32\n",
      "\t [[{{node gradients/split_2_grad/concat/split_2/split_dim}}]]\n",
      "2023-07-02 22:32:43.451340: I tensorflow/core/common_runtime/executor.cc:1197] [/device:CPU:0] (DEBUG INFO) Executor start aborting (this does not indicate an error and you can ignore this message): INVALID_ARGUMENT: You must feed a value for placeholder tensor 'gradients/split_grad/concat/split/split_dim' with dtype int32\n",
      "\t [[{{node gradients/split_grad/concat/split/split_dim}}]]\n",
      "2023-07-02 22:32:43.452751: I tensorflow/core/common_runtime/executor.cc:1197] [/device:CPU:0] (DEBUG INFO) Executor start aborting (this does not indicate an error and you can ignore this message): INVALID_ARGUMENT: You must feed a value for placeholder tensor 'gradients/split_1_grad/concat/split_1/split_dim' with dtype int32\n",
      "\t [[{{node gradients/split_1_grad/concat/split_1/split_dim}}]]\n",
      "2023-07-02 22:32:43.587540: I tensorflow/core/common_runtime/executor.cc:1197] [/device:CPU:0] (DEBUG INFO) Executor start aborting (this does not indicate an error and you can ignore this message): INVALID_ARGUMENT: You must feed a value for placeholder tensor 'gradients/ReverseV2_grad/ReverseV2/ReverseV2/axis' with dtype int32 and shape [1]\n",
      "\t [[{{node gradients/ReverseV2_grad/ReverseV2/ReverseV2/axis}}]]\n",
      "2023-07-02 22:32:43.626285: I tensorflow/core/common_runtime/executor.cc:1197] [/device:CPU:0] (DEBUG INFO) Executor start aborting (this does not indicate an error and you can ignore this message): INVALID_ARGUMENT: You must feed a value for placeholder tensor 'gradients/split_2_grad/concat/split_2/split_dim' with dtype int32\n",
      "\t [[{{node gradients/split_2_grad/concat/split_2/split_dim}}]]\n",
      "2023-07-02 22:32:43.628464: I tensorflow/core/common_runtime/executor.cc:1197] [/device:CPU:0] (DEBUG INFO) Executor start aborting (this does not indicate an error and you can ignore this message): INVALID_ARGUMENT: You must feed a value for placeholder tensor 'gradients/split_grad/concat/split/split_dim' with dtype int32\n",
      "\t [[{{node gradients/split_grad/concat/split/split_dim}}]]\n",
      "2023-07-02 22:32:43.629696: I tensorflow/core/common_runtime/executor.cc:1197] [/device:CPU:0] (DEBUG INFO) Executor start aborting (this does not indicate an error and you can ignore this message): INVALID_ARGUMENT: You must feed a value for placeholder tensor 'gradients/split_1_grad/concat/split_1/split_dim' with dtype int32\n",
      "\t [[{{node gradients/split_1_grad/concat/split_1/split_dim}}]]\n",
      "2023-07-02 22:32:44.198055: I tensorflow/core/common_runtime/executor.cc:1197] [/device:CPU:0] (DEBUG INFO) Executor start aborting (this does not indicate an error and you can ignore this message): INVALID_ARGUMENT: You must feed a value for placeholder tensor 'gradients/ReverseV2_grad/ReverseV2/ReverseV2/axis' with dtype int32 and shape [1]\n",
      "\t [[{{node gradients/ReverseV2_grad/ReverseV2/ReverseV2/axis}}]]\n"
     ]
    },
    {
     "name": "stdout",
     "output_type": "stream",
     "text": [
      "74/74 [==============================] - 9s 67ms/step - loss: 0.6782 - accuracy: 0.5551\n",
      "Epoch 2/5\n",
      "74/74 [==============================] - 6s 74ms/step - loss: 0.6479 - accuracy: 0.6048\n",
      "Epoch 3/5\n",
      "74/74 [==============================] - 5s 65ms/step - loss: 0.6363 - accuracy: 0.6200\n",
      "Epoch 4/5\n",
      "74/74 [==============================] - 5s 61ms/step - loss: 0.6299 - accuracy: 0.6315\n",
      "Epoch 5/5\n",
      "74/74 [==============================] - 5s 61ms/step - loss: 0.6266 - accuracy: 0.6390\n"
     ]
    }
   ],
   "source": [
    "# Build a CNN+DEEP, Birdirectional GRU model\n",
    "# Your code here\n",
    "model_CNN = tf.keras.Sequential()\n",
    "model_CNN.add(tf.keras.layers.Embedding(input_dim=100, output_dim=32, mask_zero=True))\n",
    "model_CNN.add(tf.keras.layers.Conv1D(32, 3, activation='relu'))\n",
    "model_CNN.add(tf.keras.layers.MaxPooling1D(3))\n",
    "model_CNN.add(tf.keras.layers.Bidirectional(tf.keras.layers.GRU(32)))\n",
    "model_CNN.add(tf.keras.layers.Dense(1, activation='sigmoid'))\n",
    "#loss function and optimizer\n",
    "model_CNN.compile(loss='binary_crossentropy', optimizer='adam', metrics=['accuracy'])\n",
    "history_CNN = model_CNN.fit(dataset_train, epochs=5)"
   ]
  },
  {
   "attachments": {},
   "cell_type": "markdown",
   "metadata": {},
   "source": [
    "## Evaluating the model"
   ]
  },
  {
   "attachments": {},
   "cell_type": "markdown",
   "metadata": {},
   "source": [
    "* Predict on the test data using the model trained above.\n",
    "* Print the classification report to get the precision, recall and other metrics.\n",
    "* Write down 5 sarcastic sentences yourself and use the model to predict if these sentences are sarcastic or not. Print out the probability of that sentence being sarcastic."
   ]
  },
  {
   "cell_type": "code",
   "execution_count": 307,
   "metadata": {},
   "outputs": [
    {
     "name": "stdout",
     "output_type": "stream",
     "text": [
      "297/297 [==============================] - 3s 6ms/step\n"
     ]
    },
    {
     "name": "stderr",
     "output_type": "stream",
     "text": [
      "2023-07-02 22:33:12.824462: I tensorflow/core/common_runtime/executor.cc:1197] [/device:CPU:0] (DEBUG INFO) Executor start aborting (this does not indicate an error and you can ignore this message): INVALID_ARGUMENT: You must feed a value for placeholder tensor 'gradients/split_2_grad/concat/split_2/split_dim' with dtype int32\n",
      "\t [[{{node gradients/split_2_grad/concat/split_2/split_dim}}]]\n",
      "2023-07-02 22:33:12.827098: I tensorflow/core/common_runtime/executor.cc:1197] [/device:CPU:0] (DEBUG INFO) Executor start aborting (this does not indicate an error and you can ignore this message): INVALID_ARGUMENT: You must feed a value for placeholder tensor 'gradients/split_grad/concat/split/split_dim' with dtype int32\n",
      "\t [[{{node gradients/split_grad/concat/split/split_dim}}]]\n",
      "2023-07-02 22:33:12.828301: I tensorflow/core/common_runtime/executor.cc:1197] [/device:CPU:0] (DEBUG INFO) Executor start aborting (this does not indicate an error and you can ignore this message): INVALID_ARGUMENT: You must feed a value for placeholder tensor 'gradients/split_1_grad/concat/split_1/split_dim' with dtype int32\n",
      "\t [[{{node gradients/split_1_grad/concat/split_1/split_dim}}]]\n",
      "2023-07-02 22:33:12.943759: I tensorflow/core/common_runtime/executor.cc:1197] [/device:CPU:0] (DEBUG INFO) Executor start aborting (this does not indicate an error and you can ignore this message): INVALID_ARGUMENT: You must feed a value for placeholder tensor 'gradients/ReverseV2_grad/ReverseV2/ReverseV2/axis' with dtype int32 and shape [1]\n",
      "\t [[{{node gradients/ReverseV2_grad/ReverseV2/ReverseV2/axis}}]]\n",
      "2023-07-02 22:33:12.983337: I tensorflow/core/common_runtime/executor.cc:1197] [/device:CPU:0] (DEBUG INFO) Executor start aborting (this does not indicate an error and you can ignore this message): INVALID_ARGUMENT: You must feed a value for placeholder tensor 'gradients/split_2_grad/concat/split_2/split_dim' with dtype int32\n",
      "\t [[{{node gradients/split_2_grad/concat/split_2/split_dim}}]]\n",
      "2023-07-02 22:33:12.984734: I tensorflow/core/common_runtime/executor.cc:1197] [/device:CPU:0] (DEBUG INFO) Executor start aborting (this does not indicate an error and you can ignore this message): INVALID_ARGUMENT: You must feed a value for placeholder tensor 'gradients/split_grad/concat/split/split_dim' with dtype int32\n",
      "\t [[{{node gradients/split_grad/concat/split/split_dim}}]]\n",
      "2023-07-02 22:33:12.986000: I tensorflow/core/common_runtime/executor.cc:1197] [/device:CPU:0] (DEBUG INFO) Executor start aborting (this does not indicate an error and you can ignore this message): INVALID_ARGUMENT: You must feed a value for placeholder tensor 'gradients/split_1_grad/concat/split_1/split_dim' with dtype int32\n",
      "\t [[{{node gradients/split_1_grad/concat/split_1/split_dim}}]]\n"
     ]
    },
    {
     "name": "stdout",
     "output_type": "stream",
     "text": [
      "297/297 [==============================] - 1s 3ms/step\n"
     ]
    }
   ],
   "source": [
    "# Predict on the test set\n",
    "\n",
    "# Your code here\n",
    "y_pred_GRU = model_GRU.predict(ragged_test.to_tensor(default_value=0, shape=[None, None]))\n",
    "y_pred_CNN = model_CNN.predict(ragged_test.to_tensor(default_value=0, shape=[None, None]))"
   ]
  },
  {
   "cell_type": "code",
   "execution_count": 308,
   "metadata": {},
   "outputs": [],
   "source": [
    "pred = np.where(y_pred_GRU > 0.5, 1, 0)"
   ]
  },
  {
   "cell_type": "code",
   "execution_count": 309,
   "metadata": {},
   "outputs": [
    {
     "name": "stdout",
     "output_type": "stream",
     "text": [
      "              precision    recall  f1-score   support\n",
      "\n",
      "           0       0.54      0.11      0.18      4423\n",
      "           1       0.54      0.92      0.68      5073\n",
      "\n",
      "    accuracy                           0.54      9496\n",
      "   macro avg       0.54      0.51      0.43      9496\n",
      "weighted avg       0.54      0.54      0.45      9496\n",
      "\n"
     ]
    }
   ],
   "source": [
    "# Print the classification report comparing the true labels and the predicted ones\n",
    "print(classification_report(label_test, pred))"
   ]
  },
  {
   "cell_type": "code",
   "execution_count": 310,
   "metadata": {},
   "outputs": [
    {
     "name": "stdout",
     "output_type": "stream",
     "text": [
      "<class 'numpy.ndarray'>\n"
     ]
    }
   ],
   "source": [
    "pred = np.where(y_pred_CNN > 0.5, 1, 0)\n",
    "print(type(y_pred_CNN))"
   ]
  },
  {
   "cell_type": "code",
   "execution_count": 311,
   "metadata": {},
   "outputs": [
    {
     "name": "stdout",
     "output_type": "stream",
     "text": [
      "              precision    recall  f1-score   support\n",
      "\n",
      "           0       0.63      0.56      0.59      4423\n",
      "           1       0.65      0.71      0.68      5073\n",
      "\n",
      "    accuracy                           0.64      9496\n",
      "   macro avg       0.64      0.64      0.64      9496\n",
      "weighted avg       0.64      0.64      0.64      9496\n",
      "\n"
     ]
    }
   ],
   "source": [
    "print(classification_report(label_test, pred))"
   ]
  },
  {
   "cell_type": "code",
   "execution_count": 312,
   "metadata": {},
   "outputs": [
    {
     "name": "stdout",
     "output_type": "stream",
     "text": [
      "297/297 [==============================] - 3s 7ms/step - loss: 0.6880 - accuracy: 0.5420\n",
      "[0.6880199313163757, 0.5420176982879639]\n"
     ]
    }
   ],
   "source": [
    "eval_GRU = model_GRU.evaluate(ragged_test.to_tensor(default_value=0, shape=[None, None]), label_test)\n",
    "print(eval_GRU)"
   ]
  },
  {
   "cell_type": "code",
   "execution_count": 313,
   "metadata": {},
   "outputs": [
    {
     "ename": "ValueError",
     "evalue": "Can't convert non-rectangular Python sequence to Tensor.",
     "output_type": "error",
     "traceback": [
      "\u001b[0;31m---------------------------------------------------------------------------\u001b[0m",
      "\u001b[0;31mValueError\u001b[0m                                Traceback (most recent call last)",
      "\u001b[0;32m/var/folders/dp/m3tcrtn96xs17l0rtk490mg00000gn/T/ipykernel_5027/1621999738.py\u001b[0m in \u001b[0;36m<module>\u001b[0;34m\u001b[0m\n\u001b[1;32m      6\u001b[0m \u001b[0;34m\u001b[0m\u001b[0m\n\u001b[1;32m      7\u001b[0m \u001b[0msentence\u001b[0m \u001b[0;34m=\u001b[0m \u001b[0;34m'This is just for testing the sarcasm, does it sound funny'\u001b[0m\u001b[0;34m\u001b[0m\u001b[0;34m\u001b[0m\u001b[0m\n\u001b[0;32m----> 8\u001b[0;31m \u001b[0mtokenized_sentence\u001b[0m \u001b[0;34m=\u001b[0m \u001b[0mprocess_sentence\u001b[0m\u001b[0;34m(\u001b[0m\u001b[0msentence\u001b[0m\u001b[0;34m)\u001b[0m\u001b[0;34m\u001b[0m\u001b[0;34m\u001b[0m\u001b[0m\n\u001b[0m",
      "\u001b[0;32m/var/folders/dp/m3tcrtn96xs17l0rtk490mg00000gn/T/ipykernel_5027/1621999738.py\u001b[0m in \u001b[0;36mprocess_sentence\u001b[0;34m(sentence)\u001b[0m\n\u001b[1;32m      1\u001b[0m \u001b[0;32mdef\u001b[0m \u001b[0mprocess_sentence\u001b[0m\u001b[0;34m(\u001b[0m\u001b[0msentence\u001b[0m\u001b[0;34m)\u001b[0m\u001b[0;34m:\u001b[0m\u001b[0;34m\u001b[0m\u001b[0;34m\u001b[0m\u001b[0m\n\u001b[0;32m----> 2\u001b[0;31m     \u001b[0mprocessed_sentence\u001b[0m \u001b[0;34m=\u001b[0m \u001b[0mtf\u001b[0m\u001b[0;34m.\u001b[0m\u001b[0mexpand_dims\u001b[0m\u001b[0;34m(\u001b[0m\u001b[0mtf\u001b[0m\u001b[0;34m.\u001b[0m\u001b[0mconvert_to_tensor\u001b[0m\u001b[0;34m(\u001b[0m\u001b[0mtokenizer\u001b[0m\u001b[0;34m.\u001b[0m\u001b[0mtexts_to_sequences\u001b[0m\u001b[0;34m(\u001b[0m\u001b[0msentence\u001b[0m\u001b[0;34m)\u001b[0m\u001b[0;34m)\u001b[0m\u001b[0;34m,\u001b[0m\u001b[0maxis\u001b[0m\u001b[0;34m=\u001b[0m\u001b[0;36m0\u001b[0m\u001b[0;34m)\u001b[0m\u001b[0;34m\u001b[0m\u001b[0;34m\u001b[0m\u001b[0m\n\u001b[0m\u001b[1;32m      3\u001b[0m     \u001b[0mprint\u001b[0m\u001b[0;34m(\u001b[0m\u001b[0;34m'Shape of tokenized sentence:'\u001b[0m\u001b[0;34m,\u001b[0m \u001b[0;34m(\u001b[0m\u001b[0mprocessed_sentence\u001b[0m\u001b[0;34m.\u001b[0m\u001b[0mshape\u001b[0m\u001b[0;34m)\u001b[0m\u001b[0;34m)\u001b[0m\u001b[0;34m\u001b[0m\u001b[0;34m\u001b[0m\u001b[0m\n\u001b[1;32m      4\u001b[0m     \u001b[0mprint\u001b[0m\u001b[0;34m(\u001b[0m\u001b[0;34m'Tokenized sentence'\u001b[0m\u001b[0;34m,\u001b[0m \u001b[0mprocessed_sentence\u001b[0m\u001b[0;34m)\u001b[0m\u001b[0;34m\u001b[0m\u001b[0;34m\u001b[0m\u001b[0m\n\u001b[1;32m      5\u001b[0m     \u001b[0;32mreturn\u001b[0m \u001b[0mprocessed_sentence\u001b[0m\u001b[0;34m\u001b[0m\u001b[0;34m\u001b[0m\u001b[0m\n",
      "\u001b[0;32m~/opt/anaconda3/lib/python3.9/site-packages/tensorflow/python/util/traceback_utils.py\u001b[0m in \u001b[0;36merror_handler\u001b[0;34m(*args, **kwargs)\u001b[0m\n\u001b[1;32m    151\u001b[0m     \u001b[0;32mexcept\u001b[0m \u001b[0mException\u001b[0m \u001b[0;32mas\u001b[0m \u001b[0me\u001b[0m\u001b[0;34m:\u001b[0m\u001b[0;34m\u001b[0m\u001b[0;34m\u001b[0m\u001b[0m\n\u001b[1;32m    152\u001b[0m       \u001b[0mfiltered_tb\u001b[0m \u001b[0;34m=\u001b[0m \u001b[0m_process_traceback_frames\u001b[0m\u001b[0;34m(\u001b[0m\u001b[0me\u001b[0m\u001b[0;34m.\u001b[0m\u001b[0m__traceback__\u001b[0m\u001b[0;34m)\u001b[0m\u001b[0;34m\u001b[0m\u001b[0;34m\u001b[0m\u001b[0m\n\u001b[0;32m--> 153\u001b[0;31m       \u001b[0;32mraise\u001b[0m \u001b[0me\u001b[0m\u001b[0;34m.\u001b[0m\u001b[0mwith_traceback\u001b[0m\u001b[0;34m(\u001b[0m\u001b[0mfiltered_tb\u001b[0m\u001b[0;34m)\u001b[0m \u001b[0;32mfrom\u001b[0m \u001b[0;32mNone\u001b[0m\u001b[0;34m\u001b[0m\u001b[0;34m\u001b[0m\u001b[0m\n\u001b[0m\u001b[1;32m    154\u001b[0m     \u001b[0;32mfinally\u001b[0m\u001b[0;34m:\u001b[0m\u001b[0;34m\u001b[0m\u001b[0;34m\u001b[0m\u001b[0m\n\u001b[1;32m    155\u001b[0m       \u001b[0;32mdel\u001b[0m \u001b[0mfiltered_tb\u001b[0m\u001b[0;34m\u001b[0m\u001b[0;34m\u001b[0m\u001b[0m\n",
      "\u001b[0;32m~/opt/anaconda3/lib/python3.9/site-packages/tensorflow/python/framework/constant_op.py\u001b[0m in \u001b[0;36mconvert_to_eager_tensor\u001b[0;34m(value, ctx, dtype)\u001b[0m\n\u001b[1;32m    101\u001b[0m       \u001b[0mdtype\u001b[0m \u001b[0;34m=\u001b[0m \u001b[0mdtypes\u001b[0m\u001b[0;34m.\u001b[0m\u001b[0mas_dtype\u001b[0m\u001b[0;34m(\u001b[0m\u001b[0mdtype\u001b[0m\u001b[0;34m)\u001b[0m\u001b[0;34m.\u001b[0m\u001b[0mas_datatype_enum\u001b[0m\u001b[0;34m\u001b[0m\u001b[0;34m\u001b[0m\u001b[0m\n\u001b[1;32m    102\u001b[0m   \u001b[0mctx\u001b[0m\u001b[0;34m.\u001b[0m\u001b[0mensure_initialized\u001b[0m\u001b[0;34m(\u001b[0m\u001b[0;34m)\u001b[0m\u001b[0;34m\u001b[0m\u001b[0;34m\u001b[0m\u001b[0m\n\u001b[0;32m--> 103\u001b[0;31m   \u001b[0;32mreturn\u001b[0m \u001b[0mops\u001b[0m\u001b[0;34m.\u001b[0m\u001b[0mEagerTensor\u001b[0m\u001b[0;34m(\u001b[0m\u001b[0mvalue\u001b[0m\u001b[0;34m,\u001b[0m \u001b[0mctx\u001b[0m\u001b[0;34m.\u001b[0m\u001b[0mdevice_name\u001b[0m\u001b[0;34m,\u001b[0m \u001b[0mdtype\u001b[0m\u001b[0;34m)\u001b[0m\u001b[0;34m\u001b[0m\u001b[0;34m\u001b[0m\u001b[0m\n\u001b[0m\u001b[1;32m    104\u001b[0m \u001b[0;34m\u001b[0m\u001b[0m\n\u001b[1;32m    105\u001b[0m \u001b[0;34m\u001b[0m\u001b[0m\n",
      "\u001b[0;31mValueError\u001b[0m: Can't convert non-rectangular Python sequence to Tensor."
     ]
    }
   ],
   "source": [
    "def process_sentence(sentence):\n",
    "    processed_sentence = tf.expand_dims(tf.convert_to_tensor(tokenizer.texts_to_sequences(sentence)),axis=0)\n",
    "    print('Shape of tokenized sentence:', (processed_sentence.shape))\n",
    "    print('Tokenized sentence', processed_sentence)\n",
    "    return processed_sentence\n",
    "\n",
    "sentence = 'This is just for testing the sarcasm, does it sound funny'\n",
    "tokenized_sentence = process_sentence(sentence)"
   ]
  },
  {
   "cell_type": "code",
   "execution_count": null,
   "metadata": {},
   "outputs": [],
   "source": [
    "# Predict sarcasm probabililty with the sentence\n",
    "\n",
    "# Your code here"
   ]
  }
 ],
 "metadata": {
  "kernelspec": {
   "display_name": "base",
   "language": "python",
   "name": "python3"
  },
  "language_info": {
   "codemirror_mode": {
    "name": "ipython",
    "version": 3
   },
   "file_extension": ".py",
   "mimetype": "text/x-python",
   "name": "python",
   "nbconvert_exporter": "python",
   "pygments_lexer": "ipython3",
   "version": "3.9.13"
  },
  "orig_nbformat": 4,
  "vscode": {
   "interpreter": {
    "hash": "57bcbe5809de2296bb7b1082e4de808642928c9f1fe31f73bfe7fb1e695a281f"
   }
  }
 },
 "nbformat": 4,
 "nbformat_minor": 2
}
