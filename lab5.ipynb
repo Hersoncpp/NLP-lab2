{
 "cells": [
  {
   "cell_type": "code",
   "execution_count": 65,
   "metadata": {},
   "outputs": [],
   "source": [
    "import matplotlib.pyplot as plt\n",
    "import tensorflow as tf\n",
    "from tensorflow import keras\n",
    "import numpy as np\n",
    "from keras.models import Model, Sequential\n",
    "from keras.layers import Input, Embedding, Conv1D, GRU, LSTM, Dense\n",
    "from keras.layers import TimeDistributed, GlobalMaxPool1D, Concatenate, Add, Lambda"
   ]
  },
  {
   "cell_type": "code",
   "execution_count": 66,
   "metadata": {},
   "outputs": [
    {
     "name": "stderr",
     "output_type": "stream",
     "text": [
      "'gdown' �����ڲ����ⲿ���Ҳ���ǿ����еĳ���\n",
      "���������ļ���\n"
     ]
    }
   ],
   "source": [
    "# Downloading the data\n",
    "!gdown 13eD1w2XOwwMkNFMy9QYk-CourDtx4FZN"
   ]
  },
  {
   "cell_type": "code",
   "execution_count": 67,
   "metadata": {},
   "outputs": [
    {
     "name": "stdout",
     "output_type": "stream",
     "text": [
      "Corpus length: 600893\n"
     ]
    }
   ],
   "source": [
    "# Reading the data\n",
    "path = \"nietzsche.txt\"\n",
    "\n",
    "with open(path, encoding=\"utf-8\") as f:\n",
    "    # convert to lowercase\n",
    "    text = f.read().lower()\n",
    "text = text.replace(\"\\n\", \" \")  # We remove newlines chars for nicer display\n",
    "print(\"Corpus length:\", len(text))"
   ]
  },
  {
   "cell_type": "code",
   "execution_count": 68,
   "metadata": {},
   "outputs": [],
   "source": [
    "# Split corpus on whitespace to get words\n",
    "\n",
    "# Your code here\n",
    "words = text.split()\n",
    "# Vocabulary (all unique words)\n",
    "# Your code here\n",
    "vocab = sorted(set(words))\n",
    "# Length of longest word in vocabulary\n",
    "# Your code here\n",
    "maxlen = max([len(w) for w in vocab])\n",
    "# Word <> Integer Mapping\n",
    "# Your code here\n",
    "word2int = {w: i + 1 for i, w in enumerate(vocab)}\n",
    "idx2word = {i + 1: w for i, w in enumerate(vocab)}"
   ]
  },
  {
   "cell_type": "code",
   "execution_count": 69,
   "metadata": {},
   "outputs": [
    {
     "name": "stdout",
     "output_type": "stream",
     "text": [
      "Vocabulary size: 17682\n",
      "Max length: 28\n"
     ]
    }
   ],
   "source": [
    "print(\"Vocabulary size:\", len(vocab))\n",
    "print(\"Max length:\", maxlen)"
   ]
  },
  {
   "cell_type": "code",
   "execution_count": 70,
   "metadata": {},
   "outputs": [],
   "source": [
    "# Sorted list of all unique chars\n",
    "# Your code here\n",
    "chars = sorted(set(text))"
   ]
  },
  {
   "cell_type": "code",
   "execution_count": 71,
   "metadata": {},
   "outputs": [],
   "source": [
    "# char to integer mappings\n",
    "# Your code here\n",
    "char2int = {c : i + 1 for i, c in enumerate(chars)}\n",
    "idx2char = {i + 1 : c for i, c in enumerate(chars)}"
   ]
  },
  {
   "cell_type": "code",
   "execution_count": 72,
   "metadata": {},
   "outputs": [
    {
     "name": "stdout",
     "output_type": "stream",
     "text": [
      "{' ': 1, '!': 2, '\"': 3, \"'\": 4, '(': 5, ')': 6, ',': 7, '-': 8, '.': 9, '0': 10, '1': 11, '2': 12, '3': 13, '4': 14, '5': 15, '6': 16, '7': 17, '8': 18, '9': 19, ':': 20, ';': 21, '=': 22, '?': 23, '[': 24, ']': 25, '_': 26, 'a': 27, 'b': 28, 'c': 29, 'd': 30, 'e': 31, 'f': 32, 'g': 33, 'h': 34, 'i': 35, 'j': 36, 'k': 37, 'l': 38, 'm': 39, 'n': 40, 'o': 41, 'p': 42, 'q': 43, 'r': 44, 's': 45, 't': 46, 'u': 47, 'v': 48, 'w': 49, 'x': 50, 'y': 51, 'z': 52, 'ä': 53, 'æ': 54, 'é': 55, 'ë': 56}\n",
      "  1\n",
      "! 2\n",
      "\" 3\n",
      "' 4\n",
      "( 5\n",
      ") 6\n",
      ", 7\n",
      "- 8\n",
      ". 9\n",
      "0 10\n",
      "1 11\n",
      "2 12\n",
      "3 13\n",
      "4 14\n",
      "5 15\n",
      "6 16\n",
      "7 17\n",
      "8 18\n",
      "9 19\n",
      ": 20\n",
      "; 21\n",
      "= 22\n",
      "? 23\n",
      "[ 24\n",
      "] 25\n",
      "_ 26\n",
      "a 27\n",
      "b 28\n",
      "c 29\n",
      "d 30\n",
      "e 31\n",
      "f 32\n",
      "g 33\n",
      "h 34\n",
      "i 35\n",
      "j 36\n",
      "k 37\n",
      "l 38\n",
      "m 39\n",
      "n 40\n",
      "o 41\n",
      "p 42\n",
      "q 43\n",
      "r 44\n",
      "s 45\n",
      "t 46\n",
      "u 47\n",
      "v 48\n",
      "w 49\n",
      "x 50\n",
      "y 51\n",
      "z 52\n",
      "ä 53\n",
      "æ 54\n",
      "é 55\n",
      "ë 56\n"
     ]
    }
   ],
   "source": [
    "print(char2int)\n",
    "for i, c in enumerate(chars):\n",
    "    print(c, char2int[c])"
   ]
  },
  {
   "cell_type": "code",
   "execution_count": 73,
   "metadata": {},
   "outputs": [],
   "source": [
    "# Create your dataset X and Y\n",
    "# Number of words in a sequnce (sliding window size)\n",
    "SEQ_LEN = 20\n",
    "WORD_LEN = maxlen\n",
    "# Cut the text into sequences of SEQ_LEN words\n",
    "sequences = []\n",
    "for i in range(0, len(words) - SEQ_LEN):\n",
    "    sequences.append(words[i : i + SEQ_LEN])\n",
    "\n",
    "# Encode words as character sequences\n",
    "def word2charseq(word, word_len, char2idx):\n",
    "    # Your code here\n",
    "    seq = [char2idx[c] for c in word]\n",
    "    # Pad with zeros to get fixed length sequences\n",
    "    # Your code here\n",
    "    seq = seq + [0] * (word_len - len(seq))\n",
    "    return seq\n",
    "\n",
    "# Prepare numpy arrays to store input and target sequences\n",
    "# Note the difference in dimensions!\n",
    "X = np.zeros((len(sequences), SEQ_LEN, WORD_LEN), dtype=np.int32)\n",
    "Y = np.zeros((len(sequences), SEQ_LEN), dtype=np.int32)\n",
    "\n",
    "# Populate X and Y\n",
    "# X is sequences of sequences of int encoded characters\n",
    "# Y is squences of int encoded words offset from X by 1 word\n",
    "# Your code here\n",
    "for i, seq in enumerate(sequences):\n",
    "    for j, word in enumerate(seq):\n",
    "        X[i, j] = word2charseq(word, WORD_LEN, char2int)\n",
    "    if i < len(sequences) - 1:\n",
    "        Y[i] = word2charseq(sequences[i + 1], SEQ_LEN, word2int)\n",
    "    else: # 仔细看上边sequence的赋值的时候，最后一组words[i:i+SEQ_LEN]当i = len(words) - SEQ_LEN时 并没有放到sequence里边，被留下来当作Y的最后一组\n",
    "        Y[i] = word2charseq(words[len(words)-SEQ_LEN:], SEQ_LEN, word2int)\n"
   ]
  },
  {
   "cell_type": "code",
   "execution_count": 74,
   "metadata": {},
   "outputs": [
    {
     "data": {
      "text/plain": [
       "['on',\n",
       " 'the',\n",
       " 'part',\n",
       " 'of',\n",
       " 'grammar,',\n",
       " 'or',\n",
       " 'an',\n",
       " 'audacious',\n",
       " 'generalization',\n",
       " 'of',\n",
       " 'very',\n",
       " 'restricted,',\n",
       " 'very',\n",
       " 'personal,',\n",
       " 'very',\n",
       " 'human--all-too-human',\n",
       " 'facts.',\n",
       " 'the',\n",
       " 'philosophy',\n",
       " 'of']"
      ]
     },
     "execution_count": 74,
     "metadata": {},
     "output_type": "execute_result"
    }
   ],
   "source": [
    "sequences[209]"
   ]
  },
  {
   "cell_type": "code",
   "execution_count": 75,
   "metadata": {},
   "outputs": [
    {
     "data": {
      "text/plain": [
       "array([[41, 40,  0,  0,  0,  0,  0,  0,  0,  0,  0,  0,  0,  0,  0,  0,\n",
       "         0,  0,  0,  0,  0,  0,  0,  0,  0,  0,  0,  0],\n",
       "       [46, 34, 31,  0,  0,  0,  0,  0,  0,  0,  0,  0,  0,  0,  0,  0,\n",
       "         0,  0,  0,  0,  0,  0,  0,  0,  0,  0,  0,  0],\n",
       "       [42, 27, 44, 46,  0,  0,  0,  0,  0,  0,  0,  0,  0,  0,  0,  0,\n",
       "         0,  0,  0,  0,  0,  0,  0,  0,  0,  0,  0,  0],\n",
       "       [41, 32,  0,  0,  0,  0,  0,  0,  0,  0,  0,  0,  0,  0,  0,  0,\n",
       "         0,  0,  0,  0,  0,  0,  0,  0,  0,  0,  0,  0],\n",
       "       [33, 44, 27, 39, 39, 27, 44,  7,  0,  0,  0,  0,  0,  0,  0,  0,\n",
       "         0,  0,  0,  0,  0,  0,  0,  0,  0,  0,  0,  0],\n",
       "       [41, 44,  0,  0,  0,  0,  0,  0,  0,  0,  0,  0,  0,  0,  0,  0,\n",
       "         0,  0,  0,  0,  0,  0,  0,  0,  0,  0,  0,  0],\n",
       "       [27, 40,  0,  0,  0,  0,  0,  0,  0,  0,  0,  0,  0,  0,  0,  0,\n",
       "         0,  0,  0,  0,  0,  0,  0,  0,  0,  0,  0,  0],\n",
       "       [27, 47, 30, 27, 29, 35, 41, 47, 45,  0,  0,  0,  0,  0,  0,  0,\n",
       "         0,  0,  0,  0,  0,  0,  0,  0,  0,  0,  0,  0],\n",
       "       [33, 31, 40, 31, 44, 27, 38, 35, 52, 27, 46, 35, 41, 40,  0,  0,\n",
       "         0,  0,  0,  0,  0,  0,  0,  0,  0,  0,  0,  0],\n",
       "       [41, 32,  0,  0,  0,  0,  0,  0,  0,  0,  0,  0,  0,  0,  0,  0,\n",
       "         0,  0,  0,  0,  0,  0,  0,  0,  0,  0,  0,  0],\n",
       "       [48, 31, 44, 51,  0,  0,  0,  0,  0,  0,  0,  0,  0,  0,  0,  0,\n",
       "         0,  0,  0,  0,  0,  0,  0,  0,  0,  0,  0,  0],\n",
       "       [44, 31, 45, 46, 44, 35, 29, 46, 31, 30,  7,  0,  0,  0,  0,  0,\n",
       "         0,  0,  0,  0,  0,  0,  0,  0,  0,  0,  0,  0],\n",
       "       [48, 31, 44, 51,  0,  0,  0,  0,  0,  0,  0,  0,  0,  0,  0,  0,\n",
       "         0,  0,  0,  0,  0,  0,  0,  0,  0,  0,  0,  0],\n",
       "       [42, 31, 44, 45, 41, 40, 27, 38,  7,  0,  0,  0,  0,  0,  0,  0,\n",
       "         0,  0,  0,  0,  0,  0,  0,  0,  0,  0,  0,  0],\n",
       "       [48, 31, 44, 51,  0,  0,  0,  0,  0,  0,  0,  0,  0,  0,  0,  0,\n",
       "         0,  0,  0,  0,  0,  0,  0,  0,  0,  0,  0,  0],\n",
       "       [34, 47, 39, 27, 40,  8,  8, 27, 38, 38,  8, 46, 41, 41,  8, 34,\n",
       "        47, 39, 27, 40,  0,  0,  0,  0,  0,  0,  0,  0],\n",
       "       [32, 27, 29, 46, 45,  9,  0,  0,  0,  0,  0,  0,  0,  0,  0,  0,\n",
       "         0,  0,  0,  0,  0,  0,  0,  0,  0,  0,  0,  0],\n",
       "       [46, 34, 31,  0,  0,  0,  0,  0,  0,  0,  0,  0,  0,  0,  0,  0,\n",
       "         0,  0,  0,  0,  0,  0,  0,  0,  0,  0,  0,  0],\n",
       "       [42, 34, 35, 38, 41, 45, 41, 42, 34, 51,  0,  0,  0,  0,  0,  0,\n",
       "         0,  0,  0,  0,  0,  0,  0,  0,  0,  0,  0,  0],\n",
       "       [41, 32,  0,  0,  0,  0,  0,  0,  0,  0,  0,  0,  0,  0,  0,  0,\n",
       "         0,  0,  0,  0,  0,  0,  0,  0,  0,  0,  0,  0]])"
      ]
     },
     "execution_count": 75,
     "metadata": {},
     "output_type": "execute_result"
    }
   ],
   "source": [
    "# Input Sequence (Numerical)\n",
    "X[209]"
   ]
  },
  {
   "cell_type": "code",
   "execution_count": 76,
   "metadata": {},
   "outputs": [
    {
     "data": {
      "text/plain": [
       "array([15808, 11644, 11201,  7487, 11348,  1986,  2517,  7262, 11201,\n",
       "       16932, 13475, 16932, 11860, 16932,  8190,  6492, 15808, 11965,\n",
       "       11201, 15808])"
      ]
     },
     "execution_count": 76,
     "metadata": {},
     "output_type": "execute_result"
    }
   ],
   "source": [
    "# Target Sequence (Numerical)\n",
    "Y[209]"
   ]
  },
  {
   "cell_type": "code",
   "execution_count": 77,
   "metadata": {},
   "outputs": [
    {
     "data": {
      "text/plain": [
       "['the',\n",
       " 'part',\n",
       " 'of',\n",
       " 'grammar,',\n",
       " 'or',\n",
       " 'an',\n",
       " 'audacious',\n",
       " 'generalization',\n",
       " 'of',\n",
       " 'very',\n",
       " 'restricted,',\n",
       " 'very',\n",
       " 'personal,',\n",
       " 'very',\n",
       " 'human--all-too-human',\n",
       " 'facts.',\n",
       " 'the',\n",
       " 'philosophy',\n",
       " 'of',\n",
       " 'the']"
      ]
     },
     "execution_count": 77,
     "metadata": {},
     "output_type": "execute_result"
    }
   ],
   "source": [
    "# Target Sequence (Text)\n",
    "[idx2word[i] for i in Y[209]]"
   ]
  },
  {
   "cell_type": "code",
   "execution_count": 78,
   "metadata": {},
   "outputs": [],
   "source": [
    "# Create a tensorflow dataset from the input data\n",
    "\n",
    "# Your code here\n",
    "Dataset = tf.data.Dataset.from_tensor_slices((X, Y))\n",
    "# Shuffle and batch the data\n",
    "# Your code here\n",
    "Dataset = Dataset.shuffle(buffer_size=10000)\n",
    "# Batch the dataset\n",
    "batch_size = 128\n",
    "Dataset = Dataset.batch(batch_size=batch_size)\n",
    "#Prefetch the data\n",
    "Dataset = Dataset.prefetch(buffer_size=tf.data.AUTOTUNE)"
   ]
  },
  {
   "cell_type": "code",
   "execution_count": 79,
   "metadata": {},
   "outputs": [],
   "source": [
    "# Define a class that builds the custom layer for the highway network\n",
    "# This will implement the equation presented above\n",
    "\n",
    "class HighwayLayer(tf.keras.layers.Layer):\n",
    "    def __init__(self):\n",
    "        # In init function, we define the parameters of the layer\n",
    "        super(HighwayLayer, self).__init__()\n",
    "        self.supports_masking = True\n",
    "\n",
    "    def build(self, input_shape):  # Create the state of the layer (weights)\n",
    "        # In build function we define the trainable weights of the layer\n",
    "        dim = input_shape[-1]\n",
    "        # T gate initializer\n",
    "        self.T = self.add_weight(shape=(1, dim), initializer='glorot_uniform', trainable=True)\n",
    "        super(HighwayLayer, self).build(input_shape)\n",
    "        \n",
    "\n",
    "    def call(self, z, r): # z, r the same as in the lecture slides on page 75\n",
    "        # In call function we define the forward pass, or how to calculate the output of the layer from the input\n",
    "        return z * self.T + (1 - self.T) * r"
   ]
  },
  {
   "cell_type": "code",
   "execution_count": 83,
   "metadata": {},
   "outputs": [
    {
     "name": "stdout",
     "output_type": "stream",
     "text": [
      "Model: \"Simplified_ELMO\"\n",
      "__________________________________________________________________________________________________\n",
      " Layer (type)                   Output Shape         Param #     Connected to                     \n",
      "==================================================================================================\n",
      " input_9 (InputLayer)           [(None, 20, 28)]     0           []                               \n",
      "                                                                                                  \n",
      " time_distributed_34 (TimeDistr  (None, 20, 28, 64)  3648        ['input_9[0][0]']                \n",
      " ibuted)                                                                                          \n",
      "                                                                                                  \n",
      " time_distributed_35 (TimeDistr  (None, 20, 28, 32)  6176        ['time_distributed_34[0][0]']    \n",
      " ibuted)                                                                                          \n",
      "                                                                                                  \n",
      " time_distributed_36 (TimeDistr  (None, 20, 28, 32)  8224        ['time_distributed_34[0][0]']    \n",
      " ibuted)                                                                                          \n",
      "                                                                                                  \n",
      " time_distributed_37 (TimeDistr  (None, 20, 28, 32)  10272       ['time_distributed_34[0][0]']    \n",
      " ibuted)                                                                                          \n",
      "                                                                                                  \n",
      " time_distributed_38 (TimeDistr  (None, 20, 32)      0           ['time_distributed_35[0][0]']    \n",
      " ibuted)                                                                                          \n",
      "                                                                                                  \n",
      " time_distributed_39 (TimeDistr  (None, 20, 32)      0           ['time_distributed_36[0][0]']    \n",
      " ibuted)                                                                                          \n",
      "                                                                                                  \n",
      " time_distributed_40 (TimeDistr  (None, 20, 32)      0           ['time_distributed_37[0][0]']    \n",
      " ibuted)                                                                                          \n",
      "                                                                                                  \n",
      " concatenate_5 (Concatenate)    (None, 20, 96)       0           ['time_distributed_38[0][0]',    \n",
      "                                                                  'time_distributed_39[0][0]',    \n",
      "                                                                  'time_distributed_40[0][0]']    \n",
      "                                                                                                  \n",
      " z (Dense)                      (None, 20, 96)       9312        ['concatenate_5[0][0]']          \n",
      "                                                                                                  \n",
      " highway_layer_6 (HighwayLayer)  (None, 20, 96)      96          ['z[0][0]',                      \n",
      "                                                                  'concatenate_5[0][0]']          \n",
      "                                                                                                  \n",
      " LSTM (LSTM)                    (None, 20, 64)       41216       ['highway_layer_6[0][0]']        \n",
      "                                                                                                  \n",
      " output (Dense)                 (None, 20, 17683)    1149395     ['LSTM[0][0]']                   \n",
      "                                                                                                  \n",
      "==================================================================================================\n",
      "Total params: 1,228,339\n",
      "Trainable params: 1,228,339\n",
      "Non-trainable params: 0\n",
      "__________________________________________________________________________________________________\n",
      "Epoch 1/10\n",
      "620/620 [==============================] - 27s 40ms/step - loss: 5.6354 - accuracy: 0.1359 - val_loss: 7.8110 - val_accuracy: 0.1272\n",
      "Epoch 2/10\n",
      "620/620 [==============================] - 25s 40ms/step - loss: 4.3367 - accuracy: 0.2032 - val_loss: 8.6160 - val_accuracy: 0.1190\n",
      "Epoch 3/10\n",
      "620/620 [==============================] - 25s 40ms/step - loss: 3.9149 - accuracy: 0.2491 - val_loss: 9.1661 - val_accuracy: 0.1196\n",
      "Epoch 4/10\n",
      "620/620 [==============================] - 25s 40ms/step - loss: 3.6963 - accuracy: 0.2749 - val_loss: 9.6443 - val_accuracy: 0.1110\n",
      "Epoch 5/10\n",
      "620/620 [==============================] - 25s 40ms/step - loss: 3.5545 - accuracy: 0.2931 - val_loss: 10.0766 - val_accuracy: 0.1066\n",
      "Epoch 6/10\n",
      "620/620 [==============================] - 25s 40ms/step - loss: 3.4565 - accuracy: 0.3065 - val_loss: 10.4412 - val_accuracy: 0.1029\n",
      "Epoch 7/10\n",
      "620/620 [==============================] - 25s 40ms/step - loss: 3.3871 - accuracy: 0.3158 - val_loss: 10.7857 - val_accuracy: 0.1052\n",
      "Epoch 8/10\n",
      "620/620 [==============================] - 25s 40ms/step - loss: 3.3316 - accuracy: 0.3240 - val_loss: 11.1015 - val_accuracy: 0.1059\n",
      "Epoch 9/10\n",
      "620/620 [==============================] - 25s 40ms/step - loss: 3.2902 - accuracy: 0.3296 - val_loss: 11.3721 - val_accuracy: 0.1045\n",
      "Epoch 10/10\n",
      "620/620 [==============================] - 24s 39ms/step - loss: 3.2559 - accuracy: 0.3349 - val_loss: 11.6460 - val_accuracy: 0.0996\n"
     ]
    }
   ],
   "source": [
    "EMB_DIM = 64\n",
    "N_FILTERS = 32\n",
    "HIDDEN_DIM = 64\n",
    " # Define simplified ELMO network\n",
    "\n",
    "\n",
    "# Your code here\n",
    "def Simplified_ELMO():\n",
    "    # X = np.zeros((len(sequences), SEQ_LEN, WORD_LEN), dtype=np.int32) 后两项是input_shape\n",
    "    input = Input(shape=(SEQ_LEN, WORD_LEN), dtype='int32')\n",
    "    # input_dim 是词汇表的大小，output_dim 是转化后的embedding的维度，input_length 是输入序列的长度\n",
    "    # input_dim = len(chars) + 1 是因为我们要把0作为padding的字符，所以词汇表的大小要加1\n",
    "    emb = TimeDistributed(Embedding(input_dim=len(chars) + 1, output_dim=EMB_DIM, input_length=WORD_LEN, name=\"emb\"))(input)\n",
    "    # 这里embedding layer之后，input的shape变成了(SEQ_LEN, WORD_LEN, EMB_DIM)\n",
    "    # Use Conv1D layers for character CNNs. \n",
    "    # filters indicates the number of kernels of shape(kernel_size, EMB_DIM) used for the convolution. \n",
    "    conv1 = TimeDistributed(Conv1D(filters=N_FILTERS, kernel_size=(3), padding='same'))(emb)\n",
    "    conv2 = TimeDistributed(Conv1D(filters=N_FILTERS, kernel_size=(4), padding='same'))(emb)\n",
    "    conv3 = TimeDistributed(Conv1D(filters=N_FILTERS, kernel_size=(5), padding='same'))(emb)\n",
    "    # 这里相当于是用两种不同宽度的kernel来做卷积，然后我们后边池化完会把结果拼接起来\n",
    "    # Conv1D layer will output a tensor of shape (SEQ_LEN, WORD_LEN - kernel_size + 1, N_FILTERS)\n",
    "    # Use GlobalMaxPool1D() after the convolution layers.\n",
    "    # r \n",
    "    pool1 = TimeDistributed(GlobalMaxPool1D())(conv1)\n",
    "    pool2 = TimeDistributed(GlobalMaxPool1D())(conv2)\n",
    "    pool3 = TimeDistributed(GlobalMaxPool1D())(conv3)\n",
    "    r = Concatenate()([pool1, pool2, pool3])\n",
    "    # Maxpooling layer will output a tensor of shape (SEQ_LEN, N_FILTERS)\n",
    "    # 这个shape变成这样是因为在GlobalMaxPool1D层，会把每个filter得到的卷积结果中[就是size(WORD_LEN-kernel_size+1)这一维度]的最大值取出来，所以每个filter就只剩一个值了，所以最后的shape就是(SEQ_LEN, N_FILTERS)\n",
    "    # 把两个pooling的结果拼接起来，然后用Dense() layer来做非线性变换，得到z， pool 的shape是(SEQ_LEN, 2*N_FILTERS)\n",
    "    # z = DNN(pool)  you can find r ,z in the lecture slides On Page 75.\n",
    "    z = Dense(r.shape[-1], activation='relu', name='z')(r)\n",
    "    \n",
    "    # Use HighwayLayer() after pooling.\n",
    "    x = HighwayLayer()(z, r)\n",
    "    #Use LSTM() and Dense() layers to output the predictions.\n",
    "    h = LSTM(HIDDEN_DIM, return_sequences=True, name='LSTM')(x)\n",
    "    # LSTM的输出shape(SEQ_LEN, HIDDEN_DIM)\n",
    "    output = Dense(len(vocab) + 1, activation='softmax', name='output')(h)\n",
    "    # len(vocab) + 1 是因为我上边算word2int的时候，整体加了1，所以这里要加1， 如果你没加1，这里就不用加1， 但是出于习惯一般0作为padding的字符要独立出来，所以一般都会加1\n",
    "    model = Model(inputs=input, outputs=output, name = 'Simplified_ELMO')\n",
    "    optimizer = keras.optimizers.RMSprop(learning_rate=0.01)\n",
    "    model.compile(loss='sparse_categorical_crossentropy', optimizer=optimizer, metrics=['accuracy'])\n",
    "    model.summary()\n",
    "    return model\n",
    "model = Simplified_ELMO()\n",
    "history = model.fit(X, Y, epochs=10, batch_size=128, validation_split=0.2)"
   ]
  },
  {
   "cell_type": "code",
   "execution_count": 84,
   "metadata": {},
   "outputs": [
    {
     "data": {
      "image/png": "[encoded data removed]",
      "text/plain": [
       "<Figure size 640x480 with 1 Axes>"
      ]
     },
     "metadata": {},
     "output_type": "display_data"
    }
   ],
   "source": [
    "# Plot loss lots\n",
    "train_loss = history.history['loss']\n",
    "val_loss = history.history['val_loss']\n",
    "plt.plot(train_loss, label='train')\n",
    "plt.plot(val_loss, label='val')\n",
    "plt.legend()\n",
    "plt.show()"
   ]
  },
  {
   "cell_type": "code",
   "execution_count": 85,
   "metadata": {},
   "outputs": [],
   "source": [
    "EMB_DIM = 64\n",
    "N_FILTERS = 64\n",
    "def bidir_model():\n",
    "    inputs = Input(shape=(SEQ_LEN, WORD_LEN), dtype='int32')\n",
    "    emb = TimeDistributed(Embedding(input_dim=len(chars) + 1, output_dim=EMB_DIM, input_length=WORD_LEN, name=\"emb\"))(inputs)\n",
    "    conv1 = TimeDistributed(Conv1D(N_FILTERS, kernel_size=(3), padding = 'same'))(emb)\n",
    "    conv2 = TimeDistributed(Conv1D(N_FILTERS, kernel_size=(4), padding = 'same'))(emb)\n",
    "    conv3 = TimeDistributed(Conv1D(N_FILTERS, kernel_size=(5), padding = 'same'))(emb)\n",
    "\n",
    "    pool1 = TimeDistributed(GlobalMaxPool1D())(conv1)\n",
    "    pool2 = TimeDistributed(GlobalMaxPool1D())(conv2)\n",
    "    pool3 = TimeDistributed(GlobalMaxPool1D())(conv3)\n",
    "\n",
    "    r = Concatenate()([pool1, pool2, pool3])\n",
    "    z = Dense(r.shape[-1], name='z')(r)\n",
    "\n",
    "    x = HighwayLayer()(z, r)\n",
    "    x_reversed = Lambda(lambda x: x[:, ::-1, :])(x)\n",
    "\n",
    "    lstm_units = x.shape[-1] // 2\n",
    "    lstm_f1 = LSTM(lstm_units, return_sequences=True)(x)\n",
    "    # 1.why bias = false and 2.input x center/mean around 0 \n",
    "    linear_f = Dense(lstm_units, use_bias=False)(x)\n",
    "    # xt * W == xt dot z\n",
    "    # 1.skip what connection 2. why learn difference\n",
    "    skip_f = Add()([lstm_f1, linear_f])\n",
    "    lstm_f2 = LSTM(lstm_units, return_sequences=True)(skip_f)\n",
    "    # lstm_f3 (lstm_f2, Dense(lstm_f1), Dense(x))\n",
    "    \n",
    "    lstm_b1 = LSTM(lstm_units, return_sequences=True)(x_reversed)\n",
    "    linear_b = Dense(lstm_units, use_bias=False)(x_reversed)\n",
    "    skip_b = Add()([lstm_b1, linear_b])\n",
    "    lstm_b2 = LSTM(lstm_units, return_sequences=True)(skip_b)\n",
    "    lstm_b2_reversed = Lambda(lambda x: x[:, ::-1, :])(lstm_b2)\n",
    "\n",
    "    outputs = Dense(len(vocab) + 1, activation='softmax')(Concatenate()([lstm_f2, lstm_b2_reversed]))\n",
    "    model = Model(inputs=inputs, outputs=outputs, name='ELMO')\n",
    "    optimizer = keras.optimizers.RMSprop(learning_rate=0.01)\n",
    "    model.compile(loss='sparse_categorical_crossentropy', optimizer=optimizer, metrics=['accuracy'])\n",
    "    model.summary()\n",
    "\n"
   ]
  },
  {
   "cell_type": "code",
   "execution_count": 89,
   "metadata": {},
   "outputs": [
    {
     "name": "stdout",
     "output_type": "stream",
     "text": [
      "Epoch 1/5\n",
      "620/620 [==============================] - 18s 28ms/step - loss: 3.2270 - accuracy: 0.3392 - val_loss: 11.9314 - val_accuracy: 0.1010\n",
      "Epoch 2/5\n",
      "620/620 [==============================] - 17s 28ms/step - loss: 3.2010 - accuracy: 0.3437 - val_loss: 12.2048 - val_accuracy: 0.0974\n",
      "Epoch 3/5\n",
      "620/620 [==============================] - 17s 28ms/step - loss: 3.1817 - accuracy: 0.3469 - val_loss: 12.2974 - val_accuracy: 0.0953\n",
      "Epoch 4/5\n",
      "620/620 [==============================] - 17s 28ms/step - loss: 3.1649 - accuracy: 0.3495 - val_loss: 12.5395 - val_accuracy: 0.0969\n",
      "Epoch 5/5\n",
      "620/620 [==============================] - 17s 28ms/step - loss: 3.1490 - accuracy: 0.3520 - val_loss: 12.8802 - val_accuracy: 0.1014\n"
     ]
    },
    {
     "data": {
      "text/plain": [
       "<keras.callbacks.History at 0x1f4740b0340>"
      ]
     },
     "execution_count": 89,
     "metadata": {},
     "output_type": "execute_result"
    }
   ],
   "source": [
    "EPOCHS = 5\n",
    "model.fit(X, Y, epochs=EPOCHS, batch_size=128, validation_split=0.2)\n"
   ]
  },
  {
   "cell_type": "code",
   "execution_count": 90,
   "metadata": {},
   "outputs": [
    {
     "data": {
      "text/plain": [
       "([<matplotlib.axis.XTick at 0x1f710ade910>,\n",
       "  <matplotlib.axis.XTick at 0x1f710ade730>,\n",
       "  <matplotlib.axis.XTick at 0x1f45c704d30>,\n",
       "  <matplotlib.axis.XTick at 0x1f40120e670>,\n",
       "  <matplotlib.axis.XTick at 0x1f40120e1c0>],\n",
       " [Text(0, 0, '0'),\n",
       "  Text(1, 0, '1'),\n",
       "  Text(2, 0, '2'),\n",
       "  Text(3, 0, '3'),\n",
       "  Text(4, 0, '4')])"
      ]
     },
     "execution_count": 90,
     "metadata": {},
     "output_type": "execute_result"
    },
    {
     "data": {
      "image/png": "[encoded data removed]",
      "text/plain": [
       "<Figure size 640x480 with 1 Axes>"
      ]
     },
     "metadata": {},
     "output_type": "display_data"
    }
   ],
   "source": [
    "plt.plot(model.history.history['loss'], label='train')\n",
    "plt.xlabel('Epochs')\n",
    "plt.ylabel('Loss')\n",
    "plt.title('Training ELMO')\n",
    "plt.xticks(range(EPOCHS))\n"
   ]
  }
 ],
 "metadata": {
  "kernelspec": {
   "display_name": "tf_gpu",
   "language": "python",
   "name": "python3"
  },
  "language_info": {
   "codemirror_mode": {
    "name": "ipython",
    "version": 3
   },
   "file_extension": ".py",
   "mimetype": "text/x-python",
   "name": "python",
   "nbconvert_exporter": "python",
   "pygments_lexer": "ipython3",
   "version": "3.9.16"
  },
  "orig_nbformat": 4
 },
 "nbformat": 4,
 "nbformat_minor": 2
}
